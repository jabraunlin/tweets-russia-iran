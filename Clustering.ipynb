{
 "cells": [
  {
   "cell_type": "markdown",
   "metadata": {},
   "source": [
    "# Iranian Tweet EDA and Topic Modeling"
   ]
  },
  {
   "cell_type": "code",
   "execution_count": 1,
   "metadata": {},
   "outputs": [],
   "source": [
    "import pandas as pd\n",
    "import numpy as np\n",
    "import matplotlib.pyplot as plt\n",
    "import re\n",
    "import nltk\n",
    "import string\n",
    "from nltk.tokenize import TweetTokenizer\n",
    "from sklearn.feature_extraction.text import TfidfVectorizer\n",
    "from sklearn.decomposition import NMF"
   ]
  },
  {
   "cell_type": "markdown",
   "metadata": {},
   "source": [
    "### Data Filtering"
   ]
  },
  {
   "cell_type": "code",
   "execution_count": null,
   "metadata": {},
   "outputs": [],
   "source": [
    "data = pd.read_csv('data/iranian_tweets.csv')"
   ]
  },
  {
   "cell_type": "code",
   "execution_count": null,
   "metadata": {},
   "outputs": [],
   "source": [
    "data.info()"
   ]
  },
  {
   "cell_type": "code",
   "execution_count": null,
   "metadata": {},
   "outputs": [],
   "source": [
    "df = data[['userid','tweet_language','tweet_text','is_retweet','hashtags']]"
   ]
  },
  {
   "cell_type": "code",
   "execution_count": null,
   "metadata": {},
   "outputs": [],
   "source": [
    "df = df[(df.is_retweet==False)&(df.tweet_language=='en')]"
   ]
  },
  {
   "cell_type": "markdown",
   "metadata": {},
   "source": [
    "### Tokenize & Lemmatize, Remove Punctuation"
   ]
  },
  {
   "cell_type": "code",
   "execution_count": null,
   "metadata": {},
   "outputs": [],
   "source": [
    "# Tfidf vectorizer takes care of stop words; it's on us to remove links, punctuation (can include in token pattern?)"
   ]
  },
  {
   "cell_type": "code",
   "execution_count": null,
   "metadata": {},
   "outputs": [],
   "source": [
    "punc = set(string.punctuation+'‘’…°–—“”')\n",
    "lem = nltk.stem.WordNetLemmatizer()\n",
    "twt = TweetTokenizer(reduce_len=True, strip_handles=True)\n",
    "\n",
    "def tweet_tokenize_full(tweet):\n",
    "    tokens = twt.tokenize(tweet)\n",
    "    no_punc = [token for token in tokens if (token[0] not in punc) and (len(token)>2)]\n",
    "    no_links = [token for token in no_punc if token[0:4]!='http']\n",
    "    lemmatized = [lem.lemmatize(token) for token in no_links]\n",
    "    return lemmatized"
   ]
  },
  {
   "cell_type": "code",
   "execution_count": null,
   "metadata": {},
   "outputs": [],
   "source": [
    "num_feats = 1000\n",
    "ngrams = (1,1)\n",
    "vctr = TfidfVectorizer(analyzer='word',\n",
    "                       stop_words='english',\n",
    "                       tokenizer=tweet_tokenize_full,\n",
    "                       max_features=num_feats,\n",
    "                       ngram_range=ngrams)"
   ]
  },
  {
   "cell_type": "code",
   "execution_count": null,
   "metadata": {},
   "outputs": [],
   "source": [
    "X = vctr.fit_transform(df.tweet_text)"
   ]
  },
  {
   "cell_type": "code",
   "execution_count": null,
   "metadata": {},
   "outputs": [],
   "source": [
    "tfidf_vals = X.toarray()"
   ]
  },
  {
   "cell_type": "code",
   "execution_count": null,
   "metadata": {},
   "outputs": [],
   "source": [
    "feature_names = np.array(vctr.get_feature_names())"
   ]
  },
  {
   "cell_type": "code",
   "execution_count": null,
   "metadata": {},
   "outputs": [],
   "source": [
    "tfidf_results = pd.DataFrame(data = tfidf_vals, columns=feature_names)"
   ]
  },
  {
   "cell_type": "code",
   "execution_count": null,
   "metadata": {},
   "outputs": [],
   "source": [
    "n_components = 5\n",
    "nmf = NMF(n_components=n_components, random_state=1, alpha=0.1, solver='mu', max_iter=1000, l1_ratio=0.5).fit(X)"
   ]
  },
  {
   "cell_type": "code",
   "execution_count": null,
   "metadata": {},
   "outputs": [],
   "source": [
    "def print_top_words(model, feature_names, n_top_words):\n",
    "    for topic_idx, topic in enumerate(model.components_):\n",
    "        top_words = [feature_names[i] for i in topic.argsort()[:-n_top_words - 1:-1]]\n",
    "        print(\"Topic #{0}: \\n{1}\\n\".format(topic_idx, top_words))\n",
    "    print()"
   ]
  },
  {
   "cell_type": "code",
   "execution_count": null,
   "metadata": {},
   "outputs": [],
   "source": [
    "n_top_words = 15\n",
    "print_top_words(nmf, feature_names, n_top_words)"
   ]
  },
  {
   "cell_type": "markdown",
   "metadata": {},
   "source": [
    "## Russia Time"
   ]
  },
  {
   "cell_type": "code",
   "execution_count": 28,
   "metadata": {},
   "outputs": [],
   "source": [
    "rus_df = pd.read_csv('data/ira_tweets.csv',nrows=200000)"
   ]
  },
  {
   "cell_type": "code",
   "execution_count": null,
   "metadata": {},
   "outputs": [],
   "source": [
    "rus_df.sample(10)"
   ]
  },
  {
   "cell_type": "code",
   "execution_count": null,
   "metadata": {},
   "outputs": [],
   "source": [
    "list(rus_df.columns)"
   ]
  },
  {
   "cell_type": "markdown",
   "metadata": {},
   "source": [
    "### User Following Analysis"
   ]
  },
  {
   "cell_type": "code",
   "execution_count": null,
   "metadata": {},
   "outputs": [],
   "source": [
    "rus_users_grouper = rus_df.groupby('userid')\n",
    "rus_users = rus_users_grouper.mean()\n",
    "rus_users"
   ]
  },
  {
   "cell_type": "code",
   "execution_count": null,
   "metadata": {},
   "outputs": [],
   "source": [
    "plt.figure(figsize=(12,12))\n",
    "plt.scatter(rus_users['following_count'],rus_users['follower_count'],alpha=0.5)\n",
    "plt.xlim(0,150000)\n",
    "plt.ylim(0,150000)"
   ]
  },
  {
   "cell_type": "code",
   "execution_count": null,
   "metadata": {},
   "outputs": [],
   "source": []
  },
  {
   "cell_type": "code",
   "execution_count": null,
   "metadata": {},
   "outputs": [],
   "source": []
  },
  {
   "cell_type": "code",
   "execution_count": null,
   "metadata": {},
   "outputs": [],
   "source": []
  },
  {
   "cell_type": "code",
   "execution_count": null,
   "metadata": {},
   "outputs": [],
   "source": [
    "rus_df_filt = rus_df[(rus_df.is_retweet==False)&(rus_df.tweet_language=='en')]\n",
    "rus_df_filt = rus_df_filt[['userid','tweet_text','is_retweet','hashtags','urls']]\n",
    "\n",
    "rus_df_filt.sample(10)"
   ]
  },
  {
   "cell_type": "code",
   "execution_count": null,
   "metadata": {},
   "outputs": [],
   "source": [
    "rus_df_filt.loc[80841]['tweet_text']"
   ]
  },
  {
   "cell_type": "code",
   "execution_count": null,
   "metadata": {},
   "outputs": [],
   "source": [
    "rus_df_filt.sample(100)"
   ]
  },
  {
   "cell_type": "code",
   "execution_count": null,
   "metadata": {},
   "outputs": [],
   "source": [
    "rus_df_filt.fillna('',inplace=True)\n",
    "grouper = rus_df_filt.groupby('userid').agg(list)\n",
    "list(grouper.tweet_text.values)[100:200]"
   ]
  },
  {
   "cell_type": "markdown",
   "metadata": {},
   "source": [
    "### Observations / patterns\n",
    "Specific\n",
    "* Some accounts almost exclusively retweet; need to compare to regular users\n",
    "* Frequent link sharing (proxy for retweeting, possibly optimizing follower growth)\n",
    "* Short, pithy quotes, often ending in - or ~ and quote attribution\n",
    "\n",
    "General\n",
    "* Hashtags that are offtopic for tweets (large distance between tweet content in 'tweet2vec' space from 'hashtag2vec', aggregated by user account)\n",
    "* Tweets that are off topic from each other (large distance in net 'tweet2vec' space between user's tweets; counts for retweets as well)\n",
    "* Tweets with inconsistent grammatical structure or vocabulary (different function word usage between tweets by user)\n",
    "* Spamlike hashtag or linking behavior between tweets (tfidf shows high term frequency for link and hashtag strings across user's tweet corpus)"
   ]
  },
  {
   "cell_type": "markdown",
   "metadata": {},
   "source": [
    "### EDA on political tweets dataset"
   ]
  },
  {
   "cell_type": "code",
   "execution_count": null,
   "metadata": {},
   "outputs": [],
   "source": [
    "political_tweets = pd.read_csv('data/political_social_media.csv', encoding = \"ISO-8859-1\")"
   ]
  },
  {
   "cell_type": "code",
   "execution_count": null,
   "metadata": {},
   "outputs": [],
   "source": [
    "list(political_tweets.columns)"
   ]
  },
  {
   "cell_type": "code",
   "execution_count": null,
   "metadata": {},
   "outputs": [],
   "source": [
    "list(political_tweets.sample(100).text.values)"
   ]
  },
  {
   "cell_type": "markdown",
   "metadata": {},
   "source": [
    "### Get Normie Tweets (May 8 2018 snapshot)"
   ]
  },
  {
   "cell_type": "code",
   "execution_count": null,
   "metadata": {},
   "outputs": [],
   "source": [
    "test_df = pd.read_json('data/twitter-2018-05-08/2018/05/08/01/00.json', lines=True)"
   ]
  },
  {
   "cell_type": "code",
   "execution_count": 2,
   "metadata": {},
   "outputs": [],
   "source": [
    "def get_normie_tweets():\n",
    "    subfolders = ['00','01','02','03']\n",
    "    path = 'data/twitter-2018-05-08/2018/05/08'\n",
    "    tweets_df = pd.DataFrame()\n",
    "    \n",
    "    for folder in subfolders:\n",
    "        for i in range(0,10):\n",
    "            try:\n",
    "                temp_df = pd.read_json('{0}/{1}/0{2}.json'.format(path,folder,i), lines=True)\n",
    "                temp_df = temp_df[temp_df['lang']=='en']\n",
    "                tweets_df = pd.concat([tweets_df,temp_df],sort=True)\n",
    "            except:\n",
    "                continue\n",
    "        for i in range(10,60):\n",
    "            try:\n",
    "                temp_df = pd.read_json('{0}/{1}/{2}.json'.format(path,folder,i), lines=True)\n",
    "                temp_df = temp_df[temp_df['lang']=='en']\n",
    "                tweets_df = pd.concat([tweets_df,temp_df],sort=True)  \n",
    "            except:\n",
    "                continue\n",
    "    \n",
    "    return tweets_df"
   ]
  },
  {
   "cell_type": "code",
   "execution_count": 3,
   "metadata": {},
   "outputs": [],
   "source": [
    "eng_tweets = get_normie_tweets()"
   ]
  },
  {
   "cell_type": "code",
   "execution_count": null,
   "metadata": {},
   "outputs": [],
   "source": [
    "tweets_df = pd.DataFrame()\n",
    "for i in range(0,10):\n",
    "    temp_df = pd.read_json('data/twitter-2018-05-08/2018/05/08/01/0{}.json'.format(i), lines=True)\n",
    "    tweets_df = pd.concat([tweets_df,temp_df],sort=True)\n",
    "for i in range(10,58):\n",
    "    temp_df = pd.read_json('data/twitter-2018-05-08/2018/05/08/01/{}.json'.format(i), lines=True)\n",
    "    tweets_df = pd.concat([tweets_df,temp_df],sort=True)  \n",
    "tweets_df.info()"
   ]
  },
  {
   "cell_type": "markdown",
   "metadata": {},
   "source": [
    "### Notes on user accounts"
   ]
  },
  {
   "cell_type": "markdown",
   "metadata": {},
   "source": [
    "real people user account data (example):\n",
    "* 'id'\n",
    "*  'name': 'Claptrap',\n",
    "*  'screen_name': 'ECHOcasts_ebook',\n",
    "*  'location': None,\n",
    "*  'description': 'I can see… the code',\n",
    "*  'url': None,\n",
    "*  'followers_count': 35,\n",
    "*  'friends_count': 14,\n",
    "*  'statuses_count': 16506,\n",
    "*  'created_at': 'Sat Mar 19 17:12:51 +0000 2016',\n",
    "*  'lang': 'fr',}\n",
    "\n",
    "comparable IRA account data:\n",
    "* 'userid',\n",
    "* 'user_display_name',\n",
    "* 'user_screen_name',\n",
    "* 'user_reported_location',\n",
    "* 'user_profile_description',\n",
    "* 'user_profile_url',\n",
    "* 'follower_count',\n",
    "* 'following_count',\n",
    "* <<< impute statuses count >>>\n",
    "* 'account_creation_date',\n",
    "* 'account_language',"
   ]
  },
  {
   "cell_type": "code",
   "execution_count": 18,
   "metadata": {},
   "outputs": [
    {
     "data": {
      "text/plain": [
       "[{'id': 2572835998,\n",
       "  'id_str': '2572835998',\n",
       "  'name': 'Bright Opportunities',\n",
       "  'screen_name': 'OppBright',\n",
       "  'location': 'Buxton Derbyshire ',\n",
       "  'url': 'http://www.brightopportunities.org.uk',\n",
       "  'description': None,\n",
       "  'translator_type': 'none',\n",
       "  'protected': False,\n",
       "  'verified': False,\n",
       "  'followers_count': 158,\n",
       "  'friends_count': 604,\n",
       "  'listed_count': 1,\n",
       "  'favourites_count': 202,\n",
       "  'statuses_count': 3315,\n",
       "  'created_at': 'Fri May 30 20:43:21 +0000 2014',\n",
       "  'utc_offset': None,\n",
       "  'time_zone': None,\n",
       "  'geo_enabled': False,\n",
       "  'lang': 'en',\n",
       "  'contributors_enabled': False,\n",
       "  'is_translator': False,\n",
       "  'profile_background_color': 'C0DEED',\n",
       "  'profile_background_image_url': 'http://abs.twimg.com/images/themes/theme1/bg.png',\n",
       "  'profile_background_image_url_https': 'https://abs.twimg.com/images/themes/theme1/bg.png',\n",
       "  'profile_background_tile': False,\n",
       "  'profile_link_color': '1DA1F2',\n",
       "  'profile_sidebar_border_color': 'C0DEED',\n",
       "  'profile_sidebar_fill_color': 'DDEEF6',\n",
       "  'profile_text_color': '333333',\n",
       "  'profile_use_background_image': True,\n",
       "  'profile_image_url': 'http://pbs.twimg.com/profile_images/641942994468405248/goIOCdeG_normal.jpg',\n",
       "  'profile_image_url_https': 'https://pbs.twimg.com/profile_images/641942994468405248/goIOCdeG_normal.jpg',\n",
       "  'default_profile': True,\n",
       "  'default_profile_image': False,\n",
       "  'following': None,\n",
       "  'follow_request_sent': None,\n",
       "  'notifications': None},\n",
       " {'id': 816842254958678016,\n",
       "  'id_str': '816842254958678016',\n",
       "  'name': 'Kallybot',\n",
       "  'screen_name': 'Kallybot',\n",
       "  'location': None,\n",
       "  'url': None,\n",
       "  'description': '@Botnarhtim is my botfriend. @Mahounasu is my mom',\n",
       "  'translator_type': 'none',\n",
       "  'protected': False,\n",
       "  'verified': False,\n",
       "  'followers_count': 50,\n",
       "  'friends_count': 43,\n",
       "  'listed_count': 0,\n",
       "  'favourites_count': 160,\n",
       "  'statuses_count': 3375,\n",
       "  'created_at': 'Thu Jan 05 03:02:24 +0000 2017',\n",
       "  'utc_offset': None,\n",
       "  'time_zone': None,\n",
       "  'geo_enabled': False,\n",
       "  'lang': 'en',\n",
       "  'contributors_enabled': False,\n",
       "  'is_translator': False,\n",
       "  'profile_background_color': '000000',\n",
       "  'profile_background_image_url': 'http://abs.twimg.com/images/themes/theme1/bg.png',\n",
       "  'profile_background_image_url_https': 'https://abs.twimg.com/images/themes/theme1/bg.png',\n",
       "  'profile_background_tile': False,\n",
       "  'profile_link_color': '981CEB',\n",
       "  'profile_sidebar_border_color': '000000',\n",
       "  'profile_sidebar_fill_color': '000000',\n",
       "  'profile_text_color': '000000',\n",
       "  'profile_use_background_image': False,\n",
       "  'profile_image_url': 'http://pbs.twimg.com/profile_images/968972832981114886/HnmbFAPi_normal.jpg',\n",
       "  'profile_image_url_https': 'https://pbs.twimg.com/profile_images/968972832981114886/HnmbFAPi_normal.jpg',\n",
       "  'profile_banner_url': 'https://pbs.twimg.com/profile_banners/816842254958678016/1519588640',\n",
       "  'default_profile': False,\n",
       "  'default_profile_image': False,\n",
       "  'following': None,\n",
       "  'follow_request_sent': None,\n",
       "  'notifications': None},\n",
       " {'id': 459650206,\n",
       "  'id_str': '459650206',\n",
       "  'name': 'MasterControlProject',\n",
       "  'screen_name': 'M_C_P_',\n",
       "  'location': 'Ontario, Canada',\n",
       "  'url': 'http://planetstephanie.net/',\n",
       "  'description': 'Automated control and sensor device, based on a Raspberry Pi. Now the lasers are violet!',\n",
       "  'translator_type': 'none',\n",
       "  'protected': False,\n",
       "  'verified': False,\n",
       "  'followers_count': 25,\n",
       "  'friends_count': 3,\n",
       "  'listed_count': 2,\n",
       "  'favourites_count': 0,\n",
       "  'statuses_count': 32283,\n",
       "  'created_at': 'Mon Jan 09 22:21:16 +0000 2012',\n",
       "  'utc_offset': -14400,\n",
       "  'time_zone': 'Eastern Time (US & Canada)',\n",
       "  'geo_enabled': False,\n",
       "  'lang': 'en',\n",
       "  'contributors_enabled': False,\n",
       "  'is_translator': False,\n",
       "  'profile_background_color': '131516',\n",
       "  'profile_background_image_url': 'http://pbs.twimg.com/profile_background_images/397860170/DSCF1125.JPG',\n",
       "  'profile_background_image_url_https': 'https://pbs.twimg.com/profile_background_images/397860170/DSCF1125.JPG',\n",
       "  'profile_background_tile': True,\n",
       "  'profile_link_color': '009999',\n",
       "  'profile_sidebar_border_color': 'EEEEEE',\n",
       "  'profile_sidebar_fill_color': 'EFEFEF',\n",
       "  'profile_text_color': '333333',\n",
       "  'profile_use_background_image': True,\n",
       "  'profile_image_url': 'http://pbs.twimg.com/profile_images/476799287561428992/hd5KOy9e_normal.jpeg',\n",
       "  'profile_image_url_https': 'https://pbs.twimg.com/profile_images/476799287561428992/hd5KOy9e_normal.jpeg',\n",
       "  'default_profile': False,\n",
       "  'default_profile_image': False,\n",
       "  'following': None,\n",
       "  'follow_request_sent': None,\n",
       "  'notifications': None},\n",
       " {'id': 4326226822,\n",
       "  'id_str': '4326226822',\n",
       "  'name': 'Olaitan Adeyemi🇳🇬👌',\n",
       "  'screen_name': 'laimojito',\n",
       "  'location': 'Planet Earth, Africa, NG',\n",
       "  'url': None,\n",
       "  'description': '#Sage🔥| #Realtor | #Investor | #Consultant | #Soldier | #SystemAnalyst | #CM | #LD |#Chelsea | #Juventus | #CarEnthusiast |',\n",
       "  'translator_type': 'none',\n",
       "  'protected': False,\n",
       "  'verified': False,\n",
       "  'followers_count': 262,\n",
       "  'friends_count': 421,\n",
       "  'listed_count': 2,\n",
       "  'favourites_count': 1520,\n",
       "  'statuses_count': 1666,\n",
       "  'created_at': 'Mon Nov 30 06:37:22 +0000 2015',\n",
       "  'utc_offset': 3600,\n",
       "  'time_zone': 'West Central Africa',\n",
       "  'geo_enabled': True,\n",
       "  'lang': 'en',\n",
       "  'contributors_enabled': False,\n",
       "  'is_translator': False,\n",
       "  'profile_background_color': '3B94D9',\n",
       "  'profile_background_image_url': 'http://abs.twimg.com/images/themes/theme4/bg.gif',\n",
       "  'profile_background_image_url_https': 'https://abs.twimg.com/images/themes/theme4/bg.gif',\n",
       "  'profile_background_tile': False,\n",
       "  'profile_link_color': '1B95E0',\n",
       "  'profile_sidebar_border_color': '000000',\n",
       "  'profile_sidebar_fill_color': '000000',\n",
       "  'profile_text_color': '000000',\n",
       "  'profile_use_background_image': True,\n",
       "  'profile_image_url': 'http://pbs.twimg.com/profile_images/682648866450190337/PCqJMViP_normal.jpg',\n",
       "  'profile_image_url_https': 'https://pbs.twimg.com/profile_images/682648866450190337/PCqJMViP_normal.jpg',\n",
       "  'profile_banner_url': 'https://pbs.twimg.com/profile_banners/4326226822/1524760133',\n",
       "  'default_profile': False,\n",
       "  'default_profile_image': False,\n",
       "  'following': None,\n",
       "  'follow_request_sent': None,\n",
       "  'notifications': None},\n",
       " {'id': 52145248,\n",
       "  'id_str': '52145248',\n",
       "  'name': 'Jularee',\n",
       "  'screen_name': 'jularee',\n",
       "  'location': 'New Jersey, USA',\n",
       "  'url': 'http://www.jularee.com',\n",
       "  'description': \"I'm always creating...either with words, wire, or food depending on the muse. Young Living Distributor #1107572 ~Rita\",\n",
       "  'translator_type': 'none',\n",
       "  'protected': False,\n",
       "  'verified': False,\n",
       "  'followers_count': 5216,\n",
       "  'friends_count': 2927,\n",
       "  'listed_count': 634,\n",
       "  'favourites_count': 2556,\n",
       "  'statuses_count': 100092,\n",
       "  'created_at': 'Mon Jun 29 18:41:34 +0000 2009',\n",
       "  'utc_offset': -14400,\n",
       "  'time_zone': 'Eastern Time (US & Canada)',\n",
       "  'geo_enabled': False,\n",
       "  'lang': 'en',\n",
       "  'contributors_enabled': False,\n",
       "  'is_translator': False,\n",
       "  'profile_background_color': '1A1B1F',\n",
       "  'profile_background_image_url': 'http://pbs.twimg.com/profile_background_images/832377243/0b5c4f702f67bc1ca17e24c1b3c2d810.jpeg',\n",
       "  'profile_background_image_url_https': 'https://pbs.twimg.com/profile_background_images/832377243/0b5c4f702f67bc1ca17e24c1b3c2d810.jpeg',\n",
       "  'profile_background_tile': True,\n",
       "  'profile_link_color': '8C7FE8',\n",
       "  'profile_sidebar_border_color': '000000',\n",
       "  'profile_sidebar_fill_color': '252429',\n",
       "  'profile_text_color': '666666',\n",
       "  'profile_use_background_image': False,\n",
       "  'profile_image_url': 'http://pbs.twimg.com/profile_images/980909345394147328/kzMpkbpU_normal.jpg',\n",
       "  'profile_image_url_https': 'https://pbs.twimg.com/profile_images/980909345394147328/kzMpkbpU_normal.jpg',\n",
       "  'profile_banner_url': 'https://pbs.twimg.com/profile_banners/52145248/1454017306',\n",
       "  'default_profile': False,\n",
       "  'default_profile_image': False,\n",
       "  'following': None,\n",
       "  'follow_request_sent': None,\n",
       "  'notifications': None},\n",
       " {'id': 1917907766,\n",
       "  'id_str': '1917907766',\n",
       "  'name': 'O5.16 😋😻🎉',\n",
       "  'screen_name': 'keepingupwniyaa',\n",
       "  'location': 'Columbus, OH',\n",
       "  'url': 'http://keepingupwithniya.wordpress.com',\n",
       "  'description': \"I'm just a crybaby who loves food | SC : niyaababy |class of 2017 | #WU21 💚💛| Model | Future Journalist | Future TV Personality | Miss Sophomore 2018-2019 ✨\",\n",
       "  'translator_type': 'none',\n",
       "  'protected': False,\n",
       "  'verified': False,\n",
       "  'followers_count': 9933,\n",
       "  'friends_count': 7547,\n",
       "  'listed_count': 64,\n",
       "  'favourites_count': 90964,\n",
       "  'statuses_count': 202106,\n",
       "  'created_at': 'Sun Sep 29 19:09:13 +0000 2013',\n",
       "  'utc_offset': None,\n",
       "  'time_zone': None,\n",
       "  'geo_enabled': True,\n",
       "  'lang': 'en',\n",
       "  'contributors_enabled': False,\n",
       "  'is_translator': False,\n",
       "  'profile_background_color': 'C0DEED',\n",
       "  'profile_background_image_url': 'http://pbs.twimg.com/profile_background_images/657515378059419648/H_9GR-AG.jpg',\n",
       "  'profile_background_image_url_https': 'https://pbs.twimg.com/profile_background_images/657515378059419648/H_9GR-AG.jpg',\n",
       "  'profile_background_tile': True,\n",
       "  'profile_link_color': 'FAB81E',\n",
       "  'profile_sidebar_border_color': '000000',\n",
       "  'profile_sidebar_fill_color': 'DDEEF6',\n",
       "  'profile_text_color': '333333',\n",
       "  'profile_use_background_image': True,\n",
       "  'profile_image_url': 'http://pbs.twimg.com/profile_images/993345727144316928/a1s-xzu7_normal.jpg',\n",
       "  'profile_image_url_https': 'https://pbs.twimg.com/profile_images/993345727144316928/a1s-xzu7_normal.jpg',\n",
       "  'profile_banner_url': 'https://pbs.twimg.com/profile_banners/1917907766/1523156802',\n",
       "  'default_profile': False,\n",
       "  'default_profile_image': False,\n",
       "  'following': None,\n",
       "  'follow_request_sent': None,\n",
       "  'notifications': None},\n",
       " {'id': 755188056,\n",
       "  'id_str': '755188056',\n",
       "  'name': 'Tcee 🇳🇬',\n",
       "  'screen_name': 'emmaikumeh',\n",
       "  'location': 'Nigeria',\n",
       "  'url': None,\n",
       "  'description': 'Be the change you want to see in others. http://B.sc mech engr. lover of God, @arsenal fan, proudly PDP member..',\n",
       "  'translator_type': 'none',\n",
       "  'protected': False,\n",
       "  'verified': False,\n",
       "  'followers_count': 10256,\n",
       "  'friends_count': 3868,\n",
       "  'listed_count': 78,\n",
       "  'favourites_count': 2683,\n",
       "  'statuses_count': 123572,\n",
       "  'created_at': 'Mon Aug 13 13:55:02 +0000 2012',\n",
       "  'utc_offset': None,\n",
       "  'time_zone': None,\n",
       "  'geo_enabled': True,\n",
       "  'lang': 'en',\n",
       "  'contributors_enabled': False,\n",
       "  'is_translator': False,\n",
       "  'profile_background_color': 'C0DEED',\n",
       "  'profile_background_image_url': 'http://abs.twimg.com/images/themes/theme1/bg.png',\n",
       "  'profile_background_image_url_https': 'https://abs.twimg.com/images/themes/theme1/bg.png',\n",
       "  'profile_background_tile': False,\n",
       "  'profile_link_color': '1DA1F2',\n",
       "  'profile_sidebar_border_color': 'C0DEED',\n",
       "  'profile_sidebar_fill_color': 'DDEEF6',\n",
       "  'profile_text_color': '333333',\n",
       "  'profile_use_background_image': True,\n",
       "  'profile_image_url': 'http://pbs.twimg.com/profile_images/985799561083019264/wsjiFVTY_normal.jpg',\n",
       "  'profile_image_url_https': 'https://pbs.twimg.com/profile_images/985799561083019264/wsjiFVTY_normal.jpg',\n",
       "  'profile_banner_url': 'https://pbs.twimg.com/profile_banners/755188056/1449937107',\n",
       "  'default_profile': True,\n",
       "  'default_profile_image': False,\n",
       "  'following': None,\n",
       "  'follow_request_sent': None,\n",
       "  'notifications': None},\n",
       " {'id': 952519543368265729,\n",
       "  'id_str': '952519543368265729',\n",
       "  'name': 'Aruna',\n",
       "  'screen_name': 'ilovelyarmy1',\n",
       "  'location': None,\n",
       "  'url': None,\n",
       "  'description': 'keep calm and love BTS.\\nfan account',\n",
       "  'translator_type': 'none',\n",
       "  'protected': False,\n",
       "  'verified': False,\n",
       "  'followers_count': 84,\n",
       "  'friends_count': 42,\n",
       "  'listed_count': 0,\n",
       "  'favourites_count': 765,\n",
       "  'statuses_count': 13981,\n",
       "  'created_at': 'Sun Jan 14 12:35:30 +0000 2018',\n",
       "  'utc_offset': None,\n",
       "  'time_zone': None,\n",
       "  'geo_enabled': False,\n",
       "  'lang': 'en',\n",
       "  'contributors_enabled': False,\n",
       "  'is_translator': False,\n",
       "  'profile_background_color': 'F5F8FA',\n",
       "  'profile_background_image_url': '',\n",
       "  'profile_background_image_url_https': '',\n",
       "  'profile_background_tile': False,\n",
       "  'profile_link_color': '1DA1F2',\n",
       "  'profile_sidebar_border_color': 'C0DEED',\n",
       "  'profile_sidebar_fill_color': 'DDEEF6',\n",
       "  'profile_text_color': '333333',\n",
       "  'profile_use_background_image': True,\n",
       "  'profile_image_url': 'http://pbs.twimg.com/profile_images/992410260815179777/Z7pZXFnQ_normal.jpg',\n",
       "  'profile_image_url_https': 'https://pbs.twimg.com/profile_images/992410260815179777/Z7pZXFnQ_normal.jpg',\n",
       "  'profile_banner_url': 'https://pbs.twimg.com/profile_banners/952519543368265729/1522943591',\n",
       "  'default_profile': True,\n",
       "  'default_profile_image': False,\n",
       "  'following': None,\n",
       "  'follow_request_sent': None,\n",
       "  'notifications': None},\n",
       " {'id': 799523988615680000,\n",
       "  'id_str': '799523988615680000',\n",
       "  'name': 'Gunnar Gunnarsson',\n",
       "  'screen_name': 'LSATgunner',\n",
       "  'location': 'TX',\n",
       "  'url': None,\n",
       "  'description': '6σ, collector of brass rings, aspiring philosopher and humanitarian.',\n",
       "  'translator_type': 'none',\n",
       "  'protected': False,\n",
       "  'verified': False,\n",
       "  'followers_count': 527,\n",
       "  'friends_count': 281,\n",
       "  'listed_count': 20,\n",
       "  'favourites_count': 105389,\n",
       "  'statuses_count': 37349,\n",
       "  'created_at': 'Fri Nov 18 08:05:48 +0000 2016',\n",
       "  'utc_offset': None,\n",
       "  'time_zone': None,\n",
       "  'geo_enabled': False,\n",
       "  'lang': 'en',\n",
       "  'contributors_enabled': False,\n",
       "  'is_translator': False,\n",
       "  'profile_background_color': '000000',\n",
       "  'profile_background_image_url': 'http://abs.twimg.com/images/themes/theme1/bg.png',\n",
       "  'profile_background_image_url_https': 'https://abs.twimg.com/images/themes/theme1/bg.png',\n",
       "  'profile_background_tile': False,\n",
       "  'profile_link_color': '000000',\n",
       "  'profile_sidebar_border_color': '000000',\n",
       "  'profile_sidebar_fill_color': '000000',\n",
       "  'profile_text_color': '000000',\n",
       "  'profile_use_background_image': False,\n",
       "  'profile_image_url': 'http://pbs.twimg.com/profile_images/944242766711685120/ZY3iMtaB_normal.jpg',\n",
       "  'profile_image_url_https': 'https://pbs.twimg.com/profile_images/944242766711685120/ZY3iMtaB_normal.jpg',\n",
       "  'profile_banner_url': 'https://pbs.twimg.com/profile_banners/799523988615680000/1519645757',\n",
       "  'default_profile': False,\n",
       "  'default_profile_image': False,\n",
       "  'following': None,\n",
       "  'follow_request_sent': None,\n",
       "  'notifications': None},\n",
       " {'id': 1374856753,\n",
       "  'id_str': '1374856753',\n",
       "  'name': 'Faith Collins',\n",
       "  'screen_name': 'faithcollinsfc',\n",
       "  'location': None,\n",
       "  'url': 'https://www.youtube.com/channel/UCpPQ2lEYI7jBOFrrc9EiGfA?view_as=subscriber',\n",
       "  'description': \"If you don't ask...you don't get!\",\n",
       "  'translator_type': 'none',\n",
       "  'protected': False,\n",
       "  'verified': False,\n",
       "  'followers_count': 401,\n",
       "  'friends_count': 240,\n",
       "  'listed_count': 21,\n",
       "  'favourites_count': 6761,\n",
       "  'statuses_count': 9001,\n",
       "  'created_at': 'Tue Apr 23 15:47:05 +0000 2013',\n",
       "  'utc_offset': None,\n",
       "  'time_zone': None,\n",
       "  'geo_enabled': True,\n",
       "  'lang': 'en',\n",
       "  'contributors_enabled': False,\n",
       "  'is_translator': False,\n",
       "  'profile_background_color': 'C0DEED',\n",
       "  'profile_background_image_url': 'http://abs.twimg.com/images/themes/theme1/bg.png',\n",
       "  'profile_background_image_url_https': 'https://abs.twimg.com/images/themes/theme1/bg.png',\n",
       "  'profile_background_tile': False,\n",
       "  'profile_link_color': '1DA1F2',\n",
       "  'profile_sidebar_border_color': 'C0DEED',\n",
       "  'profile_sidebar_fill_color': 'DDEEF6',\n",
       "  'profile_text_color': '333333',\n",
       "  'profile_use_background_image': True,\n",
       "  'profile_image_url': 'http://pbs.twimg.com/profile_images/898242966183071744/emHQJYS9_normal.jpg',\n",
       "  'profile_image_url_https': 'https://pbs.twimg.com/profile_images/898242966183071744/emHQJYS9_normal.jpg',\n",
       "  'profile_banner_url': 'https://pbs.twimg.com/profile_banners/1374856753/1516744595',\n",
       "  'default_profile': True,\n",
       "  'default_profile_image': False,\n",
       "  'following': None,\n",
       "  'follow_request_sent': None,\n",
       "  'notifications': None}]"
      ]
     },
     "execution_count": 18,
     "metadata": {},
     "output_type": "execute_result"
    }
   ],
   "source": [
    "list(eng_tweets['user'].values[:10])"
   ]
  },
  {
   "cell_type": "code",
   "execution_count": null,
   "metadata": {},
   "outputs": [],
   "source": [
    "def get_user_data(row):\n",
    "    row['userid'] = row['user']['id']\n",
    "    row['follower_count'] = row['user']['followers_count']\n",
    "    row['following_count'] = row['user']['friends_count']\n",
    "    return row\n",
    "    \n",
    "eng_users = eng_tweets.apply(get_user_data, axis=1)\n",
    "eng_users.sample(10)"
   ]
  },
  {
   "cell_type": "code",
   "execution_count": null,
   "metadata": {},
   "outputs": [],
   "source": [
    "eng_users.info()"
   ]
  },
  {
   "cell_type": "code",
   "execution_count": null,
   "metadata": {},
   "outputs": [],
   "source": [
    "eng_users_grouper = eng_users[['userid','follower_count','following_count','reply_count','retweeted','quote_count']].groupby('userid')\n",
    "eng_users_grouped = eng_users_grouper.mean()"
   ]
  },
  {
   "cell_type": "code",
   "execution_count": null,
   "metadata": {},
   "outputs": [],
   "source": [
    "fig, axs = plt.subplots(1,2, sharey=True)\n",
    "ax1 = axs[0]\n",
    "ax2 = axs[1]\n",
    "fig.set_figheight(12)\n",
    "fig.set_figwidth(24)\n",
    "ax1.scatter(eng_users_grouped['following_count'],eng_users_grouped['follower_count'],alpha=0.1)\n",
    "ax2.scatter(rus_users['following_count'],rus_users['follower_count'],alpha=0.2, color='r')\n",
    "ax1.set_xlim(0,5000)\n",
    "ax2.set_xlim(0,5000)\n",
    "ax1.set_ylim(0,5000)"
   ]
  },
  {
   "cell_type": "markdown",
   "metadata": {},
   "source": [
    "### Define follower ratio"
   ]
  },
  {
   "cell_type": "code",
   "execution_count": null,
   "metadata": {},
   "outputs": [],
   "source": [
    "eng_users_grouped['follower_ratio'] = eng_users_grouped['follower_count']/(eng_users_grouped['following_count']+1)\n",
    "rus_users['follower_ratio'] = rus_users['follower_count']/(rus_users['following_count']+1)"
   ]
  },
  {
   "cell_type": "code",
   "execution_count": null,
   "metadata": {},
   "outputs": [],
   "source": [
    "fig, axs = plt.subplots(1,2)\n",
    "ax1 = axs[0]\n",
    "ax2 = axs[1]\n",
    "fig.set_figheight(12)\n",
    "fig.set_figwidth(24)\n",
    "ax1.hist(eng_users_grouped['follower_ratio'],bins=[0,.2,.4,.6,.8,1,1.2,1.4,1.6,1.8,2])\n",
    "ax2.hist(rus_users['follower_ratio'],bins=[0,.2,.4,.6,.8,1,1.2,1.4,1.6,1.8,2], color='r')\n",
    "# ax1.set_xscale('log')\n",
    "# ax2.set_xscale('log')"
   ]
  },
  {
   "cell_type": "markdown",
   "metadata": {},
   "source": [
    "There is not a significant difference in the distribution of follower:following ratios, except that russians do a bit worse than average."
   ]
  },
  {
   "cell_type": "code",
   "execution_count": null,
   "metadata": {},
   "outputs": [],
   "source": [
    "eng_users_grouped['follower_ratio'].describe()"
   ]
  },
  {
   "cell_type": "code",
   "execution_count": null,
   "metadata": {},
   "outputs": [],
   "source": [
    "rus_users['follower_ratio'].describe()"
   ]
  },
  {
   "cell_type": "markdown",
   "metadata": {},
   "source": [
    "### Add retweet metadata to normal and russian tweets"
   ]
  },
  {
   "cell_type": "code",
   "execution_count": 19,
   "metadata": {},
   "outputs": [],
   "source": [
    "def add_retweet_metadata(row):\n",
    "    text = row['text']\n",
    "    if text[0:4]=='RT @' or ': RT ' in text:\n",
    "        row['is_retweet'] = 1\n",
    "        row['is_quote_tweet'] = 0\n",
    "    elif ' RT ' in text:\n",
    "        row['is_quote_tweet'] = 1\n",
    "        row['quote_tweet_text'] = re.split(' RT ',text)[0]\n",
    "    else:\n",
    "        row['is_retweet'] = 0\n",
    "        row['is_quote_tweet'] = 0\n",
    "    return row"
   ]
  },
  {
   "cell_type": "code",
   "execution_count": 20,
   "metadata": {},
   "outputs": [],
   "source": [
    "norm_tweets = eng_tweets.apply(add_retweet_metadata,axis=1)"
   ]
  },
  {
   "cell_type": "code",
   "execution_count": 24,
   "metadata": {},
   "outputs": [
    {
     "data": {
      "text/plain": [
       "array(['RT @biticonjustine: WELCOME TO THE CHURCH OF RIHANNA. COME. SHE SHALL BAPTIZE YOU IN BODY LAVA AND SIN. https://t.co/xIvBunLnhO',\n",
       "       'RT @HectorBellerin: Such an emotional day to play our last game together. You have been a role model on and off the pitch for me and many y…',\n",
       "       'RT @trackpop_: How can you not love BTS? https://t.co/CHHh70U2te',\n",
       "       'RT @RandyEBarnett: 7 of 19 were written by liberals. Ancillary list of authors at the end provides many more. https://t.co/jd5S4Ni9T7',\n",
       "       'RT @MiltShook: This is true. The question is, why do so many on the left go after her? Because she doesn’t always fulfill their cartoon ver…',\n",
       "       'RT @nctzenunion_usa: [ #OFFICIAL ] 180503 M Countdown with MC #JOHNNY (1)\\n@NCTsmtown #NCT \\n📸: https://t.co/ov0icvVqwC https://t.co/G6a68HTV…',\n",
       "       'RT @Priyabh70915309: This 😍😍😘😘❤ #keesh\\n#naksh #Keerti \\n#yrkkh https://t.co/LiUQAjK7qt',\n",
       "       \"RT @StevieWonder: .@BTS_twt's full dream.  Share your dream &amp; post your own #DreamStillLives video. Spread love...spread hope. https://t.co…\",\n",
       "       'RT @belbeeps: I demand more Polly and Oz content #monsterprom https://t.co/uxiI2UNXe1',\n",
       "       'RT @ThinkLumi: Excellent news! The second installment of my art clothing collab with @INTOTHEAM is now live!\\n\\nGrab these and many other des…',\n",
       "       'RT @Chris_Goth: How my friend managed to look like a baby and an old man at the same time would always be beyond me https://t.co/xbcfE3g0HW',\n",
       "       'RT @NaziGermanCoins: #Trump Dollar Coin On #Ebay!  Own/Invest In History!\\nhttps://t.co/ikMhfTBrja\\n.\\n.\\n.\\n#Donald #DonaldTrump #News #Love #W…',\n",
       "       'RT @erikadunn_: let there be lights in the firmament of heaven #MetGala https://t.co/FtkvLgOTMI',\n",
       "       'RT @thecoinchaser: Wtf? I bought BCN and my account isn’t showing its bought! Order complete and it’s fluctuating and it shows my coin but…',\n",
       "       'RT @SoljisForehead: BlackPink really took the title As If It’s Your Last seriously.',\n",
       "       'RT @lupevetee: No matter where y’all are from in Tonga, whether you speak the language or not, it’s so important to go back &amp; see where y’a…',\n",
       "       'RT @TaliaMarMusic: Jason de’roll’o https://t.co/AU4mUhsfM6',\n",
       "       \"RT @StevieWonder: .@BTS_twt's full dream.  Share your dream &amp; post your own #DreamStillLives video. Spread love...spread hope. https://t.co…\",\n",
       "       'RT @winterstarsnjh: Q U E E N S #MetGala https://t.co/jLCElnrO2Y',\n",
       "       'RT @lupevetee: No matter where y’all are from in Tonga, whether you speak the language or not, it’s so important to go back &amp; see where y’a…',\n",
       "       'RT @curtin_rc: The AMP scandal deepens, but it’s a symptom of a more widespread malaise. Time for a shakeup of our  #corpgov culture. More…',\n",
       "       'RT @ChynaBandz: ITS SAD THAT this 3yr old Child’s Death wasn’t viral to the world because he was hit by a car and killed by a White woman a…',\n",
       "       'RT @svtmutualss: rt this to gain seventeen stan mutuals, follow everyone who retweets this and make sure to follow back, and turn notificat…',\n",
       "       'RT @tropicocunt: im shaking you guys https://t.co/xDN7NpObxt',\n",
       "       \"RT @mmobara: I will Die for you '' Says your boyfriend who urinates in a container at night because of fear of going outside in the dark....\",\n",
       "       \"RT @BENEFITS_NEWS: @DWP If it was that great you wouldn't need to spend #BankHolidayMonday night on here, after #Dispatches EXPOSED TORY IN…\",\n",
       "       'RT @lts13Reasons: WHOSE READY FOR SEASON 2  https://t.co/nulAeLQjUQ',\n",
       "       'RT @tbonwyW1: 180225\\nDaniel\\'s update with Guanlin \\n\\n\"I\\'m sorry. I uploaded it wrongly. I\\'m not used to gif.\" \\n\\nPls. do not leak. Thank you.…',\n",
       "       'RT @EXOandAesthetic: Before the headmaster talking ▪ chanbaek https://t.co/YRaW1tLGVK',\n",
       "       'RT @bartierbrat: want some sex 😩',\n",
       "       'RT @backlon: Dear iPhone, Mac, Windows, and ChromeOS:\\n\\nAll operating systems should have the ability to set a custom default intelligent as…',\n",
       "       'RT @btsvotingteam: 🔔 #MTVLAKPOPBTS 🔔\\n[ 12:00 - 1:00 PM KST ]\\n\\n1. @BTS_twt : 72.7K+ \\n2.                     : 37K+\\n\\nIncrease our rate now. 🏆…',\n",
       "       'RT @zouisonly: louis carrying the other members of one direction for the entirety of the band’s career https://t.co/XpZIHZcVtY',\n",
       "       'RT @james_burn: 11 councillors in Solihull - joint biggest group in the UK! Huge thanks to everyone who trusted us with their votes. https:…',\n",
       "       'RT @k0ngie_k: Me whenever I think of how much their time has been wasted for almost a year in PLEDIS basement https://t.co/bGVxPk7xtv',\n",
       "       'RT @TRL: .@lifeofdesiigner and @realsway are all about @BTS_twt and honestly very much same #TRL https://t.co/dOLgPVet8T',\n",
       "       'RT @MindCureCorner: TRANSFORM YOUR LIFE CLOSE THE GAP BETWEEN WHERE YOU ARE TODAY – AND WHERE YOU WANT TO BE WITH #TONYROBBINS  CLICK HERE…',\n",
       "       'RT @vinnybrack: When your girl’s always getting hit on cause she’s sexy but it’s your fault cause you wanted a sexy girlfriend https://t.co…',\n",
       "       'RT @ashleybeteta: This is so cute! This fan said:\\nLEE JUNG SHIN!!! Jung-shin oppa please appear to me too ㅠㅠ\\nIf you do I promise to be a CN…',\n",
       "       'RT @MinhazMerchant: Big defeat for @INCIndia as Constitution bench of SC dismisses impeachment petition against #CJIDipakMisra. Sibal withd…',\n",
       "       'RT @Defenders: As #climatechange leads to warmer winters, later falls &amp; earlier springs — which can disrupt both food supplies &amp; biological…',\n",
       "       'RT @kalospjm: all the taehyung antis having a emergency meeting after #SINGULARITY dropped https://t.co/brDNFfNQaQ',\n",
       "       'RT @k0ngie_k: Me whenever I think of how much their time has been wasted for almost a year in PLEDIS basement https://t.co/bGVxPk7xtv',\n",
       "       'RT @AJEnglish: This Palestinian boy made his own gas mask using an onion. https://t.co/C7HvipaCdY',\n",
       "       'RT @wontbackdown222: RETWEET if you think the Logan Act should Be invoked and these traitors should be indicted. https://t.co/ic4UvFXCeB',\n",
       "       \"RT @RealMapleSyrup: 🍁 It's #MapleMonday which means it's time for a #giveaway 🍁\\nFor a chance to win a full size bottle of our delicious map…\",\n",
       "       \"RT @steven_shima: #MAGA #POTUS #TrumpTrain #DrainTheSwamp #Dobbs \\n\\nColossal!!! \\n\\nI'm sure that the Trump Wall will be of an even MORE SPECT…\",\n",
       "       \"RT @APEntertainment: From Katy Perry's massive wings to Rihanna's mitre, stars took the religion theme of Monday's #MetGala very seriously.…\",\n",
       "       'RT @Trodgers_4: retweet this and I’ll dm you a song based on your profile pic',\n",
       "       'RT @BenGolliver: Sixers\\' Joel Embiid on confrontation w/ Celtics\\' Terry Rozier: \"\"He tried to punch me twice. Too bad he\\'s so short he coul…',\n",
       "       'RT @Kxrry__: ain’t got nothing on oldest grandchild privilege https://t.co/eF6ccD6izH',\n",
       "       'RT @_diamoniquiie: Who’s down to play cause this is lit https://t.co/Vfx1pvZ1ez',\n",
       "       'RT @ndabenhle04: I never expected this \"Just like you your plastic \"😂😂😂😂😂😂😂 \\n\\nSantAfrika😂😂😂😂😂😂 https://t.co/T2NmfB3LiA',\n",
       "       'RT @verge: Exclusive: The future of Microsoft with Satya Nadella https://t.co/jdhvaqKrMK',\n",
       "       'RT @faveslooks: THE #METGALA QUEEN. https://t.co/Tuu7XgrQFW',\n",
       "       'RT @chrissyteigen: Immature?? YOU BET https://t.co/ZRWI0zU4fX',\n",
       "       'RT @balooni_satish: @seriousfunnyguy @PMOIndia None of tax payers dacoit went to jail why make sure every one of that goes to jail.',\n",
       "       'RT @erikasobay: @Drebae_ Sometimes i have to make the decisions that will make me happy long term, and not stay in situations for some temp…',\n",
       "       \"RT @BTSorbit: LOVE YOURSELF 轉 Tear 'Singularity'\\n@BTS_twt https://t.co/cOFuQer4id\",\n",
       "       \"RT @iDidSumthingBad: can they just stop inviting the kardashians at the #MetGala ? they're always boring, off theme and a disappointment. h…\",\n",
       "       'RT @Zayn_AC_dev: You say perfect I understand Zayn https://t.co/YptttqB3h0',\n",
       "       'RT @foliearousseau: if this meme aint me https://t.co/L1LZ2V3kXg',\n",
       "       'RT @PersonsIsaiah: Death riding the Pale white horse while he is followed by Hell (represented by police) going totally unnoticed because o…',\n",
       "       'RT @ThrowbackAFC: For the last time Arsène Wenger will step out as Arsenal manager at the Emirates, what a journey it’s been. https://t.co/…',\n",
       "       'RT @brhodes: This is also their third version of events in as many days - from denial, to semi-denial, to \"we did it as part of a corporate…',\n",
       "       'RT @RoninStylex: WWE 2k18: T1P - Roadshow: https://t.co/wKJ7LW5fsn via @YouTube',\n",
       "       'RT @MrJohn_XXX: Fashion fails? Uniform fails? Well, yes! https://t.co/cdik46MPaN',\n",
       "       'RT @Cernovich: Eric Schneiderman and Preet Bharara power lunch\\n\\nhttps://t.co/9XH02L30gO',\n",
       "       'RT @Nibellion: Choose your weapon https://t.co/HLbg834U5k',\n",
       "       'RT @Papa_Gormint: Muhammadﷺ said: If one gets up to pray at night and his eyes are overtaken by sleep while in Sujood!ALLAH says to his ang…',\n",
       "       'RT @tim_cook: 20 years ago today, Steve introduced the world to iMac. It set Apple on a new course and forever changed the way people look…',\n",
       "       'RT @TabloidArtHist: Rosie Huntington Whiteley in a gold embellished Ralph Lauren gown with halo detailing, The Met Gala, c.2018 // Frank Ca…',\n",
       "       'RT @JUSTlNW: Jhene Aiko and her daughter singing together https://t.co/HxKd9CZXsP',\n",
       "       'RT @AhFreshPrince: The Greatest Theme Song Ever https://t.co/o0Iapn1aPX',\n",
       "       'RT @DEXTAERITY: so fb stans are here, yall are welcome here on twt stan but pls:\\n\\n- don’t spread rumors\\n- don’t engage in fan wars\\n- don’t…',\n",
       "       'RT @arrivahl: MICHAEL B JORDAN LOOKING GOOD AF I CANT BREATHE #MetGala https://t.co/P4Li7qxuby',\n",
       "       'RT @IndiaHistorypic: January 28, 1950 ::  Inaugural Sitting of The Supreme Court of India https://t.co/CX23c2sJCZ',\n",
       "       'RT @AcaciaBrinley: My heart is sobbing I can’t control it https://t.co/US3IUNNLhI',\n",
       "       'RT @gingadaswag: I STAN BOSS CHICKS !!! 🙌🙌🙌😍😍😍👸👸👸#bbnaija https://t.co/D9Sgjt4vwA',\n",
       "       'RT @sakurakharel: @serranodmarie @ALDUB_POETweets @lynieg88 @ofc_ALDUBHK @Salvesayson @grabesila @xanria_018 @Aryanlu85 @ermiesagum @hotxan…',\n",
       "       'RT @sendavidperdue: Well, Congress returned to work today (if you call clocking in at 5:30PM “work”). Now there are only 70 working days un…',\n",
       "       'RT @BestofCapricorn: I respect a #Capricorn who is able to let someone else take control - for at least a minute.',\n",
       "       'RT @BaezPrince_11: I didn’t ask to be born damn https://t.co/noogwSQFHH',\n",
       "       'RT @LlZARDMAMl: Just here to remind everyone I’m still the 1975’s bitch. Always have been always will be',\n",
       "       'RT @JUSTlNW: Jhene Aiko and her daughter singing together https://t.co/HxKd9CZXsP',\n",
       "       'RT @woogyugoals: Anyway one of the reason that i can wait is because the friendship that we made by Litspirit squad through Infinite and Ho…',\n",
       "       'RT @R1CHMINDED: In the first picture, I thought ya hair was on some wild shit https://t.co/1I3UQkhznn',\n",
       "       'RT @BTScures: Follow everyone who retweets this🐳',\n",
       "       \"RT @_Maldita_Ako_: You won't want to date someone who will make you feel like a kept woman. When a man approach you with this arrangement r…\",\n",
       "       'RT @Dr_Ayan: This is nonsense on so many levels. Honestly... we would be accessed more easily nearer people’s workplace perhaps, but there…',\n",
       "       \"RT @vickky_bae: Don't try to calm the storm ⛈. Calm yourself, the storm will pass 🙏 The sun will come out tomorrow ❤️️💃🏻#fromnigeriatothewo…\",\n",
       "       'RT @y0ungoth: Pope found jobless #Metgala https://t.co/yf7V5Q2OhG',\n",
       "       'RT @PeterPyke: 70% of people receiving #Newstart have been unemployed for 12 months or more. Why? There is only 1 job available for every 8…',\n",
       "       'RT @AtleticoFans: . @EuropaLeague this is a disgrace. This is what our fans will have in the final. \\n\\nYou are killing football, by preventi…',\n",
       "       'RT @LivPsy: Be nice to everyone. Be friends with a few. Trust one person: yourself.',\n",
       "       'RT @alyshaziemba: My mom told me it’s not normal to nap everyday after school, rt if you disagree',\n",
       "       'RT @JoeySSBM: We Are No Longer Allies With The Blue Bastard',\n",
       "       'RT @spendsforever: me looking at people my age having the time of their lives while i‘m here suffering in silence https://t.co/ot6kvmIlyj',\n",
       "       'RT @binnielix: I told Felix i loved his freckles, but I couldn’t see it clearly because the make up covered it.\\n\\nAnd then he wiped off his…',\n",
       "       'RT @BradleyMartyn: When she takes her boyfriends name out of her bio so u shoot your shot... https://t.co/qAuTgS3E2X'],\n",
       "      dtype=object)"
      ]
     },
     "execution_count": 24,
     "metadata": {},
     "output_type": "execute_result"
    }
   ],
   "source": [
    "norm_tweets[norm_tweets['is_retweet']==1]['text'].values[0:100]"
   ]
  },
  {
   "cell_type": "code",
   "execution_count": 36,
   "metadata": {},
   "outputs": [
    {
     "data": {
      "text/plain": [
       "Index(['tweetid', 'userid', 'user_display_name', 'user_screen_name',\n",
       "       'user_reported_location', 'user_profile_description',\n",
       "       'user_profile_url', 'follower_count', 'following_count',\n",
       "       'account_creation_date', 'account_language', 'lang', 'text',\n",
       "       'tweet_time', 'tweet_client_name', 'in_reply_to_tweetid',\n",
       "       'in_reply_to_userid', 'quoted_tweet_tweetid', 'is_retweet',\n",
       "       'retweet_userid', 'retweet_tweetid', 'latitude', 'longitude',\n",
       "       'quote_count', 'reply_count', 'like_count', 'retweet_count', 'hashtags',\n",
       "       'urls', 'user_mentions', 'poll_choices'],\n",
       "      dtype='object')"
      ]
     },
     "execution_count": 36,
     "metadata": {},
     "output_type": "execute_result"
    }
   ],
   "source": [
    "rus_df.rename(mapper={'tweet_text':'text','tweet_language':'lang'},axis=1,inplace=True)\n",
    "rus_df.columns"
   ]
  },
  {
   "cell_type": "code",
   "execution_count": 38,
   "metadata": {},
   "outputs": [],
   "source": [
    "ira_tweets = rus_df[rus_df.lang=='en'].apply(add_retweet_metadata,axis=1)"
   ]
  },
  {
   "cell_type": "code",
   "execution_count": 39,
   "metadata": {},
   "outputs": [
    {
     "data": {
      "text/plain": [
       "array([\"RT @e933848ee109a3e968bfefb54a785c0426edab39c144c0ace1eb734cde5efed0: Saw it several days ago during a trip and that's amazing! Can you see the face? Who is it? http://t.co/rP1uJgQjOb\",\n",
       "       'RT @MTVNews: SO. DAMN. CUTE. https://t.co/tiUjVi4JrO',\n",
       "       'RT @Real923LA: A few of our lucky listeners hanging out at the Palladium tonight, waiting for @BigSean tonight! #BigSean #IDecidedTour http…',\n",
       "       'RT @ReignOfApril: The Immortal Life of #HenriettaLacks starring @Oprah and @ReneeGoldsberry starts NOW on @hbo.',\n",
       "       'RT @RappersIQ: #Papoose Ft. #RemyMa \"Black Love\" #Remix #PRO https://t.co/LBcdBBi1Q9 #TBT #Day #Follows #Play #Meet #Fav #Rt',\n",
       "       \"RT @2DopeBoyz: Press play on @knxwledge's WT.PRT10.8 project; with flips of @Drake, @21Savage, @OTGenasis, @kurngb and more: https://t.co/X…\",\n",
       "       'RT @BlackNewsOutlet: Bobby Seale and Huey Newton, the founders of the Black Panther Party, 1966. https://t.co/eyfPzVFB8B',\n",
       "       'RT @Herobright2: @UNHumanRights NIGERIA CRIES OUT: \"AVENGERS HAVE FINISHED US\" https://t.co/3GYrFSPKbx https://t.co/L8RbSWp81V',\n",
       "       \"RT @74c5eb30de3d6691e150879ee8528463c70b0feaefed9766fcbbcc8b2458221a: #WearHoodieForTrayvon You seen the video of The Police Tellin #TrayvonMartin's killer what happened n what to say?\",\n",
       "       'RT @DJMistaXclusive: Cavs openly question their true nature as season comes to a close https://t.co/1dhUT6TAo5 https://t.co/YkEy2O2EFh'],\n",
       "      dtype=object)"
      ]
     },
     "execution_count": 39,
     "metadata": {},
     "output_type": "execute_result"
    }
   ],
   "source": [
    "ira_tweets[ira_tweets['is_retweet']==1].text.values[0:10]"
   ]
  },
  {
   "cell_type": "code",
   "execution_count": null,
   "metadata": {},
   "outputs": [],
   "source": [
    "ira_tweets.shape"
   ]
  },
  {
   "cell_type": "code",
   "execution_count": null,
   "metadata": {},
   "outputs": [],
   "source": [
    "eng_tweets.columns"
   ]
  },
  {
   "cell_type": "markdown",
   "metadata": {},
   "source": [
    "### Put data into bucket"
   ]
  },
  {
   "cell_type": "code",
   "execution_count": null,
   "metadata": {},
   "outputs": [],
   "source": [
    "eng_tweets.to_csv('data/2018-05-08_twitter_data_filtered.csv')"
   ]
  },
  {
   "cell_type": "code",
   "execution_count": null,
   "metadata": {},
   "outputs": [],
   "source": [
    "# !aws s3 mb s3://alex-john-tweets\n",
    "# !aws s3 cp data/2018-05-08_twitter_data_filtered.csv s3://alex-john-tweets\n",
    "# !aws s3 ls alex-john-tweets"
   ]
  },
  {
   "cell_type": "code",
   "execution_count": null,
   "metadata": {},
   "outputs": [],
   "source": []
  },
  {
   "cell_type": "markdown",
   "metadata": {},
   "source": [
    "### Time series EDA of user tweets"
   ]
  },
  {
   "cell_type": "code",
   "execution_count": null,
   "metadata": {},
   "outputs": [],
   "source": [
    "eng_tweets"
   ]
  },
  {
   "cell_type": "code",
   "execution_count": null,
   "metadata": {},
   "outputs": [],
   "source": []
  }
 ],
 "metadata": {
  "kernelspec": {
   "display_name": "Python 3",
   "language": "python",
   "name": "python3"
  },
  "language_info": {
   "codemirror_mode": {
    "name": "ipython",
    "version": 3
   },
   "file_extension": ".py",
   "mimetype": "text/x-python",
   "name": "python",
   "nbconvert_exporter": "python",
   "pygments_lexer": "ipython3",
   "version": "3.6.5"
  }
 },
 "nbformat": 4,
 "nbformat_minor": 2
}
