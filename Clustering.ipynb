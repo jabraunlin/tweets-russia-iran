{
 "cells": [
  {
   "cell_type": "markdown",
   "metadata": {},
   "source": [
    "# Iranian Tweet EDA and Topic Modeling"
   ]
  },
  {
   "cell_type": "code",
   "execution_count": 1,
   "metadata": {},
   "outputs": [],
   "source": [
    "import pandas as pd\n",
    "import numpy as np\n",
    "import matplotlib.pyplot as plt\n",
    "import nltk\n",
    "import string\n",
    "from nltk.tokenize import TweetTokenizer\n",
    "from sklearn.feature_extraction.text import TfidfVectorizer\n",
    "from sklearn.decomposition import NMF"
   ]
  },
  {
   "cell_type": "markdown",
   "metadata": {},
   "source": [
    "### Data Filtering"
   ]
  },
  {
   "cell_type": "code",
   "execution_count": 2,
   "metadata": {},
   "outputs": [],
   "source": [
    "data = pd.read_csv('data/iranian_tweets.csv')"
   ]
  },
  {
   "cell_type": "code",
   "execution_count": 70,
   "metadata": {},
   "outputs": [
    {
     "name": "stdout",
     "output_type": "stream",
     "text": [
      "<class 'pandas.core.frame.DataFrame'>\n",
      "RangeIndex: 1122936 entries, 0 to 1122935\n",
      "Data columns (total 31 columns):\n",
      "tweetid                     1122936 non-null int64\n",
      "userid                      1122936 non-null object\n",
      "user_display_name           1122936 non-null object\n",
      "user_screen_name            1122936 non-null object\n",
      "user_reported_location      887669 non-null object\n",
      "user_profile_description    995845 non-null object\n",
      "user_profile_url            434954 non-null object\n",
      "follower_count              1122936 non-null int64\n",
      "following_count             1122936 non-null int64\n",
      "account_creation_date       1122936 non-null object\n",
      "account_language            1122936 non-null object\n",
      "tweet_language              1117307 non-null object\n",
      "tweet_text                  1122936 non-null object\n",
      "tweet_time                  1122936 non-null object\n",
      "tweet_client_name           1100078 non-null object\n",
      "in_reply_to_tweetid         339350 non-null float64\n",
      "in_reply_to_userid          440244 non-null object\n",
      "quoted_tweet_tweetid        23369 non-null float64\n",
      "is_retweet                  1122936 non-null bool\n",
      "retweet_userid              232337 non-null object\n",
      "retweet_tweetid             232337 non-null float64\n",
      "latitude                    32 non-null float64\n",
      "longitude                   32 non-null float64\n",
      "quote_count                 1121572 non-null float64\n",
      "reply_count                 1121572 non-null float64\n",
      "like_count                  1121572 non-null float64\n",
      "retweet_count               1121572 non-null float64\n",
      "hashtags                    885731 non-null object\n",
      "urls                        1115553 non-null object\n",
      "user_mentions               685556 non-null object\n",
      "poll_choices                387 non-null object\n",
      "dtypes: bool(1), float64(9), int64(3), object(18)\n",
      "memory usage: 258.1+ MB\n"
     ]
    }
   ],
   "source": [
    "data.info()"
   ]
  },
  {
   "cell_type": "code",
   "execution_count": 3,
   "metadata": {},
   "outputs": [],
   "source": [
    "df = data[['userid','tweet_language','tweet_text','is_retweet','hashtags']]"
   ]
  },
  {
   "cell_type": "code",
   "execution_count": 4,
   "metadata": {},
   "outputs": [],
   "source": [
    "df = df[(df.is_retweet==False)&(df.tweet_language=='en')]"
   ]
  },
  {
   "cell_type": "markdown",
   "metadata": {},
   "source": [
    "### Tokenize & Lemmatize, Remove Punctuation"
   ]
  },
  {
   "cell_type": "code",
   "execution_count": 5,
   "metadata": {},
   "outputs": [],
   "source": [
    "# Tfidf vectorizer takes care of stop words; it's on us to remove links, punctuation (can include in token pattern?)"
   ]
  },
  {
   "cell_type": "code",
   "execution_count": 39,
   "metadata": {},
   "outputs": [],
   "source": [
    "punc = set(string.punctuation+'‘’…°–—“”')\n",
    "lem = nltk.stem.WordNetLemmatizer()\n",
    "twt = TweetTokenizer(reduce_len=True, strip_handles=True)\n",
    "\n",
    "def tweet_tokenize_full(tweet):\n",
    "    tokens = twt.tokenize(tweet)\n",
    "    no_punc = [token for token in tokens if (token[0] not in punc) and (len(token)>2)]\n",
    "    no_links = [token for token in no_punc if token[0:4]!='http']\n",
    "    lemmatized = [lem.lemmatize(token) for token in no_links]\n",
    "    return lemmatized"
   ]
  },
  {
   "cell_type": "code",
   "execution_count": 40,
   "metadata": {},
   "outputs": [],
   "source": [
    "num_feats = 1000\n",
    "vctr = TfidfVectorizer(analyzer='word',\n",
    "                       stop_words='english',\n",
    "                       tokenizer=tweet_tokenize_full,\n",
    "                       max_features=num_feats)"
   ]
  },
  {
   "cell_type": "code",
   "execution_count": 41,
   "metadata": {},
   "outputs": [],
   "source": [
    "X = vctr.fit_transform(df.tweet_text)"
   ]
  },
  {
   "cell_type": "code",
   "execution_count": 42,
   "metadata": {},
   "outputs": [],
   "source": [
    "tfidf_vals = X.toarray()"
   ]
  },
  {
   "cell_type": "code",
   "execution_count": 43,
   "metadata": {},
   "outputs": [
    {
     "data": {
      "text/plain": [
       "array(['100', '2012', '2015', '2016', '2017', '2018',\n",
       "       '3081cc5899cfede8252c2015644ffeccd7b27b1149fb', '360',\n",
       "       '431d28838bc87b3473081cc5899cfede8252c2015644ffeccd7b27b1149fb',\n",
       "       '8.5', '9/11', 'abandon', 'abu', 'abuse', 'according', 'accurate',\n",
       "       'accused', 'act', 'action', 'active', 'activist', 'add', 'added',\n",
       "       'administration', 'advance', 'aerial', 'affair', 'afghanistan',\n",
       "       'africa', 'age', 'agency', 'agenda', 'agent', 'aggression', 'ago',\n",
       "       'agree', 'agreement', 'ahead', 'aid', 'air', 'air-base',\n",
       "       'air-strikes', 'airport', 'airstrikes', 'al-baghdadi', 'al-nusra',\n",
       "       'al-quds', 'al-waleed', 'aleppo', 'alert', 'ali', 'allah',\n",
       "       'alliance', 'ally', 'alter', 'amazing', 'ambassador', 'america',\n",
       "       'american', 'american-concocted', 'amid', 'analyst', 'anniversary',\n",
       "       'announced', 'anti', 'applies', 'arab', 'arabia', 'archaeologist',\n",
       "       'area', 'arm', 'armed', 'army', 'arrest', 'arrested', 'ash', 'ask',\n",
       "       'asked', 'assad', 'assassinated', 'assassination', 'assisted',\n",
       "       'athist', 'attack', 'attempt', 'australia', 'authority', 'away',\n",
       "       'baby', 'bad', 'baghdadi', 'bahrain', 'bahraini', 'bakr', 'ban',\n",
       "       'bank', 'base', 'battle', 'beautiful', 'begin', 'behead',\n",
       "       'believe', 'bernie', 'best', 'better', 'bieber', 'big', 'biggest',\n",
       "       'billion', 'bin', 'black', 'blame', 'blast', 'blood', 'blow',\n",
       "       'body', 'boko', 'bomb', 'bomber', 'bombing', 'book', 'border',\n",
       "       'born', 'boy', 'boycott', 'brainwash', 'brainwashed', 'break',\n",
       "       'breaking', 'brexit', 'bribing', 'bring', 'britain', 'british',\n",
       "       'brother', 'brull-lopez', 'brussels', 'btw', 'build', 'building',\n",
       "       'bush', 'business', 'buy', 'caliphate', 'called', 'camp',\n",
       "       'campaign', \"can't\", 'canada', 'canadian', 'candidate', 'capital',\n",
       "       'capture', 'captured', 'car', 'care', 'case', 'cause', 'center',\n",
       "       'central', 'century', 'cfb', 'change', 'charge', 'cheerful',\n",
       "       'chemical', 'chief', 'child', 'china', 'christian', 'christmas',\n",
       "       'cia', 'circle', 'citizen', 'city', 'civilian', 'claim', 'clash',\n",
       "       'clean', 'clinton', 'clip', 'close', 'coalition', 'collaboration',\n",
       "       'collapse', 'come', 'coming', 'commander', 'comment', 'committed',\n",
       "       'community', 'company', 'complete', 'condemned', 'conference',\n",
       "       'confession', 'confirms', 'conflict', 'congress', 'consulate',\n",
       "       'contagious', 'content', 'continue', 'continues', 'control',\n",
       "       'controversy', 'cooperation', 'cost', 'council', 'country', 'coup',\n",
       "       'court', 'cousin', 'create', 'created', 'creating', 'creation',\n",
       "       'crime', 'criminal', 'crisis', 'crown', 'crush', 'cup', 'current',\n",
       "       'cut', 'daesh', 'damascus', 'dangerous', 'daughter', 'day', 'dead',\n",
       "       'deal', 'dear', 'death', 'debate', 'decision', 'declarartion',\n",
       "       'declaration', 'declared', 'declares', 'decleration', 'defend',\n",
       "       'defense', 'deir', 'deliberately', 'delivered', 'demagogue',\n",
       "       'demand', 'democracy', 'demolition', 'deputy', 'despite',\n",
       "       'destabilize', 'destroy', 'destruction', 'develop', 'diagnosed',\n",
       "       'dictator', 'did', 'didn', 'different', 'diplomat', 'direction',\n",
       "       'director', 'discus', 'disease', 'dissent', 'doctor', 'document',\n",
       "       'documentary', 'doe', \"doesn't\", 'doing', 'doll', 'dollar', 'don',\n",
       "       \"don't\", 'donald', 'doomed', 'download', 'dozen', 'drinkwater',\n",
       "       'drug', 'dubai', 'east', 'eastern', 'economic', 'economy',\n",
       "       'effort', 'egypt', 'einstein', 'election', 'eliminate', 'email',\n",
       "       'embassy', 'emissary', 'end', 'ended', 'enemy', 'envoy',\n",
       "       'epidemic', 'erdogan', 'erdoğan', 'escape', 'europe', 'european',\n",
       "       'evidence', 'evil', 'execution', 'expert', 'eye', 'face',\n",
       "       'facebook', 'facilitate', 'fact', 'fake', 'fall', 'family',\n",
       "       'famous', 'far', 'fatal', 'father', 'fbi', 'fear', 'feel',\n",
       "       \"ferguson's\", 'festival', 'fiery', 'fight', 'fighter', 'fighting',\n",
       "       'final', 'firing', 'flag', 'follow', 'follower', 'following',\n",
       "       'food', 'force', 'foreign', 'formed', 'france', 'francis',\n",
       "       'fraternity', 'free', 'freedom', 'french', 'friday', 'friend',\n",
       "       'fund', 'funniest', 'funny', 'future', 'game', 'gas', 'gay',\n",
       "       'gaza', \"gaza's\", 'general', 'george', 'german', 'germany',\n",
       "       'getting', 'girl', 'global', 'god', 'going', 'good', 'gop', 'got',\n",
       "       'governed', 'government', 'graffiti', 'great', 'greatest', 'group',\n",
       "       'gulf', 'gun', 'ha', 'haggard', 'hamas', 'hand', 'happen',\n",
       "       'happened', 'happy', 'haram', 'hate', 'haven', 'havent', 'head',\n",
       "       'health', 'heart', 'held', 'hell', 'help', 'helped', 'henri',\n",
       "       'hero', 'high', 'hillary', 'historically', 'history', 'hit', 'hiv',\n",
       "       'hold', 'holy', 'home', 'honor', 'honorary', 'hope', 'hoping',\n",
       "       'horn', 'horrific', 'hospital', 'host', 'hot', 'hotel', 'hotos',\n",
       "       'hour', 'house', 'human', 'humanitarian', 'hunger', \"i'm\",\n",
       "       'iconic', 'idea', 'illegal', 'image', 'imam', 'imperialism',\n",
       "       'implies', 'important', 'inaugurate', 'including', 'increase',\n",
       "       'independence', 'independent', 'india', 'inferno', 'infiltrated',\n",
       "       'injured', 'innocent', 'inquiry', 'inside', 'intelligence',\n",
       "       'international', 'interview', 'investigation', 'iran', \"iran's\",\n",
       "       'iranian', 'iraq', 'iraqi', 'isi', 'isil', 'islam', 'islamic',\n",
       "       'islamist', 'island', 'israel', 'israeli', 'issue', 'istanbul',\n",
       "       \"it's\", 'jail', 'jaime', 'jerusalem', 'jesus', 'jet', 'jew',\n",
       "       'jewish', 'jewishness', 'jihad', 'job', 'john', 'join', 'jordan',\n",
       "       'journalist', 'judge', 'just', 'justice', 'justin', 'key', 'kid',\n",
       "       'kidnapped', 'kill', 'killed', 'killing', 'king', 'kissinger',\n",
       "       'know', 'korea', 'kurdish', 'kurdistan', 'lady', 'land', 'largest',\n",
       "       'lashed', 'latest', 'launch', 'law', 'le', 'lead', 'leader',\n",
       "       'leak', 'leaked', 'leave', 'led', 'left', 'let', 'letter',\n",
       "       'liberate', 'liberty', 'lie', 'life', 'light', 'like', 'line',\n",
       "       'link', 'list', 'live', 'local', 'london', 'long', 'look',\n",
       "       'looming', 'lost', 'love', 'machismo', 'main', 'major', 'make',\n",
       "       'making', 'malaysian', 'man', 'march', 'mark', 'market', 'marry',\n",
       "       'mass', 'massacre', 'matter', 'mccain', 'mean', 'mecca', 'medical',\n",
       "       'medium', 'meet', 'meeting', 'member', 'men', 'menendez',\n",
       "       'mercenary', 'merle', 'message', 'met', 'mexico', 'middle',\n",
       "       'middle-east', 'militant', 'military', 'militia', 'million',\n",
       "       'minister', 'ministry', 'minute', 'missile', 'missing', 'mohammed',\n",
       "       'moment', 'monarch', 'monday', 'money', 'monster', 'month',\n",
       "       'morning', 'mosque', 'mossad', 'mosul', 'mother', 'mousl',\n",
       "       'movement', 'mtvstars', 'muhammad', 'mujahidin', 'murder',\n",
       "       'muslim', 'mutiny', 'mutual', 'najib', 'nation', 'national',\n",
       "       'near', 'need', 'negotiate', 'negotiation', 'neighborhood',\n",
       "       'netanyahu', 'new', 'news', 'night', 'north', 'northern',\n",
       "       'nuclear', 'number', 'obama', 'occupation', 'occupied', 'offer',\n",
       "       'offered', 'office', 'officer', 'official', 'oil', 'old', 'open',\n",
       "       'operation', 'opposition', 'optimistic', 'ordeal', 'order',\n",
       "       'ordered', 'organization', 'oust', 'outbreak', 'pakiistan',\n",
       "       'pakistan', 'palestine', 'palestinian', 'paris', 'park',\n",
       "       'parliament', 'participate', 'party', 'past', 'paul', 'pay',\n",
       "       'peace', 'pentagon', 'people', 'persian', 'person', 'personal',\n",
       "       'peshmerga', 'phone', 'photo', 'picture', 'place', 'plan', 'plane',\n",
       "       'play', 'playboy', 'playlist', 'pledge', 'plot', 'plz', 'point',\n",
       "       'poisonous', 'police', 'policy', 'political', 'politician', 'poll',\n",
       "       'pope', 'popular', 'position', 'possible', 'post', 'posted',\n",
       "       'power', 'praised', 'predict', 'premier', 'prepare', 'president',\n",
       "       'presidential', 'press', 'pressure', 'price', 'prime', 'prince',\n",
       "       'prison', 'prisoner', 'pro-al', 'pro-isis', 'problem', 'program',\n",
       "       'project', 'prominent', 'proof', 'prophet', 'protect', 'protest',\n",
       "       'protester', 'proud', 'prouve', 'prove', 'provide', 'province',\n",
       "       'public', 'publication', 'published', 'putin', 'qaeda', 'qatar',\n",
       "       'quds', 'queen', 'question', 'quo', 'rabbi', 'race', 'racist',\n",
       "       'raid', 'rally', 'rand', 'razak', 'reach', 'reaction', 'read',\n",
       "       'reading', 'ready', 'real', 'reality', 'really', 'reason', 'rebel',\n",
       "       'recent', 'recruit', 'red', 'refugee', 'refused', 'regardless',\n",
       "       'regime', 'region', 'regional', 'reject', 'relation', 'release',\n",
       "       'released', 'religious', 'remember', 'report', 'representative',\n",
       "       'republican', 'research', 'resident', 'resistance', 'respect',\n",
       "       'response', 'responsible', 'result', 'return', 'revealed',\n",
       "       'reveals', 'revelation', 'revolution', 'revolutionary', 'right',\n",
       "       'rise', 'ro-isis', 'role', 'rouhani', 'royal', 'rule', 'run',\n",
       "       'russia', 'russian', 'saa', 'safe', 'said', 'sale', 'salman',\n",
       "       'sanction', 'sander', 'saudi', 'savagery', 'save', 'say', 'saying',\n",
       "       'school', 'scotland', 'season', 'second', 'secret', 'secretary',\n",
       "       'security', 'seek', 'seen', 'sell', 'sen', 'send', 'senior',\n",
       "       'sent', 'service', 'set', 'settlement', 'settler', 'sex', 'sexual',\n",
       "       'sexually', 'shall', 'shame', 'share', 'sheikh', 'shooting',\n",
       "       'shot', 'sidney', 'siege', 'sign', 'silent', 'site', 'situation',\n",
       "       'slam', 'slave', 'social', 'society', 'soil', 'soldier',\n",
       "       'solidarity', 'solution', 'son', 'soon', 'sound', 'source',\n",
       "       'south', 'southern', 'speaks', 'special', 'speech', 'spokesman',\n",
       "       'stampede', 'stand', 'start', 'state', 'statement', 'status',\n",
       "       'stay', 'steal', 'step', 'stir', 'stone', 'stop', 'story',\n",
       "       'strategic', 'street', 'strike', 'structurally', 'struggle',\n",
       "       'student', 'study', 'stunning', 'success', 'suffering', 'suicide',\n",
       "       'summit', 'sunday', 'support', 'supported', 'supporter',\n",
       "       'supporting', 'supreme', 'sydney', 'syria', 'syrian', 'taken',\n",
       "       'taking', 'talal', 'talk', 'target', 'targeting', 'tax', 'tea',\n",
       "       'team', 'teen', 'teenage', 'tehran', 'tell', 'temptation',\n",
       "       'terror', 'terrorism', 'terrorist', 'terroristes', 'thank',\n",
       "       'thanks', \"that's\", 'theirs', 'thing', 'think', 'thousand',\n",
       "       'threat', 'threaten', 'threatens', 'tie', 'time', 'today', 'told',\n",
       "       'tool', 'toonsonline', 'touch', 'tour', 'tower', 'town', 'trade',\n",
       "       'trafficking', 'trailer', 'transmitted', 'transport', 'travel',\n",
       "       'treacherous', 'troop', 'true', 'trump', \"trump's\", 'truth', 'try',\n",
       "       'trying', 'tuesday', 'turkey', 'turkish', 'turn', 'tweet',\n",
       "       'twitter', 'uae', 'unconventional', 'unit', 'united', 'university',\n",
       "       'uprising', 'urge', 'us-cuba', 'usa', 'use', 'used', 'using',\n",
       "       'valentine', 'victim', 'victory', 'video', 'view', 'village',\n",
       "       'violation', 'violence', 'virtual', 'visit', 'vladimir', 'vote',\n",
       "       'voter', 'vow', 'wa', 'wall', 'waning', 'want', 'wanted', 'war',\n",
       "       'warlord', 'warned', 'warns', 'washington', 'watch', 'water',\n",
       "       'way', \"we'll\", 'weaken', 'wealthy', 'weapon', 'week', 'welcome',\n",
       "       'west', 'western', 'white', 'williams', 'win', 'wipe', 'wish',\n",
       "       'woman', 'won', \"won't\", 'word', 'work', 'worked', 'worker',\n",
       "       'working', 'world', 'wounded', 'wrong', 'yassin', 'yazidi', 'year',\n",
       "       'year-old', 'yemen', 'yemeni', 'yemenite', 'yes', 'york', \"you're\",\n",
       "       'young', 'youth', 'zarif', 'zimbabwean', 'zionist'], dtype='<U61')"
      ]
     },
     "execution_count": 43,
     "metadata": {},
     "output_type": "execute_result"
    }
   ],
   "source": [
    "feature_names = np.array(vctr.get_feature_names())\n",
    "feature_names"
   ]
  },
  {
   "cell_type": "code",
   "execution_count": 44,
   "metadata": {},
   "outputs": [],
   "source": [
    "tfidf_results = pd.DataFrame(data = tfidf_vals, columns=feature_names)"
   ]
  },
  {
   "cell_type": "code",
   "execution_count": 51,
   "metadata": {},
   "outputs": [],
   "source": [
    "n_components = 4\n",
    "nmf = NMF(n_components=n_components, random_state=1, alpha=0.1, solver='mu', max_iter=1000, l1_ratio=0.5).fit(X)"
   ]
  },
  {
   "cell_type": "code",
   "execution_count": 52,
   "metadata": {},
   "outputs": [],
   "source": [
    "def print_top_words(model, feature_names, n_top_words):\n",
    "    for topic_idx, topic in enumerate(model.components_):\n",
    "        top_words = [feature_names[i] for i in topic.argsort()[:-n_top_words - 1:-1]]\n",
    "        print(\"Topic #{0}: {1}\".format(topic_idx, top_words))\n",
    "        print('\\n')\n",
    "    print()"
   ]
  },
  {
   "cell_type": "code",
   "execution_count": 53,
   "metadata": {},
   "outputs": [
    {
     "name": "stdout",
     "output_type": "stream",
     "text": [
      "Topic #0: ['day', 'attack', 'predict', 'usa', 'terrorist', 'cia', 'pakistan', 'sidney', 'revealed', 'australia', 'pakiistan', 'turkey', 'inquiry', 'confirms', 'creation', 'congress', 'formed', '2012', 'isi', 'putin']\n",
      "\n",
      "\n",
      "Topic #1: ['state', 'united', 'racist', 'society', 'structurally', 'nation', \"ferguson's\", 'set', 'inferno', 'prouve', 'infiltrated', 'doe', 'photo', 'ha', 'suffering', 'citizen', 'abuse', 'power', 'police', 'bieber']\n",
      "\n",
      "\n",
      "Topic #2: ['isi', 'success', 'sydney', 'siege', 'sex', 'american', 'open', 'consulate', 'istanbul', 'recruit', 'declarartion', 'young', 'jihad', 'lady', 'fbi', 'turkish', 'decleration', 'girl', 'tell', 'yazidi']\n",
      "\n",
      "\n",
      "Topic #3: ['saudi', 'arabia', 'israel', 'prince', 'trump', 'new', 'donald', 'talal', 'visit', 'age', 'peace', '9/11', 'victim', 'shall', 'mark', 'hand', 'iran', 'blood', 'syria', '3081cc5899cfede8252c2015644ffeccd7b27b1149fb']\n",
      "\n",
      "\n",
      "\n"
     ]
    }
   ],
   "source": [
    "n_top_words = 20\n",
    "print_top_words(nmf, feature_names, n_top_words)"
   ]
  },
  {
   "cell_type": "code",
   "execution_count": null,
   "metadata": {},
   "outputs": [],
   "source": []
  },
  {
   "cell_type": "code",
   "execution_count": null,
   "metadata": {},
   "outputs": [],
   "source": []
  },
  {
   "cell_type": "code",
   "execution_count": null,
   "metadata": {},
   "outputs": [],
   "source": []
  },
  {
   "cell_type": "code",
   "execution_count": null,
   "metadata": {},
   "outputs": [],
   "source": []
  },
  {
   "cell_type": "code",
   "execution_count": null,
   "metadata": {},
   "outputs": [],
   "source": []
  }
 ],
 "metadata": {
  "kernelspec": {
   "display_name": "Python 3",
   "language": "python",
   "name": "python3"
  },
  "language_info": {
   "codemirror_mode": {
    "name": "ipython",
    "version": 3
   },
   "file_extension": ".py",
   "mimetype": "text/x-python",
   "name": "python",
   "nbconvert_exporter": "python",
   "pygments_lexer": "ipython3",
   "version": "3.6.5"
  }
 },
 "nbformat": 4,
 "nbformat_minor": 2
}
