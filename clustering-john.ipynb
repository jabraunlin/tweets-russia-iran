{
 "cells": [
  {
   "cell_type": "markdown",
   "metadata": {},
   "source": [
    "# Iranian Tweet EDA and Topic Modeling"
   ]
  },
  {
   "cell_type": "code",
   "execution_count": 1,
   "metadata": {},
   "outputs": [],
   "source": [
    "import pandas as pd\n",
    "import numpy as np\n",
    "import matplotlib.pyplot as plt\n",
    "import nltk\n",
    "import string\n",
    "from nltk.tokenize import TweetTokenizer\n",
    "from sklearn.feature_extraction.text import TfidfVectorizer\n",
    "from sklearn.decomposition import NMF"
   ]
  },
  {
   "cell_type": "markdown",
   "metadata": {},
   "source": [
    "### Data Filtering"
   ]
  },
  {
   "cell_type": "code",
   "execution_count": 2,
   "metadata": {},
   "outputs": [],
   "source": [
    "data = pd.read_csv('data/iranian_tweets.csv')"
   ]
  },
  {
   "cell_type": "code",
   "execution_count": 3,
   "metadata": {},
   "outputs": [
    {
     "name": "stdout",
     "output_type": "stream",
     "text": [
      "<class 'pandas.core.frame.DataFrame'>\n",
      "RangeIndex: 1122936 entries, 0 to 1122935\n",
      "Data columns (total 31 columns):\n",
      "tweetid                     1122936 non-null int64\n",
      "userid                      1122936 non-null object\n",
      "user_display_name           1122936 non-null object\n",
      "user_screen_name            1122936 non-null object\n",
      "user_reported_location      887669 non-null object\n",
      "user_profile_description    995845 non-null object\n",
      "user_profile_url            434954 non-null object\n",
      "follower_count              1122936 non-null int64\n",
      "following_count             1122936 non-null int64\n",
      "account_creation_date       1122936 non-null object\n",
      "account_language            1122936 non-null object\n",
      "tweet_language              1117307 non-null object\n",
      "tweet_text                  1122936 non-null object\n",
      "tweet_time                  1122936 non-null object\n",
      "tweet_client_name           1100078 non-null object\n",
      "in_reply_to_tweetid         339350 non-null float64\n",
      "in_reply_to_userid          440244 non-null object\n",
      "quoted_tweet_tweetid        23369 non-null float64\n",
      "is_retweet                  1122936 non-null bool\n",
      "retweet_userid              232337 non-null object\n",
      "retweet_tweetid             232337 non-null float64\n",
      "latitude                    32 non-null float64\n",
      "longitude                   32 non-null float64\n",
      "quote_count                 1121572 non-null float64\n",
      "reply_count                 1121572 non-null float64\n",
      "like_count                  1121572 non-null float64\n",
      "retweet_count               1121572 non-null float64\n",
      "hashtags                    885731 non-null object\n",
      "urls                        1115553 non-null object\n",
      "user_mentions               685556 non-null object\n",
      "poll_choices                387 non-null object\n",
      "dtypes: bool(1), float64(9), int64(3), object(18)\n",
      "memory usage: 258.1+ MB\n"
     ]
    }
   ],
   "source": [
    "data.info()"
   ]
  },
  {
   "cell_type": "code",
   "execution_count": 4,
   "metadata": {},
   "outputs": [],
   "source": [
    "df = data[['userid','tweet_language','tweet_text','is_retweet','hashtags']]"
   ]
  },
  {
   "cell_type": "code",
   "execution_count": 5,
   "metadata": {},
   "outputs": [],
   "source": [
    "df = df[(df.is_retweet==False)&(df.tweet_language=='en')]"
   ]
  },
  {
   "cell_type": "markdown",
   "metadata": {},
   "source": [
    "### Tokenize & Lemmatize, Remove Punctuation"
   ]
  },
  {
   "cell_type": "code",
   "execution_count": 6,
   "metadata": {},
   "outputs": [],
   "source": [
    "# Tfidf vectorizer takes care of stop words; it's on us to remove links, punctuation (can include in token pattern?)"
   ]
  },
  {
   "cell_type": "code",
   "execution_count": 7,
   "metadata": {},
   "outputs": [],
   "source": [
    "punc = set(string.punctuation+'‘’…°–—“”')\n",
    "lem = nltk.stem.WordNetLemmatizer()\n",
    "twt = TweetTokenizer(reduce_len=True, strip_handles=True)\n",
    "\n",
    "def tweet_tokenize_full(tweet):\n",
    "    tokens = twt.tokenize(tweet)\n",
    "    no_punc = [token for token in tokens if (token[0] not in punc) and (len(token)>2)]\n",
    "    no_links = [token for token in no_punc if token[0:4]!='http']\n",
    "    lemmatized = [lem.lemmatize(token) for token in no_links]\n",
    "    return lemmatized"
   ]
  },
  {
   "cell_type": "code",
   "execution_count": 8,
   "metadata": {},
   "outputs": [],
   "source": [
    "num_feats = 1000\n",
    "ngrams = (1,3)\n",
    "vctr = TfidfVectorizer(analyzer='word',\n",
    "                       stop_words='english',\n",
    "                       tokenizer=tweet_tokenize_full,\n",
    "                       max_features=num_feats,\n",
    "                       ngram_range=ngrams)"
   ]
  },
  {
   "cell_type": "code",
   "execution_count": 9,
   "metadata": {},
   "outputs": [],
   "source": [
    "X = vctr.fit_transform(df.tweet_text)"
   ]
  },
  {
   "cell_type": "code",
   "execution_count": 10,
   "metadata": {},
   "outputs": [],
   "source": [
    "tfidf_vals = X.toarray()"
   ]
  },
  {
   "cell_type": "code",
   "execution_count": 11,
   "metadata": {},
   "outputs": [],
   "source": [
    "feature_names = np.array(vctr.get_feature_names())"
   ]
  },
  {
   "cell_type": "code",
   "execution_count": 12,
   "metadata": {},
   "outputs": [],
   "source": [
    "tfidf_results = pd.DataFrame(data = tfidf_vals, columns=feature_names)"
   ]
  },
  {
   "cell_type": "code",
   "execution_count": 13,
   "metadata": {},
   "outputs": [],
   "source": [
    "n_components = 4\n",
    "nmf = NMF(n_components=n_components, random_state=1, alpha=0.1, solver='mu', max_iter=1000, l1_ratio=0.5).fit(X)"
   ]
  },
  {
   "cell_type": "code",
   "execution_count": 14,
   "metadata": {},
   "outputs": [],
   "source": [
    "def print_top_words(model, feature_names, n_top_words):\n",
    "    for topic_idx, topic in enumerate(model.components_):\n",
    "        top_words = [feature_names[i] for i in topic.argsort()[:-n_top_words - 1:-1]]\n",
    "        print(\"Topic #{0}: {1}\".format(topic_idx, top_words))\n",
    "        print('\\n')\n",
    "    print()"
   ]
  },
  {
   "cell_type": "code",
   "execution_count": 15,
   "metadata": {},
   "outputs": [
    {
     "name": "stdout",
     "output_type": "stream",
     "text": [
      "Topic #0: ['state', 'united', 'united state', 'racist', 'society', 'racist society', 'state structurally', 'structurally racist society', 'united state structurally', 'structurally racist', 'structurally', 'state structurally racist', 'nation', 'nation state', 'set nation state', 'set nation', 'inferno set', 'inferno set nation', \"ferguson's inferno\", \"ferguson's inferno set\"]\n",
      "\n",
      "\n",
      "Topic #1: ['day', 'attack', 'usa', 'terrorist', 'terrorist attack', 'predict', 'usa day', 'predict terrorist', 'predict terrorist attack', 'cia predict', 'cia predict terrorist', 'cia', 'pakistan', 'pakistan usa day', 'pakistan usa', 'attack sidney', 'sidney', 'terrorist attack sidney', 'sidney pakistan', 'attack sidney pakistan']\n",
      "\n",
      "\n",
      "Topic #2: ['iran', 'saudi', 'isi', 'trump', 'arabia', 'saudi arabia', '3081cc5899cfede8252c2015644ffeccd7b27b1149fb', 'israel', 'ha', 'donald', 'new', 'secret', 'donald trump', 'say', 'prince', 'syria', 'wa', 'american', 'toonsonline', 'war']\n",
      "\n",
      "\n",
      "Topic #3: ['cfb 431d28838bc87b3473081cc5899cfede8252c2015644ffeccd7b27b1149fb', '431d28838bc87b3473081cc5899cfede8252c2015644ffeccd7b27b1149fb', 'cfb', 'america', 'obama', 'police', 'killed', 'dead', 'year', 'report', 'child', 'woman', 'world', 'government', 'people', 'face', 'million', 'man', 'security', 'attack']\n",
      "\n",
      "\n",
      "\n"
     ]
    }
   ],
   "source": [
    "n_top_words = 20\n",
    "print_top_words(nmf, feature_names, n_top_words)"
   ]
  },
  {
   "cell_type": "code",
   "execution_count": 16,
   "metadata": {},
   "outputs": [
    {
     "data": {
      "text/plain": [
       "(4, 1000)"
      ]
     },
     "execution_count": 16,
     "metadata": {},
     "output_type": "execute_result"
    }
   ],
   "source": [
    "nmf.components_.shape"
   ]
  },
  {
   "cell_type": "code",
   "execution_count": 17,
   "metadata": {},
   "outputs": [
    {
     "data": {
      "text/plain": [
       "(172929, 1000)"
      ]
     },
     "execution_count": 17,
     "metadata": {},
     "output_type": "execute_result"
    }
   ],
   "source": [
    "tfidf_results.shape"
   ]
  },
  {
   "cell_type": "code",
   "execution_count": 18,
   "metadata": {},
   "outputs": [],
   "source": [
    "arr = []\n",
    "for i in tfidf_results.values:\n",
    "    arr.append(np.argmax(np.sum(i*nmf.components_,axis=1)))"
   ]
  },
  {
   "cell_type": "code",
   "execution_count": 19,
   "metadata": {},
   "outputs": [],
   "source": [
    "df['topic'] = np.array(arr)"
   ]
  },
  {
   "cell_type": "code",
   "execution_count": 20,
   "metadata": {},
   "outputs": [
    {
     "data": {
      "text/html": [
       "<div>\n",
       "<style scoped>\n",
       "    .dataframe tbody tr th:only-of-type {\n",
       "        vertical-align: middle;\n",
       "    }\n",
       "\n",
       "    .dataframe tbody tr th {\n",
       "        vertical-align: top;\n",
       "    }\n",
       "\n",
       "    .dataframe thead th {\n",
       "        text-align: right;\n",
       "    }\n",
       "</style>\n",
       "<table border=\"1\" class=\"dataframe\">\n",
       "  <thead>\n",
       "    <tr style=\"text-align: right;\">\n",
       "      <th></th>\n",
       "      <th>userid</th>\n",
       "      <th>tweet_language</th>\n",
       "      <th>tweet_text</th>\n",
       "      <th>is_retweet</th>\n",
       "      <th>hashtags</th>\n",
       "      <th>topic</th>\n",
       "    </tr>\n",
       "  </thead>\n",
       "  <tbody>\n",
       "    <tr>\n",
       "      <th>1</th>\n",
       "      <td>299148448</td>\n",
       "      <td>en</td>\n",
       "      <td>@ParkerLampe An inquiry by congress confirms t...</td>\n",
       "      <td>False</td>\n",
       "      <td>NaN</td>\n",
       "      <td>2</td>\n",
       "    </tr>\n",
       "    <tr>\n",
       "      <th>2</th>\n",
       "      <td>299148448</td>\n",
       "      <td>en</td>\n",
       "      <td>@hadeelhmaidi @wordpressdotcom CIA predict thi...</td>\n",
       "      <td>False</td>\n",
       "      <td>NaN</td>\n",
       "      <td>1</td>\n",
       "    </tr>\n",
       "    <tr>\n",
       "      <th>5</th>\n",
       "      <td>299148448</td>\n",
       "      <td>en</td>\n",
       "      <td>@irfhabib why boko haram come europe,legally a...</td>\n",
       "      <td>False</td>\n",
       "      <td>NaN</td>\n",
       "      <td>2</td>\n",
       "    </tr>\n",
       "    <tr>\n",
       "      <th>6</th>\n",
       "      <td>299148448</td>\n",
       "      <td>en</td>\n",
       "      <td>@KhushbuCNN ISIS militants,plan to target West...</td>\n",
       "      <td>False</td>\n",
       "      <td>NaN</td>\n",
       "      <td>2</td>\n",
       "    </tr>\n",
       "    <tr>\n",
       "      <th>7</th>\n",
       "      <td>299148448</td>\n",
       "      <td>en</td>\n",
       "      <td>@placesbrands Turkish intelligence chief: ISIS...</td>\n",
       "      <td>False</td>\n",
       "      <td>NaN</td>\n",
       "      <td>2</td>\n",
       "    </tr>\n",
       "  </tbody>\n",
       "</table>\n",
       "</div>"
      ],
      "text/plain": [
       "      userid tweet_language  \\\n",
       "1  299148448             en   \n",
       "2  299148448             en   \n",
       "5  299148448             en   \n",
       "6  299148448             en   \n",
       "7  299148448             en   \n",
       "\n",
       "                                          tweet_text  is_retweet hashtags  \\\n",
       "1  @ParkerLampe An inquiry by congress confirms t...       False      NaN   \n",
       "2  @hadeelhmaidi @wordpressdotcom CIA predict thi...       False      NaN   \n",
       "5  @irfhabib why boko haram come europe,legally a...       False      NaN   \n",
       "6  @KhushbuCNN ISIS militants,plan to target West...       False      NaN   \n",
       "7  @placesbrands Turkish intelligence chief: ISIS...       False      NaN   \n",
       "\n",
       "   topic  \n",
       "1      2  \n",
       "2      1  \n",
       "5      2  \n",
       "6      2  \n",
       "7      2  "
      ]
     },
     "execution_count": 20,
     "metadata": {},
     "output_type": "execute_result"
    }
   ],
   "source": [
    "df.head()"
   ]
  },
  {
   "cell_type": "code",
   "execution_count": 21,
   "metadata": {},
   "outputs": [],
   "source": [
    "df['tweet_length'] = df.tweet_text.apply(lambda x: len(x))"
   ]
  },
  {
   "cell_type": "code",
   "execution_count": 22,
   "metadata": {},
   "outputs": [
    {
     "data": {
      "text/plain": [
       "1    102\n",
       "2    132\n",
       "5     79\n",
       "6     81\n",
       "7    122\n",
       "Name: tweet_length, dtype: int64"
      ]
     },
     "execution_count": 22,
     "metadata": {},
     "output_type": "execute_result"
    }
   ],
   "source": [
    "df.tweet_length.head()"
   ]
  },
  {
   "cell_type": "code",
   "execution_count": 32,
   "metadata": {},
   "outputs": [],
   "source": [
    "def tweet_tokenize(tweet):\n",
    "    tokens = twt.tokenize(tweet)\n",
    "    no_punc = [token for token in tokens if (token[0] not in punc)]\n",
    "    no_links = [token for token in no_punc if token[0:4]!='http']\n",
    "    return no_links"
   ]
  },
  {
   "cell_type": "code",
   "execution_count": 33,
   "metadata": {},
   "outputs": [],
   "source": [
    "df['tokens'] = df.tweet_text.apply(tweet_tokenize)"
   ]
  },
  {
   "cell_type": "code",
   "execution_count": 34,
   "metadata": {},
   "outputs": [
    {
     "data": {
      "text/plain": [
       "1    [An, inquiry, by, congress, confirms, that, IS...\n",
       "2    [CIA, predict, third, terrorist, attack, after...\n",
       "5    [why, boko, haram, come, europe, legally, and,...\n",
       "6    [ISIS, militants, plan, to, target, Western, c...\n",
       "7    [Turkish, intelligence, chief, ISIS, is, a, re...\n",
       "Name: tokens, dtype: object"
      ]
     },
     "execution_count": 34,
     "metadata": {},
     "output_type": "execute_result"
    }
   ],
   "source": [
    "df.tokens.head()"
   ]
  },
  {
   "cell_type": "code",
   "execution_count": 40,
   "metadata": {},
   "outputs": [],
   "source": [
    "df['word_count'] = df.tokens.apply(lambda x: len(x))"
   ]
  },
  {
   "cell_type": "code",
   "execution_count": 41,
   "metadata": {},
   "outputs": [
    {
     "data": {
      "text/plain": [
       "1    12\n",
       "2    14\n",
       "5     8\n",
       "6     7\n",
       "7    14\n",
       "Name: word_count, dtype: int64"
      ]
     },
     "execution_count": 41,
     "metadata": {},
     "output_type": "execute_result"
    }
   ],
   "source": [
    "df.word_count.head()"
   ]
  },
  {
   "cell_type": "code",
   "execution_count": 37,
   "metadata": {},
   "outputs": [
    {
     "data": {
      "text/plain": [
       "array(['@ParkerLampe An inquiry by congress confirms that ISIS is indeed a CIA creation http://t.co/eFRmFwYZTV',\n",
       "       '@hadeelhmaidi @wordpressdotcom CIA predict third terrorist attack after Sidney and Pakiistan in USA in 3 days http://t.co/IrPx7M223N',\n",
       "       '@irfhabib why boko haram come europe,legally and easily? http://t.co/on2vzPqEPH'],\n",
       "      dtype=object)"
      ]
     },
     "execution_count": 37,
     "metadata": {},
     "output_type": "execute_result"
    }
   ],
   "source": [
    "df.tweet_text.values[0:3]"
   ]
  },
  {
   "cell_type": "code",
   "execution_count": 42,
   "metadata": {},
   "outputs": [
    {
     "data": {
      "text/plain": [
       "<matplotlib.axes._subplots.AxesSubplot at 0x1a16779710>"
      ]
     },
     "execution_count": 42,
     "metadata": {},
     "output_type": "execute_result"
    },
    {
     "data": {
      "image/png": "[encoded data removed]",
      "text/plain": [
       "<matplotlib.figure.Figure at 0x1a168ac908>"
      ]
     },
     "metadata": {},
     "output_type": "display_data"
    }
   ],
   "source": [
    "df.word_count.hist(bins=20)"
   ]
  },
  {
   "cell_type": "code",
   "execution_count": 55,
   "metadata": {},
   "outputs": [
    {
     "data": {
      "image/png": "[encoded data removed]",
      "text/plain": [
       "<matplotlib.figure.Figure at 0x1a21875b38>"
      ]
     },
     "metadata": {},
     "output_type": "display_data"
    }
   ],
   "source": [
    "fig, ax = plt.subplots(4,1,figsize=(10,10))\n",
    "for n in range(4):\n",
    "    ax[n].hist(df[df.topic==n]['word_count'],bins=20)\n",
    "    ax[n].set_title('Topic {}'.format(n))\n",
    "plt.tight_layout()"
   ]
  },
  {
   "cell_type": "code",
   "execution_count": 57,
   "metadata": {},
   "outputs": [],
   "source": [
    "df['word_lengths']=df.tokens.apply(lambda x: [len(i) for i in x])"
   ]
  },
  {
   "cell_type": "code",
   "execution_count": 58,
   "metadata": {},
   "outputs": [
    {
     "data": {
      "text/plain": [
       "1            [2, 7, 2, 8, 8, 4, 4, 2, 6, 1, 3, 8]\n",
       "2      [3, 7, 5, 9, 6, 5, 6, 3, 9, 2, 3, 2, 1, 4]\n",
       "5                        [3, 4, 5, 4, 6, 7, 3, 6]\n",
       "6                           [4, 9, 4, 2, 6, 7, 8]\n",
       "7    [7, 12, 5, 4, 2, 1, 7, 3, 2, 3, 10, 5, 3, 6]\n",
       "Name: word_lengths, dtype: object"
      ]
     },
     "execution_count": 58,
     "metadata": {},
     "output_type": "execute_result"
    }
   ],
   "source": [
    "df.word_lengths.head()"
   ]
  },
  {
   "cell_type": "code",
   "execution_count": 61,
   "metadata": {},
   "outputs": [
    {
     "data": {
      "text/html": [
       "<div>\n",
       "<style scoped>\n",
       "    .dataframe tbody tr th:only-of-type {\n",
       "        vertical-align: middle;\n",
       "    }\n",
       "\n",
       "    .dataframe tbody tr th {\n",
       "        vertical-align: top;\n",
       "    }\n",
       "\n",
       "    .dataframe thead th {\n",
       "        text-align: right;\n",
       "    }\n",
       "</style>\n",
       "<table border=\"1\" class=\"dataframe\">\n",
       "  <thead>\n",
       "    <tr style=\"text-align: right;\">\n",
       "      <th></th>\n",
       "      <th>userid</th>\n",
       "      <th>tweet_language</th>\n",
       "      <th>tweet_text</th>\n",
       "      <th>is_retweet</th>\n",
       "      <th>hashtags</th>\n",
       "      <th>topic</th>\n",
       "      <th>tweet_length</th>\n",
       "      <th>tokens</th>\n",
       "      <th>word_length</th>\n",
       "      <th>word_count</th>\n",
       "      <th>word_lengths</th>\n",
       "    </tr>\n",
       "  </thead>\n",
       "  <tbody>\n",
       "    <tr>\n",
       "      <th>1</th>\n",
       "      <td>299148448</td>\n",
       "      <td>en</td>\n",
       "      <td>@ParkerLampe An inquiry by congress confirms t...</td>\n",
       "      <td>False</td>\n",
       "      <td>NaN</td>\n",
       "      <td>2</td>\n",
       "      <td>102</td>\n",
       "      <td>[An, inquiry, by, congress, confirms, that, IS...</td>\n",
       "      <td>12</td>\n",
       "      <td>12</td>\n",
       "      <td>[2, 7, 2, 8, 8, 4, 4, 2, 6, 1, 3, 8]</td>\n",
       "    </tr>\n",
       "    <tr>\n",
       "      <th>2</th>\n",
       "      <td>299148448</td>\n",
       "      <td>en</td>\n",
       "      <td>@hadeelhmaidi @wordpressdotcom CIA predict thi...</td>\n",
       "      <td>False</td>\n",
       "      <td>NaN</td>\n",
       "      <td>1</td>\n",
       "      <td>132</td>\n",
       "      <td>[CIA, predict, third, terrorist, attack, after...</td>\n",
       "      <td>14</td>\n",
       "      <td>14</td>\n",
       "      <td>[3, 7, 5, 9, 6, 5, 6, 3, 9, 2, 3, 2, 1, 4]</td>\n",
       "    </tr>\n",
       "    <tr>\n",
       "      <th>5</th>\n",
       "      <td>299148448</td>\n",
       "      <td>en</td>\n",
       "      <td>@irfhabib why boko haram come europe,legally a...</td>\n",
       "      <td>False</td>\n",
       "      <td>NaN</td>\n",
       "      <td>2</td>\n",
       "      <td>79</td>\n",
       "      <td>[why, boko, haram, come, europe, legally, and,...</td>\n",
       "      <td>8</td>\n",
       "      <td>8</td>\n",
       "      <td>[3, 4, 5, 4, 6, 7, 3, 6]</td>\n",
       "    </tr>\n",
       "    <tr>\n",
       "      <th>6</th>\n",
       "      <td>299148448</td>\n",
       "      <td>en</td>\n",
       "      <td>@KhushbuCNN ISIS militants,plan to target West...</td>\n",
       "      <td>False</td>\n",
       "      <td>NaN</td>\n",
       "      <td>2</td>\n",
       "      <td>81</td>\n",
       "      <td>[ISIS, militants, plan, to, target, Western, c...</td>\n",
       "      <td>7</td>\n",
       "      <td>7</td>\n",
       "      <td>[4, 9, 4, 2, 6, 7, 8]</td>\n",
       "    </tr>\n",
       "    <tr>\n",
       "      <th>7</th>\n",
       "      <td>299148448</td>\n",
       "      <td>en</td>\n",
       "      <td>@placesbrands Turkish intelligence chief: ISIS...</td>\n",
       "      <td>False</td>\n",
       "      <td>NaN</td>\n",
       "      <td>2</td>\n",
       "      <td>122</td>\n",
       "      <td>[Turkish, intelligence, chief, ISIS, is, a, re...</td>\n",
       "      <td>14</td>\n",
       "      <td>14</td>\n",
       "      <td>[7, 12, 5, 4, 2, 1, 7, 3, 2, 3, 10, 5, 3, 6]</td>\n",
       "    </tr>\n",
       "  </tbody>\n",
       "</table>\n",
       "</div>"
      ],
      "text/plain": [
       "      userid tweet_language  \\\n",
       "1  299148448             en   \n",
       "2  299148448             en   \n",
       "5  299148448             en   \n",
       "6  299148448             en   \n",
       "7  299148448             en   \n",
       "\n",
       "                                          tweet_text  is_retweet hashtags  \\\n",
       "1  @ParkerLampe An inquiry by congress confirms t...       False      NaN   \n",
       "2  @hadeelhmaidi @wordpressdotcom CIA predict thi...       False      NaN   \n",
       "5  @irfhabib why boko haram come europe,legally a...       False      NaN   \n",
       "6  @KhushbuCNN ISIS militants,plan to target West...       False      NaN   \n",
       "7  @placesbrands Turkish intelligence chief: ISIS...       False      NaN   \n",
       "\n",
       "   topic  tweet_length                                             tokens  \\\n",
       "1      2           102  [An, inquiry, by, congress, confirms, that, IS...   \n",
       "2      1           132  [CIA, predict, third, terrorist, attack, after...   \n",
       "5      2            79  [why, boko, haram, come, europe, legally, and,...   \n",
       "6      2            81  [ISIS, militants, plan, to, target, Western, c...   \n",
       "7      2           122  [Turkish, intelligence, chief, ISIS, is, a, re...   \n",
       "\n",
       "   word_length  word_count                                  word_lengths  \n",
       "1           12          12          [2, 7, 2, 8, 8, 4, 4, 2, 6, 1, 3, 8]  \n",
       "2           14          14    [3, 7, 5, 9, 6, 5, 6, 3, 9, 2, 3, 2, 1, 4]  \n",
       "5            8           8                      [3, 4, 5, 4, 6, 7, 3, 6]  \n",
       "6            7           7                         [4, 9, 4, 2, 6, 7, 8]  \n",
       "7           14          14  [7, 12, 5, 4, 2, 1, 7, 3, 2, 3, 10, 5, 3, 6]  "
      ]
     },
     "execution_count": 61,
     "metadata": {},
     "output_type": "execute_result"
    }
   ],
   "source": [
    "df.head()"
   ]
  },
  {
   "cell_type": "code",
   "execution_count": 65,
   "metadata": {},
   "outputs": [
    {
     "data": {
      "text/plain": [
       "array(['@ParkerLampe An inquiry by congress confirms that ISIS is indeed a CIA creation http://t.co/eFRmFwYZTV',\n",
       "       '@irfhabib why boko haram come europe,legally and easily? http://t.co/on2vzPqEPH',\n",
       "       '@KhushbuCNN ISIS militants,plan to target Western capitals http://t.co/890VDVPE6o',\n",
       "       '@placesbrands Turkish intelligence chief: ISIS is a reality and we are optimistic about the future! http://t.co/8HnO2uDac2',\n",
       "       '@sedonaduck @MailOnline What would happen to you if you were a political dissent in Saudi Arabia? http://t.co/n1pHsz1UsX',\n",
       "       '@curdistani @FiratGunay Saudi embassy in Turkey became a safe haven for ISIL terrorists http://t.co/BsMnfC1xqU',\n",
       "       '@DOVEBRICK We can destroy Israel in ‘less than 12 minutes’: Pakistani commander https://t.co/CSkZ4Z6ke1',\n",
       "       '@AllProDad what they will never tell you about Christmas http://t.co/ovd4gGlWLE',\n",
       "       '@danabenj is there a secret collaboration between U.S and Iran against isis? http://t.co/Fw1IH3qOCb',\n",
       "       '@nancedor @globepmartin Turkish intelligence chief: ISIS is a reality and we are optimistic about the future! http://t.co/snE6NnYZbd',\n",
       "       '@therealeliycsha ISIS first decleration:sydney siege is a success for ISIS! http://t.co/dSR1uj3EdF',\n",
       "       '@ErnaReemers @bilericoproject British PM lashed out Turkey, warns against Erdoğan’s dangerous agendas http://t.co/goCGT89ZuR',\n",
       "       '@InstantReporter Saudi foreign minister: there are circles within our government which support terrorism http://t.co/HZlVndTXiB',\n",
       "       '@TaylorLauten14 An Israeli Mossad officer working for the Al-Nusra Front assassinated in Brussels http://t.co/aJW73a2Lhw',\n",
       "       '@DreamMalar shame:ISIS force children to behead theirs dolls to brainwash them http://t.co/1C51ESGABl',\n",
       "       '@kellybrotherart outbreak of contagious diseases including sexually transmitted epidemics in areas under ISIS control http://t.co/h5vYDchV4C',\n",
       "       '@ckolvekar @Juliet777777 Turkish intelligence chief: ISIS is a reality and we are optimistic about the future! http://t.co/8HnO2uDac2',\n",
       "       '@7MeydinaSelfie ISIS first decleration:sydney siege is a success for ISIS! http://t.co/dSR1uj3EdF',\n",
       "       '@penfspanon87 The Ba’athist militants plan to target Western capitals with the help of ISIS http://t.co/jC3KhIqZeP',\n",
       "       '@78dash We can destroy Israel in ‘less than 12 minutes’: Pakistani commander https://t.co/CSkZ4Z6ke1',\n",
       "       '@aspiringolivia An Israeli Mossad officer working for the Al-Nusra Front assassinated in Brussels http://t.co/dDhEeH0ttq',\n",
       "       '@lllDii The playboy king: the Bahraini monarch is diagnosed with HIV/AIDS http://t.co/pNwh82fvSA',\n",
       "       '@JewelryDeals3 Iranian turquoise gemstone for exportation most baeutiful in the world.contact me for more info',\n",
       "       '@ISIS_EVIL Meet the Yazidi Father and Daughter Creating a Unit to Fight ISIS http://t.co/dLTG3Bkr2H',\n",
       "       '@Kimbraov1 @TimesofIsrael Commander of the UAE Armed Forces implies Arab countries must support ISIS and Israel to oust Assad https://t.co/tcP6vqm4ZD',\n",
       "       '@KabirTaneja @scroll_in Meet the Tea House that Was a Hub for Suruc Bomber &amp; Other ISIS Recruits in Turkey http://t.co/GKM8ytADAZ',\n",
       "       '@jeanniemcbride is there a secret collaboration between U.S and Iran against isis? http://t.co/lSXw5ENonP',\n",
       "       \"@Beau_Selector a 360° Virtual tour to Visit gaza's demolitions http://t.co/t0woV9cuK6\",\n",
       "       \"@CeeHawk @AdrianNeenan 13 Facts Clinton Don't Want You To To Know https://t.co/kS6geZnq6F\",\n",
       "       '@Saudi_Refugees @hokom11 Saudi pledges $8.5 billion dollars if Hamas abandons armed resistance http://t.co/x0hj7yvVfl',\n",
       "       '@LambyEmilie world cup:the image that media censured  http://t.co/NzTGbYG5mR',\n",
       "       '@njnysparkles picture that show John McCain in a meeting with ISIS leader?Another proof that baghdadi is a CIA agent http://t.co/wxNYpWgKZD',\n",
       "       '@GaryT30 outbreak of contagious diseases including sexually transmitted epidemics in areas under ISIS control http://t.co/ZaygtFtO0N',\n",
       "       '@erprzztc ISIS militants,plan to target Western capitals http://t.co/890VDVPE6o',\n",
       "       '@someMGHOW @RT_com @GeoPoliticsRDT An inquiry by congress confirms that ISIS is indeed a CIA creation http://t.co/eFRmFwYZTV',\n",
       "       '@EllaCretu The Saudi prince warns Americans from looming ISIS terror attacks on U.S. soil http://t.co/q7lGMvY3j6',\n",
       "       '@KuwaitNews00 ISIS to inaugurate its first University, including a nuclear research center in Mousl http://t.co/WHkfGElvwJ',\n",
       "       '@pcarmini Putin: We defend Syria’s Assad from the American plots regardless of all possible costs http://t.co/j3vJVrp54F',\n",
       "       '@LubnaNadvi @BladeNzimandeMP British rabbi says Zionists Can Take Christian and Muslim Women As Sex Slaves https://t.co/i4ZYv8kGbk',\n",
       "       '@ecoATM what they will never tell you about Christmas http://t.co/ovd4gGlWLE',\n",
       "       '@RoyElvis an Iraqi Doctor kills his son who asked his mother and  to be offered to Mujahidin for sexual jihad http://t.co/srvIV3RhjZ',\n",
       "       '@PTISPOfficial @naeemul_haque Hello,do i look sexy in this picture? https://t.co/BS69qvGitY',\n",
       "       '@BrittanyUSC2011 A pro-ISIS Mutiny in Saudi Royal Air Force May Develop to a Fatal Blow to U.S.-led Campaign http://t.co/z7G3OoShep',\n",
       "       '@Jezebel4u Gaza:Einstein’s Letter about Deir Yassin Massacre http://t.co/DIOJnSZHcc',\n",
       "       '@StarzandStrypz isis was formed by usa in 2012 http://t.co/NvZMhhUG1x',\n",
       "       '@khoarii Turkish intelligence chief: ISIS is a reality and we are optimistic about the future! http://t.co/8HnO2uDac2',\n",
       "       '@hoterminus @Defensie ISIS:amazing pictures:Welcome to the middle ages http://t.co/sG06JQvStP',\n",
       "       '@redfigue Inside the Secret World of Saudi &amp; Arab Wealthy Playboys and Girls. http://t.co/oy0CUkJbKK',\n",
       "       '@brandsondigital BREAKING: Putin Warns Donald Trump … Globalists Planning To Assassinate You https://t.co/FKlp7UgJKM',\n",
       "       '@GMNnews Turkish intelligence chief: ISIS is a reality and we are optimistic about the future! http://t.co/snE6NnYZbd',\n",
       "       '@xhertx ISIS to open its first consulate in Istanbul http://t.co/UJFTxZE3pF',\n",
       "       '@AlbertoAmmann @Inidebate Turkish intelligence chief: ISIS is a reality and we are optimistic about the future! http://t.co/snE6NnYZbd',\n",
       "       \"@TylerPreston20 Putin:if Turkish soldier enters Iraq, Russia will liberate Cyprus from Erdogan's puppet regime https://t.co/6OKIyKS67u\",\n",
       "       '@cjiausa \"We\\'ll Give You to ISIS If You Don\\'t Talk\", Turkish Police Threaten Teenage Girl. http://t.co/Dowc6bQmYR',\n",
       "       '@LazyWrita An inquiry by congress confirms that ISIS is indeed a CIA creation http://t.co/QV1Cl7U5Si',\n",
       "       '@TelegraphWorld what they will never tell you about Christmas http://t.co/ovd4gGlWLE',\n",
       "       '@Commercial_Rep About 40 politicians on UK pedophile ring: Report  http://t.co/R9TzMI3jJl',\n",
       "       '@lowwintersun Yazidi girl tells of horrific ordeal as ISIS sex slave http://t.co/0ss6R6YmCQ',\n",
       "       '@hamzaalhassan Dear Hamza, this is Mehdi with Press TV. Plz email me at mehdiinheaven@gmail.com. This is regarding an interview. Thx.',\n",
       "       '#Impeachment: Last episode, arrestment of Trump and allies   #MuellerMonday  https://t.co/NteLMVt3nm',\n",
       "       'New post (Iran, world countries mark Quds Day with rallies) has been published on Black House - https://t.co/0mhnfbmDgA https://t.co/HeZU3il2om',\n",
       "       '@BBCNews Its at an all time hight fucking stupid https://t.co/1wLkffhirG',\n",
       "       \"Why Isn't Fugitive Ex-Prosecutor In Prison? Asks Iranian Lawmaker   https://t.co/J9w9Rl28s7  #Iran\",\n",
       "       '@indohimachali are you STILL trolling me?! wow, your islamophobia just has no end does it?',\n",
       "       '#USA: In time of strife, #Seattle community comes out to support Idriss #Mosque   https://t.co/Mdpd7F1Jso',\n",
       "       '#Norway: hairdresser could be jailed for refusing salon entry to woman in #hijab   https://t.co/yPEMhn9W0B  #Islamophobia #discrimination',\n",
       "       'The Great Challenge: China, Russia: http://t.co/CUblzW4V1D via @YouTube',\n",
       "       'Add a message to your video http://t.co/5k3gwZ8YDe',\n",
       "       'Currents of Life: Mariam Geist: https://t.co/fmyMTXqecw via @YouTube',\n",
       "       '@1bbce66a820375655289fad3db9dc80048a926bfe774ef91ce29a63edc091304 @Im_TheAntiTrump @TranslateRealDT @SaysHummingbird ha ha ha 😂😂😂. it is so funny. retweet it @gaitoulabackder @tpowers6pack @crewislife',\n",
       "       'Israeli Army Told to Prepare for Large-Scale Invasion of Gaza https://t.co/KqRn26YblS … #Politics #MiddleEast #Palestine #Israelcrimes https://t.co/DpYxIKkTQU',\n",
       "       '520 #Palestinians Arrested By #Israeli Forces Only In July, Report Says https://t.co/ORNyYLApn4 … https://t.co/99Eza71fUv',\n",
       "       'The Turkish Justice Department says it has arrested 32,000 people for suspected links to opposition leader Fethullah Gulen.',\n",
       "       '#Iran FM #Zarif: Final #deal will be published as an international document. #IranTalks #IranDeal #NuclearTalks',\n",
       "       \"Turkey's President Erdogan says he will open an embassy in East Jerusalem https://t.co/KKfPYdFAac\",\n",
       "       'Tillerson Met with Iranian FM Zarif and ‘the Tone was Very Matter-of-Fact’ – Liberty Front Press https://t.co/uhgl2CMSvA https://t.co/ZmkgSJGUqA',\n",
       "       \"Now David Cameron faces sleaze probe after dramatic confession of £30,000 stake in late father's offshore fund https://t.co/wkyjv1ZnCG\",\n",
       "       'Turkey remains unsafe in 2017 https://t.co/ruqg3kV0TI',\n",
       "       'Prior to Astana talks, accords make Syria crisis solution look in sight https://t.co/AzNKDeTdnm',\n",
       "       'Saudi ground forces aren’t able to fight against Yemeni army’s heroes https://t.co/Of3FSXuOI7',\n",
       "       'Supreme Court of India laments; says ‘Nobody listens to our orders’ https://t.co/cEkA32W1ch',\n",
       "       \"#Trump's awkward handshakes with world leaders  -  - https://t.co/DV9GDoGBGu #blackhouse #blackhouse_info #Handshake #Photos https://t.co/ilT8bq2kx8\",\n",
       "       'Netanyahu’s visit to #Argentina in a ... https://t.co/NFfGpbXcnN   #BenjaminNetanyahu #DrugTrafficking #Israel #Patagonia #Economy #Top https://t.co/LKlh6yvd7F',\n",
       "       '30,000 Rohingya Muslims trapped in mountains of #Myanmar ... https://t.co/iTCu94An0W   #MyanmarGenocide #RohingyaMuslims #Social #Top #V https://t.co/GYE34CUekP',\n",
       "       'Russia slams North for missile test, US for ... https://t.co/28XjMm3Zbe   #DonaldTrump #MissileTest #NorthKorea #Russi #Politics #Top https://t.co/kUSwsLC8yP',\n",
       "       \"Charlie Sheen hopes he won't have to pay any more hush money after revealing HIV+ status https://t.co/5iiao0wor2 https://t.co/So14Fdb8tE\",\n",
       "       '#ASCE #US infrastructure report card and #American water system  #Texas #Kentucky #Elite8 #Lostinjapan #AtlantaFX #AustinBombing #AusGP #bbcqt #WorldPoetryDay #WorldWaterForum8 #ThursdayThoughts #Vertigo2018 https://t.co/mxzrieJLnH',\n",
       "       'American Embassy Relocation To Al-Quds: Drives, Consequences https://t.co/frOoEL5IJi https://t.co/4D5ft2lPFe',\n",
       "       '@jackm Dear Jack, would you do a 10 min Skype interview with Press TV re: Syria? Email me -  ukcoordinator@presstv.ir with contact details.',\n",
       "       'This is the only #shithole place I know. https://t.co/LATYqMtb2D',\n",
       "       'Thoughts and prayers with the people of #Indonesia. #PrayForJakarta',\n",
       "       'The Dangerous Gambit https://t.co/Cs6D4I9cPV via @YouTube #Brusselsattack #Parisattacks #Q4T',\n",
       "       '#IWishIHadA better President and First Lady.  #ThursdayThoughts #الخميس_الونيس #ThursdayMotivation #ThursdayThought',\n",
       "       'June 9, 2016: Meeting was held in trump tower with Russians to discuss dirt on HRC.  Nov. 8, 2016: YOU KNOW WHAT HAPPENED.  July 16, 2018: trump to meet with Putin in Helsinki.  November 2018: Do NOT let Putin decide THIS election. AGAIN. #VoteBlue2018',\n",
       "       \"Don't Save #Hajj for the Old Age. #FromMasjidAlHaram @1803a95a0ab8963650589f13672df24b04f51db32cf950eff882637773542694 https://t.co/uYPAwFcmHX\",\n",
       "       'Watch: Hundreds Of Pro-Palestinians Protestors Gathered In Washington DC Ahead Of #AIPAC_2018 https://t.co/25JVlZDPOB https://t.co/dr1anJeYIr',\n",
       "       'This Is What The Most Popular #Politician In #America Looks Like. #Bernie2020 #BernieSanders #VoteThemOut https://t.co/eDHnWvyTal',\n",
       "       'Don Jr. Mocked on Twitter for Denouncing Dems as ‘Commie’ McCarthyites: ‘Perfect’ https://t.co/70Ns7N93Ub #NSD18 #WednesdayWisdom #militaryparade #IfThe70sHadTwitter #ReplaceLoveWithAnal #TheResistance #Resistance #ImpeachTrump #NotMyPresident #Resist #Trump #RussiaGate #DemForce https://t.co/PvyTWX7mj3',\n",
       "       '@NYDailyNews @NYPDnews White House (Ab)Uses #Ferguson To Promote More Surveillance http://t.co/qCeI24LMwi',\n",
       "       'Obama Riffs on #Healthcare Policy http://t.co/61xj605Ryj'],\n",
       "      dtype=object)"
      ]
     },
     "execution_count": 65,
     "metadata": {},
     "output_type": "execute_result"
    }
   ],
   "source": [
    "df[df.topic==2].tweet_text.values[0:100]"
   ]
  },
  {
   "cell_type": "code",
   "execution_count": 93,
   "metadata": {},
   "outputs": [],
   "source": [
    "grouped_df = df.groupby('userid',as_index=False).agg(' '.join)[['tweet_text','userid']]"
   ]
  },
  {
   "cell_type": "code",
   "execution_count": 94,
   "metadata": {},
   "outputs": [
    {
     "data": {
      "text/html": [
       "<div>\n",
       "<style scoped>\n",
       "    .dataframe tbody tr th:only-of-type {\n",
       "        vertical-align: middle;\n",
       "    }\n",
       "\n",
       "    .dataframe tbody tr th {\n",
       "        vertical-align: top;\n",
       "    }\n",
       "\n",
       "    .dataframe thead th {\n",
       "        text-align: right;\n",
       "    }\n",
       "</style>\n",
       "<table border=\"1\" class=\"dataframe\">\n",
       "  <thead>\n",
       "    <tr style=\"text-align: right;\">\n",
       "      <th></th>\n",
       "      <th>tweet_text</th>\n",
       "      <th>userid</th>\n",
       "    </tr>\n",
       "  </thead>\n",
       "  <tbody>\n",
       "    <tr>\n",
       "      <th>0</th>\n",
       "      <td>Happy #teachers_day. Miss my school days. BTW,...</td>\n",
       "      <td>00d0de71571f5fe235fe3fe967348c08a493a173a08a47...</td>\n",
       "    </tr>\n",
       "    <tr>\n",
       "      <th>1</th>\n",
       "      <td>hi twitter https://t.co/yRWv06RW27</td>\n",
       "      <td>02076c70fd70c8b29ce89bd11c802072cc51ef1850cbbe...</td>\n",
       "    </tr>\n",
       "    <tr>\n",
       "      <th>2</th>\n",
       "      <td>Tens of thousands of Syrians are being exiled ...</td>\n",
       "      <td>023f243ac3ec0852edb345a625ac7a4972e8fb4f225d86...</td>\n",
       "    </tr>\n",
       "    <tr>\n",
       "      <th>3</th>\n",
       "      <td>If these two pictures are not enough to make y...</td>\n",
       "      <td>02a0cf481804cdd531497c03e7bdf3941915b08cbe3e0b...</td>\n",
       "    </tr>\n",
       "    <tr>\n",
       "      <th>4</th>\n",
       "      <td>Why Isn't Fugitive Ex-Prosecutor In Prison? As...</td>\n",
       "      <td>02c7119c0fab4e8b2c16a2320cd6759f0220477471f1b0...</td>\n",
       "    </tr>\n",
       "  </tbody>\n",
       "</table>\n",
       "</div>"
      ],
      "text/plain": [
       "                                          tweet_text  \\\n",
       "0  Happy #teachers_day. Miss my school days. BTW,...   \n",
       "1                 hi twitter https://t.co/yRWv06RW27   \n",
       "2  Tens of thousands of Syrians are being exiled ...   \n",
       "3  If these two pictures are not enough to make y...   \n",
       "4  Why Isn't Fugitive Ex-Prosecutor In Prison? As...   \n",
       "\n",
       "                                              userid  \n",
       "0  00d0de71571f5fe235fe3fe967348c08a493a173a08a47...  \n",
       "1  02076c70fd70c8b29ce89bd11c802072cc51ef1850cbbe...  \n",
       "2  023f243ac3ec0852edb345a625ac7a4972e8fb4f225d86...  \n",
       "3  02a0cf481804cdd531497c03e7bdf3941915b08cbe3e0b...  \n",
       "4  02c7119c0fab4e8b2c16a2320cd6759f0220477471f1b0...  "
      ]
     },
     "execution_count": 94,
     "metadata": {},
     "output_type": "execute_result"
    }
   ],
   "source": [
    "grouped_df.head()"
   ]
  },
  {
   "cell_type": "code",
   "execution_count": 99,
   "metadata": {},
   "outputs": [],
   "source": [
    "punc = set(string.punctuation+'‘’…°–—“”')\n",
    "lem = nltk.stem.WordNetLemmatizer()\n",
    "twt = TweetTokenizer(reduce_len=True, strip_handles=True)\n",
    "\n",
    "def tweet_tokenize_full(tweet):\n",
    "    tokens = twt.tokenize(tweet)\n",
    "    no_punc = [token for token in tokens if (token[0] not in punc) and (len(token)>2) and (len(token)<13)]\n",
    "    no_links = [token for token in no_punc if token[0:4]!='http']\n",
    "    lemmatized = [lem.lemmatize(token) for token in no_links]\n",
    "    return lemmatized"
   ]
  },
  {
   "cell_type": "code",
   "execution_count": 157,
   "metadata": {},
   "outputs": [],
   "source": [
    "num_feats = 1000\n",
    "ngrams = (1,3)\n",
    "vctr = TfidfVectorizer(analyzer='word',\n",
    "                       stop_words='english',\n",
    "                       tokenizer=tweet_tokenize_full,\n",
    "                       max_features=num_feats,\n",
    "                       ngram_range=ngrams)"
   ]
  },
  {
   "cell_type": "code",
   "execution_count": 166,
   "metadata": {},
   "outputs": [],
   "source": [
    "X = vctr.fit_transform(grouped_df.tweet_text)\n",
    "n_components = 4\n",
    "nmf = NMF(n_components=n_components, random_state=1, alpha=0.1, solver='mu', max_iter=1000, l1_ratio=0.5).fit(X)"
   ]
  },
  {
   "cell_type": "code",
   "execution_count": 167,
   "metadata": {},
   "outputs": [
    {
     "name": "stdout",
     "output_type": "stream",
     "text": [
      "Topic #0: ['wa', 'paris', 'saudi prince warns', 'said', 'new age', 'ha infiltrated united', 'israeli mossad', 'israel jesus', 'photo', 'world', 'year', 'black', 'policy', 'daughter', 'war', 'killing', \"iran's\", 'woman', 'force child behead', 'video', 'threatens', 'syria', 'kill', 'reveals', 'representative turkey', 'attack', 'live', 'mark', 'treacherous policy', 'arab', 'najib', 'cost', 'support', 'state', 'sanction', 'like', 'kill son', 'father reaction', 'palestinian', 'ambassador']\n",
      "\n",
      "\n",
      "Topic #1: ['turn city ash', 'kill', 'best', 'ha', 'alter jewishness', 'use', 'work', 'live', 'doe photo prouve', 'make', 'looming', 'video', 'siege success', 'force child', 'negotiate', 'praised', 'terrorist group', 'working', 'funny', 'family', 'donald trump 9/11', 'worked', 'hillary', 'watch', 'doomed', 'gaza einstein letter', 'girl school saudi', 'white', 'wish', 'collapse erdoğan continues', 'ban', 'believe', 'daesh', 'threatens', 'image', 'way', 'governed demagogue', 'want', 'haven', 'hoping oust']\n",
      "\n",
      "\n",
      "Topic #2: ['chief isi reality', 'yemeni', 'yemen', 'war', 'hoping oust', 'welcome', 'malaysian', 'amazing', 'ha', 'doe photo prouve', 'sidney pakistan', 'stop', 'daughter', 'said', 'agreement cia', 'citizen', 'world', 'creation', 'image', 'arab', 'city ash', 'woman', 'sanction', 'bomb', 'pakiistan', 'king bahraini', 'crime', 'letter deir', 'suffering', 'twitter', 'king', 'released', 'cost', 'missile', 'killing', 'mother offered', 'syria', 'kill son', 'erdogan cheerful', 'us-cuba relation']\n",
      "\n",
      "\n",
      "Topic #3: ['treacherous policy', 'prime', 'president obama', 'vote', 'amazing', 'donald trump 9/11', 'governed demagogue', 'doomed', 'malaysian', 'ha', 'live', 'thing', 'talal saudi arabia', 'safe haven', 'nuclear research', 'kill', 'photo', 'ambassador', 'wa', 'cost', 'white', 'jesus', 'threatens', 'reveals', 'doe photo prouve', 'daughter', 'donald trump', 'racist society', 'king bahraini', 'north', 'want', 'chief isi reality', 'negotiate', 'funny photo father', 'make', 'policy change', 'john mccain', 'stop', \"iran's\", 'confirms isi cia']\n",
      "\n",
      "\n",
      "\n"
     ]
    }
   ],
   "source": [
    "n_top_words = 40\n",
    "print_top_words(nmf, feature_names, n_top_words)"
   ]
  },
  {
   "cell_type": "code",
   "execution_count": 168,
   "metadata": {},
   "outputs": [
    {
     "data": {
      "text/plain": [
       "(345, 1000)"
      ]
     },
     "execution_count": 168,
     "metadata": {},
     "output_type": "execute_result"
    }
   ],
   "source": [
    "X.shape"
   ]
  },
  {
   "cell_type": "code",
   "execution_count": 169,
   "metadata": {},
   "outputs": [
    {
     "data": {
      "text/plain": [
       "(345, 3)"
      ]
     },
     "execution_count": 169,
     "metadata": {},
     "output_type": "execute_result"
    }
   ],
   "source": [
    "grouped_df.shape"
   ]
  },
  {
   "cell_type": "code",
   "execution_count": 170,
   "metadata": {},
   "outputs": [
    {
     "data": {
      "text/plain": [
       "(4, 1000)"
      ]
     },
     "execution_count": 170,
     "metadata": {},
     "output_type": "execute_result"
    }
   ],
   "source": [
    "nmf.components_.shape"
   ]
  },
  {
   "cell_type": "code",
   "execution_count": 171,
   "metadata": {},
   "outputs": [],
   "source": [
    "arr = []\n",
    "for i in X.toarray():\n",
    "    arr.append(np.argmax(np.sum(i*nmf.components_,axis=1)))"
   ]
  },
  {
   "cell_type": "code",
   "execution_count": 172,
   "metadata": {},
   "outputs": [],
   "source": [
    "grouped_df['topic'] = arr"
   ]
  },
  {
   "cell_type": "code",
   "execution_count": 175,
   "metadata": {},
   "outputs": [
    {
     "data": {
      "text/plain": [
       "topic\n",
       "0    257\n",
       "1     32\n",
       "2     28\n",
       "3     28\n",
       "Name: userid, dtype: int64"
      ]
     },
     "execution_count": 175,
     "metadata": {},
     "output_type": "execute_result"
    }
   ],
   "source": [
    "grouped_df.groupby('topic').count()['userid']"
   ]
  },
  {
   "cell_type": "code",
   "execution_count": 178,
   "metadata": {},
   "outputs": [
    {
     "data": {
      "text/plain": [
       "<matplotlib.axes._subplots.AxesSubplot at 0x1a1b19c080>"
      ]
     },
     "execution_count": 178,
     "metadata": {},
     "output_type": "execute_result"
    },
    {
     "data": {
      "image/png": "[encoded data removed]",
      "text/plain": [
       "<matplotlib.figure.Figure at 0x1a242c8860>"
      ]
     },
     "metadata": {},
     "output_type": "display_data"
    }
   ],
   "source": [
    "grouped_df.topic.hist(bins=20)"
   ]
  },
  {
   "cell_type": "code",
   "execution_count": null,
   "metadata": {},
   "outputs": [],
   "source": []
  }
 ],
 "metadata": {
  "kernelspec": {
   "display_name": "Python 3",
   "language": "python",
   "name": "python3"
  },
  "language_info": {
   "codemirror_mode": {
    "name": "ipython",
    "version": 3
   },
   "file_extension": ".py",
   "mimetype": "text/x-python",
   "name": "python",
   "nbconvert_exporter": "python",
   "pygments_lexer": "ipython3",
   "version": "3.6.4"
  }
 },
 "nbformat": 4,
 "nbformat_minor": 2
}
