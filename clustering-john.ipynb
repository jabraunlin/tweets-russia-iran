{
 "cells": [
  {
   "cell_type": "markdown",
   "metadata": {},
   "source": [
    "# Iranian Tweet EDA and Topic Modeling"
   ]
  },
  {
   "cell_type": "code",
   "execution_count": 1,
   "metadata": {},
   "outputs": [],
   "source": [
    "import pandas as pd\n",
    "import numpy as np\n",
    "import matplotlib.pyplot as plt\n",
    "import nltk\n",
    "import string\n",
    "from nltk.tokenize import TweetTokenizer\n",
    "from sklearn.feature_extraction.text import TfidfVectorizer\n",
    "from sklearn.decomposition import NMF"
   ]
  },
  {
   "cell_type": "markdown",
   "metadata": {},
   "source": [
    "### Data Filtering"
   ]
  },
  {
   "cell_type": "code",
   "execution_count": 2,
   "metadata": {},
   "outputs": [],
   "source": [
    "data = pd.read_csv('data/iranian_tweets.csv')"
   ]
  },
  {
   "cell_type": "code",
   "execution_count": 3,
   "metadata": {},
   "outputs": [
    {
     "name": "stdout",
     "output_type": "stream",
     "text": [
      "<class 'pandas.core.frame.DataFrame'>\n",
      "RangeIndex: 1122936 entries, 0 to 1122935\n",
      "Data columns (total 31 columns):\n",
      "tweetid                     1122936 non-null int64\n",
      "userid                      1122936 non-null object\n",
      "user_display_name           1122936 non-null object\n",
      "user_screen_name            1122936 non-null object\n",
      "user_reported_location      887669 non-null object\n",
      "user_profile_description    995845 non-null object\n",
      "user_profile_url            434954 non-null object\n",
      "follower_count              1122936 non-null int64\n",
      "following_count             1122936 non-null int64\n",
      "account_creation_date       1122936 non-null object\n",
      "account_language            1122936 non-null object\n",
      "tweet_language              1117307 non-null object\n",
      "tweet_text                  1122936 non-null object\n",
      "tweet_time                  1122936 non-null object\n",
      "tweet_client_name           1100078 non-null object\n",
      "in_reply_to_tweetid         339350 non-null float64\n",
      "in_reply_to_userid          440244 non-null object\n",
      "quoted_tweet_tweetid        23369 non-null float64\n",
      "is_retweet                  1122936 non-null bool\n",
      "retweet_userid              232337 non-null object\n",
      "retweet_tweetid             232337 non-null float64\n",
      "latitude                    32 non-null float64\n",
      "longitude                   32 non-null float64\n",
      "quote_count                 1121572 non-null float64\n",
      "reply_count                 1121572 non-null float64\n",
      "like_count                  1121572 non-null float64\n",
      "retweet_count               1121572 non-null float64\n",
      "hashtags                    885731 non-null object\n",
      "urls                        1115553 non-null object\n",
      "user_mentions               685556 non-null object\n",
      "poll_choices                387 non-null object\n",
      "dtypes: bool(1), float64(9), int64(3), object(18)\n",
      "memory usage: 258.1+ MB\n"
     ]
    }
   ],
   "source": [
    "data.info()"
   ]
  },
  {
   "cell_type": "code",
   "execution_count": 4,
   "metadata": {},
   "outputs": [],
   "source": [
    "df = data[['userid','tweet_language','tweet_text','is_retweet','hashtags']]"
   ]
  },
  {
   "cell_type": "code",
   "execution_count": 5,
   "metadata": {},
   "outputs": [],
   "source": [
    "df = df[(df.is_retweet==False)&(df.tweet_language=='en')]"
   ]
  },
  {
   "cell_type": "markdown",
   "metadata": {},
   "source": [
    "### Tokenize & Lemmatize, Remove Punctuation"
   ]
  },
  {
   "cell_type": "code",
   "execution_count": 6,
   "metadata": {},
   "outputs": [],
   "source": [
    "# Tfidf vectorizer takes care of stop words; it's on us to remove links, punctuation (can include in token pattern?)"
   ]
  },
  {
   "cell_type": "code",
   "execution_count": 7,
   "metadata": {},
   "outputs": [],
   "source": [
    "punc = set(string.punctuation+'‘’…°–—“”')\n",
    "lem = nltk.stem.WordNetLemmatizer()\n",
    "twt = TweetTokenizer(reduce_len=True, strip_handles=True)\n",
    "\n",
    "def tweet_tokenize_full(tweet):\n",
    "    tokens = twt.tokenize(tweet)\n",
    "    no_punc = [token for token in tokens if (token[0] not in punc) and (len(token)>2)]\n",
    "    no_links = [token for token in no_punc if token[0:4]!='http']\n",
    "    lemmatized = [lem.lemmatize(token) for token in no_links]\n",
    "    return lemmatized"
   ]
  },
  {
   "cell_type": "code",
   "execution_count": 8,
   "metadata": {},
   "outputs": [],
   "source": [
    "num_feats = 1000\n",
    "ngrams = (1,3)\n",
    "vctr = TfidfVectorizer(analyzer='word',\n",
    "                       stop_words='english',\n",
    "                       tokenizer=tweet_tokenize_full,\n",
    "                       max_features=num_feats,\n",
    "                       ngram_range=ngrams)"
   ]
  },
  {
   "cell_type": "code",
   "execution_count": 9,
   "metadata": {},
   "outputs": [],
   "source": [
    "X = vctr.fit_transform(df.tweet_text)"
   ]
  },
  {
   "cell_type": "code",
   "execution_count": 10,
   "metadata": {},
   "outputs": [],
   "source": [
    "tfidf_vals = X.toarray()"
   ]
  },
  {
   "cell_type": "code",
   "execution_count": 11,
   "metadata": {},
   "outputs": [],
   "source": [
    "feature_names = np.array(vctr.get_feature_names())"
   ]
  },
  {
   "cell_type": "code",
   "execution_count": 12,
   "metadata": {},
   "outputs": [],
   "source": [
    "tfidf_results = pd.DataFrame(data = tfidf_vals, columns=feature_names)"
   ]
  },
  {
   "cell_type": "code",
   "execution_count": 13,
   "metadata": {},
   "outputs": [],
   "source": [
    "n_components = 4\n",
    "nmf = NMF(n_components=n_components, random_state=1, alpha=0.1, solver='mu', max_iter=1000, l1_ratio=0.5).fit(X)"
   ]
  },
  {
   "cell_type": "code",
   "execution_count": 14,
   "metadata": {},
   "outputs": [],
   "source": [
    "def print_top_words(model, feature_names, n_top_words):\n",
    "    for topic_idx, topic in enumerate(model.components_):\n",
    "        top_words = [feature_names[i] for i in topic.argsort()[:-n_top_words - 1:-1]]\n",
    "        print(\"Topic #{0}: {1}\".format(topic_idx, top_words))\n",
    "        print('\\n')\n",
    "    print()"
   ]
  },
  {
   "cell_type": "code",
   "execution_count": 15,
   "metadata": {},
   "outputs": [
    {
     "name": "stdout",
     "output_type": "stream",
     "text": [
      "Topic #0: ['state', 'united', 'united state', 'racist', 'society', 'racist society', 'state structurally', 'structurally racist society', 'united state structurally', 'structurally racist', 'structurally', 'state structurally racist', 'nation', 'nation state', 'set nation state', 'set nation', 'inferno set', 'inferno set nation', \"ferguson's inferno\", \"ferguson's inferno set\"]\n",
      "\n",
      "\n",
      "Topic #1: ['day', 'attack', 'usa', 'terrorist', 'terrorist attack', 'predict', 'usa day', 'predict terrorist', 'predict terrorist attack', 'cia predict', 'cia predict terrorist', 'cia', 'pakistan', 'pakistan usa day', 'pakistan usa', 'attack sidney', 'sidney', 'terrorist attack sidney', 'sidney pakistan', 'attack sidney pakistan']\n",
      "\n",
      "\n",
      "Topic #2: ['iran', 'saudi', 'isi', 'trump', 'arabia', 'saudi arabia', '3081cc5899cfede8252c2015644ffeccd7b27b1149fb', 'israel', 'ha', 'donald', 'new', 'secret', 'donald trump', 'say', 'prince', 'syria', 'wa', 'american', 'toonsonline', 'war']\n",
      "\n",
      "\n",
      "Topic #3: ['cfb 431d28838bc87b3473081cc5899cfede8252c2015644ffeccd7b27b1149fb', '431d28838bc87b3473081cc5899cfede8252c2015644ffeccd7b27b1149fb', 'cfb', 'america', 'obama', 'police', 'killed', 'dead', 'year', 'report', 'child', 'woman', 'world', 'government', 'people', 'face', 'million', 'man', 'security', 'attack']\n",
      "\n",
      "\n",
      "\n"
     ]
    }
   ],
   "source": [
    "n_top_words = 20\n",
    "print_top_words(nmf, feature_names, n_top_words)"
   ]
  },
  {
   "cell_type": "code",
   "execution_count": 16,
   "metadata": {},
   "outputs": [
    {
     "data": {
      "text/plain": [
       "(4, 1000)"
      ]
     },
     "execution_count": 16,
     "metadata": {},
     "output_type": "execute_result"
    }
   ],
   "source": [
    "nmf.components_.shape"
   ]
  },
  {
   "cell_type": "code",
   "execution_count": 17,
   "metadata": {},
   "outputs": [
    {
     "data": {
      "text/plain": [
       "(172929, 1000)"
      ]
     },
     "execution_count": 17,
     "metadata": {},
     "output_type": "execute_result"
    }
   ],
   "source": [
    "tfidf_results.shape"
   ]
  },
  {
   "cell_type": "code",
   "execution_count": 18,
   "metadata": {},
   "outputs": [],
   "source": [
    "arr = []\n",
    "for i in tfidf_results.values:\n",
    "    arr.append(np.argmax(np.sum(i*nmf.components_,axis=1)))"
   ]
  },
  {
   "cell_type": "code",
   "execution_count": 19,
   "metadata": {},
   "outputs": [],
   "source": [
    "df['topic'] = np.array(arr)"
   ]
  },
  {
   "cell_type": "code",
   "execution_count": 20,
   "metadata": {},
   "outputs": [
    {
     "data": {
      "text/html": [
       "<div>\n",
       "<style scoped>\n",
       "    .dataframe tbody tr th:only-of-type {\n",
       "        vertical-align: middle;\n",
       "    }\n",
       "\n",
       "    .dataframe tbody tr th {\n",
       "        vertical-align: top;\n",
       "    }\n",
       "\n",
       "    .dataframe thead th {\n",
       "        text-align: right;\n",
       "    }\n",
       "</style>\n",
       "<table border=\"1\" class=\"dataframe\">\n",
       "  <thead>\n",
       "    <tr style=\"text-align: right;\">\n",
       "      <th></th>\n",
       "      <th>userid</th>\n",
       "      <th>tweet_language</th>\n",
       "      <th>tweet_text</th>\n",
       "      <th>is_retweet</th>\n",
       "      <th>hashtags</th>\n",
       "      <th>topic</th>\n",
       "    </tr>\n",
       "  </thead>\n",
       "  <tbody>\n",
       "    <tr>\n",
       "      <th>1</th>\n",
       "      <td>299148448</td>\n",
       "      <td>en</td>\n",
       "      <td>@ParkerLampe An inquiry by congress confirms t...</td>\n",
       "      <td>False</td>\n",
       "      <td>NaN</td>\n",
       "      <td>2</td>\n",
       "    </tr>\n",
       "    <tr>\n",
       "      <th>2</th>\n",
       "      <td>299148448</td>\n",
       "      <td>en</td>\n",
       "      <td>@hadeelhmaidi @wordpressdotcom CIA predict thi...</td>\n",
       "      <td>False</td>\n",
       "      <td>NaN</td>\n",
       "      <td>1</td>\n",
       "    </tr>\n",
       "    <tr>\n",
       "      <th>5</th>\n",
       "      <td>299148448</td>\n",
       "      <td>en</td>\n",
       "      <td>@irfhabib why boko haram come europe,legally a...</td>\n",
       "      <td>False</td>\n",
       "      <td>NaN</td>\n",
       "      <td>2</td>\n",
       "    </tr>\n",
       "    <tr>\n",
       "      <th>6</th>\n",
       "      <td>299148448</td>\n",
       "      <td>en</td>\n",
       "      <td>@KhushbuCNN ISIS militants,plan to target West...</td>\n",
       "      <td>False</td>\n",
       "      <td>NaN</td>\n",
       "      <td>2</td>\n",
       "    </tr>\n",
       "    <tr>\n",
       "      <th>7</th>\n",
       "      <td>299148448</td>\n",
       "      <td>en</td>\n",
       "      <td>@placesbrands Turkish intelligence chief: ISIS...</td>\n",
       "      <td>False</td>\n",
       "      <td>NaN</td>\n",
       "      <td>2</td>\n",
       "    </tr>\n",
       "  </tbody>\n",
       "</table>\n",
       "</div>"
      ],
      "text/plain": [
       "      userid tweet_language  \\\n",
       "1  299148448             en   \n",
       "2  299148448             en   \n",
       "5  299148448             en   \n",
       "6  299148448             en   \n",
       "7  299148448             en   \n",
       "\n",
       "                                          tweet_text  is_retweet hashtags  \\\n",
       "1  @ParkerLampe An inquiry by congress confirms t...       False      NaN   \n",
       "2  @hadeelhmaidi @wordpressdotcom CIA predict thi...       False      NaN   \n",
       "5  @irfhabib why boko haram come europe,legally a...       False      NaN   \n",
       "6  @KhushbuCNN ISIS militants,plan to target West...       False      NaN   \n",
       "7  @placesbrands Turkish intelligence chief: ISIS...       False      NaN   \n",
       "\n",
       "   topic  \n",
       "1      2  \n",
       "2      1  \n",
       "5      2  \n",
       "6      2  \n",
       "7      2  "
      ]
     },
     "execution_count": 20,
     "metadata": {},
     "output_type": "execute_result"
    }
   ],
   "source": [
    "df.head()"
   ]
  },
  {
   "cell_type": "code",
   "execution_count": 21,
   "metadata": {},
   "outputs": [],
   "source": [
    "df['tweet_length'] = df.tweet_text.apply(lambda x: len(x))"
   ]
  },
  {
   "cell_type": "code",
   "execution_count": 22,
   "metadata": {},
   "outputs": [
    {
     "data": {
      "text/plain": [
       "1    102\n",
       "2    132\n",
       "5     79\n",
       "6     81\n",
       "7    122\n",
       "Name: tweet_length, dtype: int64"
      ]
     },
     "execution_count": 22,
     "metadata": {},
     "output_type": "execute_result"
    }
   ],
   "source": [
    "df.tweet_length.head()"
   ]
  },
  {
   "cell_type": "code",
   "execution_count": 23,
   "metadata": {},
   "outputs": [],
   "source": [
    "def tweet_tokenize(tweet):\n",
    "    tokens = twt.tokenize(tweet)\n",
    "    no_punc = [token for token in tokens if (token[0] not in punc)]\n",
    "    no_links = [token for token in no_punc if token[0:4]!='http']\n",
    "    return no_links"
   ]
  },
  {
   "cell_type": "code",
   "execution_count": 24,
   "metadata": {},
   "outputs": [],
   "source": [
    "df['tokens'] = df.tweet_text.apply(tweet_tokenize)"
   ]
  },
  {
   "cell_type": "code",
   "execution_count": 53,
   "metadata": {},
   "outputs": [
    {
     "data": {
      "text/plain": [
       "array([list(['An', 'inquiry', 'by', 'congress', 'confirms', 'that', 'ISIS', 'is', 'indeed', 'a', 'CIA', 'creation']),\n",
       "       list(['CIA', 'predict', 'third', 'terrorist', 'attack', 'after', 'Sidney', 'and', 'Pakiistan', 'in', 'USA', 'in', '3', 'days']),\n",
       "       list(['why', 'boko', 'haram', 'come', 'europe', 'legally', 'and', 'easily']),\n",
       "       list(['ISIS', 'militants', 'plan', 'to', 'target', 'Western', 'capitals']),\n",
       "       list(['Turkish', 'intelligence', 'chief', 'ISIS', 'is', 'a', 'reality', 'and', 'we', 'are', 'optimistic', 'about', 'the', 'future']),\n",
       "       list(['What', 'would', 'happen', 'to', 'you', 'if', 'you', 'were', 'a', 'political', 'dissent', 'in', 'Saudi', 'Arabia']),\n",
       "       list(['Saudi', 'embassy', 'in', 'Turkey', 'became', 'a', 'safe', 'haven', 'for', 'ISIL', 'terrorists']),\n",
       "       list(['We', 'can', 'destroy', 'Israel', 'in', 'less', 'than', '12', 'minutes', 'Pakistani', 'commander']),\n",
       "       list(['what', 'they', 'will', 'never', 'tell', 'you', 'about', 'Christmas']),\n",
       "       list(['is', 'there', 'a', 'secret', 'collaboration', 'between', 'U', 'S', 'and', 'Iran', 'against', 'isis'])],\n",
       "      dtype=object)"
      ]
     },
     "execution_count": 53,
     "metadata": {},
     "output_type": "execute_result"
    }
   ],
   "source": [
    "df.tokens.values[0:10]"
   ]
  },
  {
   "cell_type": "code",
   "execution_count": 26,
   "metadata": {},
   "outputs": [],
   "source": [
    "df['word_count'] = df.tokens.apply(lambda x: len(x))"
   ]
  },
  {
   "cell_type": "code",
   "execution_count": 27,
   "metadata": {},
   "outputs": [
    {
     "data": {
      "text/plain": [
       "1    12\n",
       "2    14\n",
       "5     8\n",
       "6     7\n",
       "7    14\n",
       "Name: word_count, dtype: int64"
      ]
     },
     "execution_count": 27,
     "metadata": {},
     "output_type": "execute_result"
    }
   ],
   "source": [
    "df.word_count.head()"
   ]
  },
  {
   "cell_type": "code",
   "execution_count": 28,
   "metadata": {},
   "outputs": [
    {
     "data": {
      "text/plain": [
       "array(['@ParkerLampe An inquiry by congress confirms that ISIS is indeed a CIA creation http://t.co/eFRmFwYZTV',\n",
       "       '@hadeelhmaidi @wordpressdotcom CIA predict third terrorist attack after Sidney and Pakiistan in USA in 3 days http://t.co/IrPx7M223N',\n",
       "       '@irfhabib why boko haram come europe,legally and easily? http://t.co/on2vzPqEPH'],\n",
       "      dtype=object)"
      ]
     },
     "execution_count": 28,
     "metadata": {},
     "output_type": "execute_result"
    }
   ],
   "source": [
    "df.tweet_text.values[0:3]"
   ]
  },
  {
   "cell_type": "code",
   "execution_count": 29,
   "metadata": {},
   "outputs": [
    {
     "data": {
      "text/plain": [
       "<matplotlib.axes._subplots.AxesSubplot at 0x1a3fe9b8d0>"
      ]
     },
     "execution_count": 29,
     "metadata": {},
     "output_type": "execute_result"
    },
    {
     "data": {
      "image/png": "[encoded data removed]",
      "text/plain": [
       "<matplotlib.figure.Figure at 0x1a3fe9b4a8>"
      ]
     },
     "metadata": {},
     "output_type": "display_data"
    }
   ],
   "source": [
    "df.word_count.hist(bins=20)"
   ]
  },
  {
   "cell_type": "code",
   "execution_count": 30,
   "metadata": {},
   "outputs": [
    {
     "data": {
      "image/png": "[encoded data removed]",
      "text/plain": [
       "<matplotlib.figure.Figure at 0x1a4047c668>"
      ]
     },
     "metadata": {},
     "output_type": "display_data"
    }
   ],
   "source": [
    "fig, ax = plt.subplots(4,1,figsize=(10,10))\n",
    "for n in range(4):\n",
    "    ax[n].hist(df[df.topic==n]['word_count'],bins=30)\n",
    "    ax[n].set_title('Topic {}'.format(n))\n",
    "plt.tight_layout()"
   ]
  },
  {
   "cell_type": "code",
   "execution_count": 31,
   "metadata": {},
   "outputs": [],
   "source": [
    "df['word_lengths']=df.tokens.apply(lambda x: [len(i) for i in x])"
   ]
  },
  {
   "cell_type": "code",
   "execution_count": 32,
   "metadata": {},
   "outputs": [
    {
     "data": {
      "text/plain": [
       "1            [2, 7, 2, 8, 8, 4, 4, 2, 6, 1, 3, 8]\n",
       "2      [3, 7, 5, 9, 6, 5, 6, 3, 9, 2, 3, 2, 1, 4]\n",
       "5                        [3, 4, 5, 4, 6, 7, 3, 6]\n",
       "6                           [4, 9, 4, 2, 6, 7, 8]\n",
       "7    [7, 12, 5, 4, 2, 1, 7, 3, 2, 3, 10, 5, 3, 6]\n",
       "Name: word_lengths, dtype: object"
      ]
     },
     "execution_count": 32,
     "metadata": {},
     "output_type": "execute_result"
    }
   ],
   "source": [
    "df.word_lengths.head()"
   ]
  },
  {
   "cell_type": "code",
   "execution_count": 33,
   "metadata": {},
   "outputs": [
    {
     "data": {
      "text/html": [
       "<div>\n",
       "<style scoped>\n",
       "    .dataframe tbody tr th:only-of-type {\n",
       "        vertical-align: middle;\n",
       "    }\n",
       "\n",
       "    .dataframe tbody tr th {\n",
       "        vertical-align: top;\n",
       "    }\n",
       "\n",
       "    .dataframe thead th {\n",
       "        text-align: right;\n",
       "    }\n",
       "</style>\n",
       "<table border=\"1\" class=\"dataframe\">\n",
       "  <thead>\n",
       "    <tr style=\"text-align: right;\">\n",
       "      <th></th>\n",
       "      <th>userid</th>\n",
       "      <th>tweet_language</th>\n",
       "      <th>tweet_text</th>\n",
       "      <th>is_retweet</th>\n",
       "      <th>hashtags</th>\n",
       "      <th>topic</th>\n",
       "      <th>tweet_length</th>\n",
       "      <th>tokens</th>\n",
       "      <th>word_count</th>\n",
       "      <th>word_lengths</th>\n",
       "    </tr>\n",
       "  </thead>\n",
       "  <tbody>\n",
       "    <tr>\n",
       "      <th>1</th>\n",
       "      <td>299148448</td>\n",
       "      <td>en</td>\n",
       "      <td>@ParkerLampe An inquiry by congress confirms t...</td>\n",
       "      <td>False</td>\n",
       "      <td>NaN</td>\n",
       "      <td>2</td>\n",
       "      <td>102</td>\n",
       "      <td>[An, inquiry, by, congress, confirms, that, IS...</td>\n",
       "      <td>12</td>\n",
       "      <td>[2, 7, 2, 8, 8, 4, 4, 2, 6, 1, 3, 8]</td>\n",
       "    </tr>\n",
       "    <tr>\n",
       "      <th>2</th>\n",
       "      <td>299148448</td>\n",
       "      <td>en</td>\n",
       "      <td>@hadeelhmaidi @wordpressdotcom CIA predict thi...</td>\n",
       "      <td>False</td>\n",
       "      <td>NaN</td>\n",
       "      <td>1</td>\n",
       "      <td>132</td>\n",
       "      <td>[CIA, predict, third, terrorist, attack, after...</td>\n",
       "      <td>14</td>\n",
       "      <td>[3, 7, 5, 9, 6, 5, 6, 3, 9, 2, 3, 2, 1, 4]</td>\n",
       "    </tr>\n",
       "    <tr>\n",
       "      <th>5</th>\n",
       "      <td>299148448</td>\n",
       "      <td>en</td>\n",
       "      <td>@irfhabib why boko haram come europe,legally a...</td>\n",
       "      <td>False</td>\n",
       "      <td>NaN</td>\n",
       "      <td>2</td>\n",
       "      <td>79</td>\n",
       "      <td>[why, boko, haram, come, europe, legally, and,...</td>\n",
       "      <td>8</td>\n",
       "      <td>[3, 4, 5, 4, 6, 7, 3, 6]</td>\n",
       "    </tr>\n",
       "    <tr>\n",
       "      <th>6</th>\n",
       "      <td>299148448</td>\n",
       "      <td>en</td>\n",
       "      <td>@KhushbuCNN ISIS militants,plan to target West...</td>\n",
       "      <td>False</td>\n",
       "      <td>NaN</td>\n",
       "      <td>2</td>\n",
       "      <td>81</td>\n",
       "      <td>[ISIS, militants, plan, to, target, Western, c...</td>\n",
       "      <td>7</td>\n",
       "      <td>[4, 9, 4, 2, 6, 7, 8]</td>\n",
       "    </tr>\n",
       "    <tr>\n",
       "      <th>7</th>\n",
       "      <td>299148448</td>\n",
       "      <td>en</td>\n",
       "      <td>@placesbrands Turkish intelligence chief: ISIS...</td>\n",
       "      <td>False</td>\n",
       "      <td>NaN</td>\n",
       "      <td>2</td>\n",
       "      <td>122</td>\n",
       "      <td>[Turkish, intelligence, chief, ISIS, is, a, re...</td>\n",
       "      <td>14</td>\n",
       "      <td>[7, 12, 5, 4, 2, 1, 7, 3, 2, 3, 10, 5, 3, 6]</td>\n",
       "    </tr>\n",
       "  </tbody>\n",
       "</table>\n",
       "</div>"
      ],
      "text/plain": [
       "      userid tweet_language  \\\n",
       "1  299148448             en   \n",
       "2  299148448             en   \n",
       "5  299148448             en   \n",
       "6  299148448             en   \n",
       "7  299148448             en   \n",
       "\n",
       "                                          tweet_text  is_retweet hashtags  \\\n",
       "1  @ParkerLampe An inquiry by congress confirms t...       False      NaN   \n",
       "2  @hadeelhmaidi @wordpressdotcom CIA predict thi...       False      NaN   \n",
       "5  @irfhabib why boko haram come europe,legally a...       False      NaN   \n",
       "6  @KhushbuCNN ISIS militants,plan to target West...       False      NaN   \n",
       "7  @placesbrands Turkish intelligence chief: ISIS...       False      NaN   \n",
       "\n",
       "   topic  tweet_length                                             tokens  \\\n",
       "1      2           102  [An, inquiry, by, congress, confirms, that, IS...   \n",
       "2      1           132  [CIA, predict, third, terrorist, attack, after...   \n",
       "5      2            79  [why, boko, haram, come, europe, legally, and,...   \n",
       "6      2            81  [ISIS, militants, plan, to, target, Western, c...   \n",
       "7      2           122  [Turkish, intelligence, chief, ISIS, is, a, re...   \n",
       "\n",
       "   word_count                                  word_lengths  \n",
       "1          12          [2, 7, 2, 8, 8, 4, 4, 2, 6, 1, 3, 8]  \n",
       "2          14    [3, 7, 5, 9, 6, 5, 6, 3, 9, 2, 3, 2, 1, 4]  \n",
       "5           8                      [3, 4, 5, 4, 6, 7, 3, 6]  \n",
       "6           7                         [4, 9, 4, 2, 6, 7, 8]  \n",
       "7          14  [7, 12, 5, 4, 2, 1, 7, 3, 2, 3, 10, 5, 3, 6]  "
      ]
     },
     "execution_count": 33,
     "metadata": {},
     "output_type": "execute_result"
    }
   ],
   "source": [
    "df.head()"
   ]
  },
  {
   "cell_type": "code",
   "execution_count": 34,
   "metadata": {},
   "outputs": [
    {
     "data": {
      "text/plain": [
       "array(['299148448', '299148448', '299148448', '299148448', '299148448',\n",
       "       '299148448', '299148448', '299148448', '299148448', '299148448',\n",
       "       '299148448', '299148448', '299148448', '299148448', '299148448',\n",
       "       '299148448', '299148448', '299148448', '299148448', '299148448',\n",
       "       '299148448', '299148448', '299148448', '299148448', '299148448',\n",
       "       '299148448', '299148448', '299148448', '299148448', '299148448',\n",
       "       '299148448', '299148448', '299148448', '299148448', '299148448',\n",
       "       '299148448', '299148448', '299148448', '299148448', '299148448',\n",
       "       '299148448', '299148448', '299148448', '299148448', '299148448',\n",
       "       '299148448', '299148448', '299148448', '299148448', '299148448',\n",
       "       '299148448', '299148448', '299148448', '299148448', '299148448',\n",
       "       '299148448', '299148448', '299148448',\n",
       "       '980caa8b2e19cf7a96c1bae738f274ebdf9571cdeaca0d45aaa666f8ba66a5fb',\n",
       "       'fa345559085c3eefd96303a1378c1a6164a036b0e244721320a75206ec96c389',\n",
       "       '8bd29bb49cc980e98cd1b2812043fcdcfbad9537d20a03601e6d48a10af05aaa',\n",
       "       '8a12f3605ac9bffc2ef7e0bd041b25b4b9f206d3abe263ee7b2547a94155b983',\n",
       "       '02c7119c0fab4e8b2c16a2320cd6759f0220477471f1b094fe3e46ce49894c51',\n",
       "       '02c7119c0fab4e8b2c16a2320cd6759f0220477471f1b094fe3e46ce49894c51',\n",
       "       '02c7119c0fab4e8b2c16a2320cd6759f0220477471f1b094fe3e46ce49894c51',\n",
       "       '02c7119c0fab4e8b2c16a2320cd6759f0220477471f1b094fe3e46ce49894c51',\n",
       "       'd849548cd3ed64162a536a129082525007e7f550c10d3c9e5936e51a6e23ae7a',\n",
       "       'd849548cd3ed64162a536a129082525007e7f550c10d3c9e5936e51a6e23ae7a',\n",
       "       'd849548cd3ed64162a536a129082525007e7f550c10d3c9e5936e51a6e23ae7a',\n",
       "       'c51bdfa30626c54697c4171cb626c948f14963740b8accd32f7a6f1ef274f8e4',\n",
       "       '904241027292258304', '904241027292258304', '2271266689',\n",
       "       '2271266689', '853144291560042496', '853144291560042496',\n",
       "       '2c8c93cfa35faf97d31c15188fa06944335a29d5a1391915044c923aeed349f1',\n",
       "       '511bf2a7d21fdc7e9fcccae74cabf050d99fe7950d8064e11f1c2626934f8cf3',\n",
       "       '511bf2a7d21fdc7e9fcccae74cabf050d99fe7950d8064e11f1c2626934f8cf3',\n",
       "       '511bf2a7d21fdc7e9fcccae74cabf050d99fe7950d8064e11f1c2626934f8cf3',\n",
       "       '511bf2a7d21fdc7e9fcccae74cabf050d99fe7950d8064e11f1c2626934f8cf3',\n",
       "       '1bc6a9b22504e305649652bd85b042cc63ef745dc96c654801fa58e44e3e2dcc',\n",
       "       '1bc6a9b22504e305649652bd85b042cc63ef745dc96c654801fa58e44e3e2dcc',\n",
       "       '1bc6a9b22504e305649652bd85b042cc63ef745dc96c654801fa58e44e3e2dcc',\n",
       "       '1bc6a9b22504e305649652bd85b042cc63ef745dc96c654801fa58e44e3e2dcc',\n",
       "       'bf44e9fac394acee9a3c3194d1bda3c58246742ce9c1c1aa90cffb78426b689f',\n",
       "       'e3564a01bca8a00ef2f377c0582cd2f7026805b2df6d741306c70617cc49a40b',\n",
       "       '904241027292258304',\n",
       "       '6ada1b5f220a5097d9f7deac1e4e3cde1b8b9a34f814d076de44f2560273ac91',\n",
       "       '858326490672398336',\n",
       "       '95eac414c09311b6317e44ec7d57f2d3fc08fbd8062c5e37c84f2b1a5653b7aa',\n",
       "       '95eac414c09311b6317e44ec7d57f2d3fc08fbd8062c5e37c84f2b1a5653b7aa',\n",
       "       'dd57f496213c56fa72b22865e5613897b0d6a70d02153bf8211c93a332dc574a',\n",
       "       'dd57f496213c56fa72b22865e5613897b0d6a70d02153bf8211c93a332dc574a',\n",
       "       '1803a95a0ab8963650589f13672df24b04f51db32cf950eff882637773542694',\n",
       "       '1394743334', '853144291560042496', '853144291560042496',\n",
       "       'cfb431d28838bc87b3473081cc5899cfede8252c2015644ffeccd7b27b1149fb',\n",
       "       'cfb431d28838bc87b3473081cc5899cfede8252c2015644ffeccd7b27b1149fb'],\n",
       "      dtype=object)"
      ]
     },
     "execution_count": 34,
     "metadata": {},
     "output_type": "execute_result"
    }
   ],
   "source": [
    "df[df.topic==2].userid.values[0:100]"
   ]
  },
  {
   "cell_type": "code",
   "execution_count": 35,
   "metadata": {},
   "outputs": [],
   "source": [
    "grouped_df = df.groupby('userid').agg(' '.join).reset_index()"
   ]
  },
  {
   "cell_type": "code",
   "execution_count": null,
   "metadata": {},
   "outputs": [],
   "source": []
  },
  {
   "cell_type": "code",
   "execution_count": 36,
   "metadata": {},
   "outputs": [],
   "source": [
    "punc = set(string.punctuation+'‘’…°–—“”')\n",
    "lem = nltk.stem.WordNetLemmatizer()\n",
    "twt = TweetTokenizer(reduce_len=True, strip_handles=True)\n",
    "\n",
    "def tweet_tokenize_full(tweet):\n",
    "    tokens = twt.tokenize(tweet)\n",
    "    no_punc = [token for token in tokens if (token[0] not in punc) and (len(token)>2) and (len(token)<13)]\n",
    "    no_links = [token for token in no_punc if token[0:4]!='http']\n",
    "    lemmatized = [lem.lemmatize(token) for token in no_links]\n",
    "    return lemmatized"
   ]
  },
  {
   "cell_type": "code",
   "execution_count": 37,
   "metadata": {},
   "outputs": [],
   "source": [
    "num_feats = 1000\n",
    "ngrams = (1,3)\n",
    "vctr = TfidfVectorizer(analyzer='word',\n",
    "                       stop_words='english',\n",
    "                       tokenizer=tweet_tokenize_full,\n",
    "                       max_features=num_feats,\n",
    "                       ngram_range=ngrams)"
   ]
  },
  {
   "cell_type": "code",
   "execution_count": 38,
   "metadata": {},
   "outputs": [],
   "source": [
    "X = vctr.fit_transform(grouped_df.tweet_text)\n",
    "n_components = 4\n",
    "nmf = NMF(n_components=n_components, random_state=1, alpha=0.1, solver='mu', max_iter=1000, l1_ratio=0.5).fit(X)"
   ]
  },
  {
   "cell_type": "code",
   "execution_count": 39,
   "metadata": {},
   "outputs": [
    {
     "name": "stdout",
     "output_type": "stream",
     "text": [
      "Topic #0: ['wa', 'paris', 'saudi prince warns', 'said', 'new age', 'ha infiltrated united', 'israeli mossad', 'israel jesus', 'photo', 'world', 'year', 'black', 'policy', 'daughter', 'war', 'killing', \"iran's\", 'woman', 'force child behead', 'video', 'threatens', 'syria', 'kill', 'reveals', 'representative turkey', 'attack', 'live', 'mark', 'treacherous policy', 'arab', 'najib', 'cost', 'support', 'state', 'sanction', 'like', 'kill son', 'father reaction', 'palestinian', 'ambassador']\n",
      "\n",
      "\n",
      "Topic #1: ['turn city ash', 'kill', 'best', 'ha', 'alter jewishness', 'use', 'work', 'live', 'doe photo prouve', 'make', 'looming', 'video', 'siege success', 'force child', 'negotiate', 'praised', 'terrorist group', 'working', 'funny', 'family', 'donald trump 9/11', 'worked', 'hillary', 'watch', 'doomed', 'gaza einstein letter', 'girl school saudi', 'white', 'wish', 'collapse erdoğan continues', 'ban', 'believe', 'daesh', 'threatens', 'image', 'way', 'governed demagogue', 'want', 'haven', 'hoping oust']\n",
      "\n",
      "\n",
      "Topic #2: ['chief isi reality', 'yemeni', 'yemen', 'war', 'hoping oust', 'welcome', 'malaysian', 'amazing', 'ha', 'doe photo prouve', 'sidney pakistan', 'stop', 'daughter', 'said', 'agreement cia', 'citizen', 'world', 'creation', 'image', 'arab', 'city ash', 'woman', 'sanction', 'bomb', 'pakiistan', 'king bahraini', 'crime', 'letter deir', 'suffering', 'twitter', 'king', 'released', 'cost', 'missile', 'killing', 'mother offered', 'syria', 'kill son', 'erdogan cheerful', 'us-cuba relation']\n",
      "\n",
      "\n",
      "Topic #3: ['treacherous policy', 'prime', 'president obama', 'vote', 'amazing', 'donald trump 9/11', 'governed demagogue', 'doomed', 'malaysian', 'ha', 'live', 'thing', 'talal saudi arabia', 'safe haven', 'nuclear research', 'kill', 'photo', 'ambassador', 'wa', 'cost', 'white', 'jesus', 'threatens', 'reveals', 'doe photo prouve', 'daughter', 'donald trump', 'racist society', 'king bahraini', 'north', 'want', 'chief isi reality', 'negotiate', 'funny photo father', 'make', 'policy change', 'john mccain', 'stop', \"iran's\", 'confirms isi cia']\n",
      "\n",
      "\n",
      "\n"
     ]
    }
   ],
   "source": [
    "n_top_words = 40\n",
    "print_top_words(nmf, feature_names, n_top_words)"
   ]
  },
  {
   "cell_type": "code",
   "execution_count": 40,
   "metadata": {},
   "outputs": [
    {
     "data": {
      "text/plain": [
       "(345, 1000)"
      ]
     },
     "execution_count": 40,
     "metadata": {},
     "output_type": "execute_result"
    }
   ],
   "source": [
    "X.shape"
   ]
  },
  {
   "cell_type": "code",
   "execution_count": 41,
   "metadata": {},
   "outputs": [
    {
     "data": {
      "text/plain": [
       "(345, 3)"
      ]
     },
     "execution_count": 41,
     "metadata": {},
     "output_type": "execute_result"
    }
   ],
   "source": [
    "grouped_df.shape"
   ]
  },
  {
   "cell_type": "code",
   "execution_count": 42,
   "metadata": {},
   "outputs": [
    {
     "data": {
      "text/plain": [
       "(4, 1000)"
      ]
     },
     "execution_count": 42,
     "metadata": {},
     "output_type": "execute_result"
    }
   ],
   "source": [
    "nmf.components_.shape"
   ]
  },
  {
   "cell_type": "code",
   "execution_count": 43,
   "metadata": {},
   "outputs": [],
   "source": [
    "arr = []\n",
    "for i in X.toarray():\n",
    "    arr.append(np.argmax(np.sum(i*nmf.components_,axis=1)))"
   ]
  },
  {
   "cell_type": "code",
   "execution_count": 44,
   "metadata": {},
   "outputs": [],
   "source": [
    "grouped_df['topic'] = arr"
   ]
  },
  {
   "cell_type": "code",
   "execution_count": 45,
   "metadata": {},
   "outputs": [
    {
     "data": {
      "text/plain": [
       "topic\n",
       "0    257\n",
       "1     32\n",
       "2     28\n",
       "3     28\n",
       "Name: userid, dtype: int64"
      ]
     },
     "execution_count": 45,
     "metadata": {},
     "output_type": "execute_result"
    }
   ],
   "source": [
    "grouped_df.groupby('topic').count()['userid']"
   ]
  },
  {
   "cell_type": "code",
   "execution_count": 46,
   "metadata": {},
   "outputs": [
    {
     "data": {
      "text/plain": [
       "<matplotlib.axes._subplots.AxesSubplot at 0x1a21177a58>"
      ]
     },
     "execution_count": 46,
     "metadata": {},
     "output_type": "execute_result"
    },
    {
     "data": {
      "image/png": "[encoded data removed]",
      "text/plain": [
       "<matplotlib.figure.Figure at 0x1a2822f128>"
      ]
     },
     "metadata": {},
     "output_type": "display_data"
    }
   ],
   "source": [
    "grouped_df.topic.hist(bins=20)"
   ]
  },
  {
   "cell_type": "code",
   "execution_count": 47,
   "metadata": {},
   "outputs": [],
   "source": [
    "df = pd.merge(df, grouped_df[['topic','userid']],how='left',on='userid')"
   ]
  },
  {
   "cell_type": "code",
   "execution_count": 48,
   "metadata": {},
   "outputs": [
    {
     "data": {
      "text/html": [
       "<div>\n",
       "<style scoped>\n",
       "    .dataframe tbody tr th:only-of-type {\n",
       "        vertical-align: middle;\n",
       "    }\n",
       "\n",
       "    .dataframe tbody tr th {\n",
       "        vertical-align: top;\n",
       "    }\n",
       "\n",
       "    .dataframe thead th {\n",
       "        text-align: right;\n",
       "    }\n",
       "</style>\n",
       "<table border=\"1\" class=\"dataframe\">\n",
       "  <thead>\n",
       "    <tr style=\"text-align: right;\">\n",
       "      <th></th>\n",
       "      <th>userid</th>\n",
       "      <th>tweet_language</th>\n",
       "      <th>tweet_text</th>\n",
       "      <th>is_retweet</th>\n",
       "      <th>hashtags</th>\n",
       "      <th>topic_x</th>\n",
       "      <th>tweet_length</th>\n",
       "      <th>tokens</th>\n",
       "      <th>word_count</th>\n",
       "      <th>word_lengths</th>\n",
       "      <th>topic_y</th>\n",
       "    </tr>\n",
       "  </thead>\n",
       "  <tbody>\n",
       "    <tr>\n",
       "      <th>0</th>\n",
       "      <td>299148448</td>\n",
       "      <td>en</td>\n",
       "      <td>@ParkerLampe An inquiry by congress confirms t...</td>\n",
       "      <td>False</td>\n",
       "      <td>NaN</td>\n",
       "      <td>2</td>\n",
       "      <td>102</td>\n",
       "      <td>[An, inquiry, by, congress, confirms, that, IS...</td>\n",
       "      <td>12</td>\n",
       "      <td>[2, 7, 2, 8, 8, 4, 4, 2, 6, 1, 3, 8]</td>\n",
       "      <td>0</td>\n",
       "    </tr>\n",
       "    <tr>\n",
       "      <th>1</th>\n",
       "      <td>299148448</td>\n",
       "      <td>en</td>\n",
       "      <td>@hadeelhmaidi @wordpressdotcom CIA predict thi...</td>\n",
       "      <td>False</td>\n",
       "      <td>NaN</td>\n",
       "      <td>1</td>\n",
       "      <td>132</td>\n",
       "      <td>[CIA, predict, third, terrorist, attack, after...</td>\n",
       "      <td>14</td>\n",
       "      <td>[3, 7, 5, 9, 6, 5, 6, 3, 9, 2, 3, 2, 1, 4]</td>\n",
       "      <td>0</td>\n",
       "    </tr>\n",
       "    <tr>\n",
       "      <th>2</th>\n",
       "      <td>299148448</td>\n",
       "      <td>en</td>\n",
       "      <td>@irfhabib why boko haram come europe,legally a...</td>\n",
       "      <td>False</td>\n",
       "      <td>NaN</td>\n",
       "      <td>2</td>\n",
       "      <td>79</td>\n",
       "      <td>[why, boko, haram, come, europe, legally, and,...</td>\n",
       "      <td>8</td>\n",
       "      <td>[3, 4, 5, 4, 6, 7, 3, 6]</td>\n",
       "      <td>0</td>\n",
       "    </tr>\n",
       "    <tr>\n",
       "      <th>3</th>\n",
       "      <td>299148448</td>\n",
       "      <td>en</td>\n",
       "      <td>@KhushbuCNN ISIS militants,plan to target West...</td>\n",
       "      <td>False</td>\n",
       "      <td>NaN</td>\n",
       "      <td>2</td>\n",
       "      <td>81</td>\n",
       "      <td>[ISIS, militants, plan, to, target, Western, c...</td>\n",
       "      <td>7</td>\n",
       "      <td>[4, 9, 4, 2, 6, 7, 8]</td>\n",
       "      <td>0</td>\n",
       "    </tr>\n",
       "    <tr>\n",
       "      <th>4</th>\n",
       "      <td>299148448</td>\n",
       "      <td>en</td>\n",
       "      <td>@placesbrands Turkish intelligence chief: ISIS...</td>\n",
       "      <td>False</td>\n",
       "      <td>NaN</td>\n",
       "      <td>2</td>\n",
       "      <td>122</td>\n",
       "      <td>[Turkish, intelligence, chief, ISIS, is, a, re...</td>\n",
       "      <td>14</td>\n",
       "      <td>[7, 12, 5, 4, 2, 1, 7, 3, 2, 3, 10, 5, 3, 6]</td>\n",
       "      <td>0</td>\n",
       "    </tr>\n",
       "  </tbody>\n",
       "</table>\n",
       "</div>"
      ],
      "text/plain": [
       "      userid tweet_language  \\\n",
       "0  299148448             en   \n",
       "1  299148448             en   \n",
       "2  299148448             en   \n",
       "3  299148448             en   \n",
       "4  299148448             en   \n",
       "\n",
       "                                          tweet_text  is_retweet hashtags  \\\n",
       "0  @ParkerLampe An inquiry by congress confirms t...       False      NaN   \n",
       "1  @hadeelhmaidi @wordpressdotcom CIA predict thi...       False      NaN   \n",
       "2  @irfhabib why boko haram come europe,legally a...       False      NaN   \n",
       "3  @KhushbuCNN ISIS militants,plan to target West...       False      NaN   \n",
       "4  @placesbrands Turkish intelligence chief: ISIS...       False      NaN   \n",
       "\n",
       "   topic_x  tweet_length                                             tokens  \\\n",
       "0        2           102  [An, inquiry, by, congress, confirms, that, IS...   \n",
       "1        1           132  [CIA, predict, third, terrorist, attack, after...   \n",
       "2        2            79  [why, boko, haram, come, europe, legally, and,...   \n",
       "3        2            81  [ISIS, militants, plan, to, target, Western, c...   \n",
       "4        2           122  [Turkish, intelligence, chief, ISIS, is, a, re...   \n",
       "\n",
       "   word_count                                  word_lengths  topic_y  \n",
       "0          12          [2, 7, 2, 8, 8, 4, 4, 2, 6, 1, 3, 8]        0  \n",
       "1          14    [3, 7, 5, 9, 6, 5, 6, 3, 9, 2, 3, 2, 1, 4]        0  \n",
       "2           8                      [3, 4, 5, 4, 6, 7, 3, 6]        0  \n",
       "3           7                         [4, 9, 4, 2, 6, 7, 8]        0  \n",
       "4          14  [7, 12, 5, 4, 2, 1, 7, 3, 2, 3, 10, 5, 3, 6]        0  "
      ]
     },
     "execution_count": 48,
     "metadata": {},
     "output_type": "execute_result"
    }
   ],
   "source": [
    "df.head()"
   ]
  },
  {
   "cell_type": "code",
   "execution_count": 49,
   "metadata": {},
   "outputs": [
    {
     "data": {
      "text/plain": [
       "(0, 1000)"
      ]
     },
     "execution_count": 49,
     "metadata": {},
     "output_type": "execute_result"
    },
    {
     "data": {
      "image/png": "[encoded data removed]",
      "text/plain": [
       "<matplotlib.figure.Figure at 0x1a2a29e550>"
      ]
     },
     "metadata": {},
     "output_type": "display_data"
    }
   ],
   "source": [
    "data.groupby('userid').mean().plot('follower_count','following_count',kind='scatter',alpha=0.5)\n",
    "plt.xlim((0,1000))\n",
    "plt.ylim((0,1000))"
   ]
  },
  {
   "cell_type": "code",
   "execution_count": 50,
   "metadata": {},
   "outputs": [
    {
     "data": {
      "text/plain": [
       "(0, 1000)"
      ]
     },
     "execution_count": 50,
     "metadata": {},
     "output_type": "execute_result"
    },
    {
     "data": {
      "image/png": "[encoded data removed]",
      "text/plain": [
       "<matplotlib.figure.Figure at 0x1a2118e320>"
      ]
     },
     "metadata": {},
     "output_type": "display_data"
    }
   ],
   "source": [
    "data.groupby(('userid','follower_count')).sum().reset_index().plot('follower_count','like_count',kind='scatter',alpha=0.5)\n",
    "plt.xlim((0,1000))\n",
    "plt.ylim((0,1000))"
   ]
  },
  {
   "cell_type": "code",
   "execution_count": 51,
   "metadata": {},
   "outputs": [
    {
     "data": {
      "text/html": [
       "<div>\n",
       "<style scoped>\n",
       "    .dataframe tbody tr th:only-of-type {\n",
       "        vertical-align: middle;\n",
       "    }\n",
       "\n",
       "    .dataframe tbody tr th {\n",
       "        vertical-align: top;\n",
       "    }\n",
       "\n",
       "    .dataframe thead th {\n",
       "        text-align: right;\n",
       "    }\n",
       "</style>\n",
       "<table border=\"1\" class=\"dataframe\">\n",
       "  <thead>\n",
       "    <tr style=\"text-align: right;\">\n",
       "      <th></th>\n",
       "      <th>tweetid</th>\n",
       "      <th>userid</th>\n",
       "      <th>user_display_name</th>\n",
       "      <th>user_screen_name</th>\n",
       "      <th>user_reported_location</th>\n",
       "      <th>user_profile_description</th>\n",
       "      <th>user_profile_url</th>\n",
       "      <th>follower_count</th>\n",
       "      <th>following_count</th>\n",
       "      <th>account_creation_date</th>\n",
       "      <th>...</th>\n",
       "      <th>latitude</th>\n",
       "      <th>longitude</th>\n",
       "      <th>quote_count</th>\n",
       "      <th>reply_count</th>\n",
       "      <th>like_count</th>\n",
       "      <th>retweet_count</th>\n",
       "      <th>hashtags</th>\n",
       "      <th>urls</th>\n",
       "      <th>user_mentions</th>\n",
       "      <th>poll_choices</th>\n",
       "    </tr>\n",
       "  </thead>\n",
       "  <tbody>\n",
       "    <tr>\n",
       "      <th>0</th>\n",
       "      <td>533622371429543936</td>\n",
       "      <td>299148448</td>\n",
       "      <td>Maria Luis</td>\n",
       "      <td>marialuis91</td>\n",
       "      <td>Nantes, France</td>\n",
       "      <td>journaliste indépendante/un vrai journaliste e...</td>\n",
       "      <td>NaN</td>\n",
       "      <td>8012</td>\n",
       "      <td>1450</td>\n",
       "      <td>2011-05-15</td>\n",
       "      <td>...</td>\n",
       "      <td>NaN</td>\n",
       "      <td>NaN</td>\n",
       "      <td>0.0</td>\n",
       "      <td>0.0</td>\n",
       "      <td>0.0</td>\n",
       "      <td>0.0</td>\n",
       "      <td>NaN</td>\n",
       "      <td>[http://fr.awdnews.com/divertissements/5757-ce...</td>\n",
       "      <td>[574356455]</td>\n",
       "      <td>NaN</td>\n",
       "    </tr>\n",
       "    <tr>\n",
       "      <th>1</th>\n",
       "      <td>527205814906654721</td>\n",
       "      <td>299148448</td>\n",
       "      <td>Maria Luis</td>\n",
       "      <td>marialuis91</td>\n",
       "      <td>Nantes, France</td>\n",
       "      <td>journaliste indépendante/un vrai journaliste e...</td>\n",
       "      <td>NaN</td>\n",
       "      <td>8012</td>\n",
       "      <td>1450</td>\n",
       "      <td>2011-05-15</td>\n",
       "      <td>...</td>\n",
       "      <td>NaN</td>\n",
       "      <td>NaN</td>\n",
       "      <td>0.0</td>\n",
       "      <td>0.0</td>\n",
       "      <td>0.0</td>\n",
       "      <td>0.0</td>\n",
       "      <td>NaN</td>\n",
       "      <td>[http://www.awdnews.com/top-news/10080-an-inqu...</td>\n",
       "      <td>[438542436]</td>\n",
       "      <td>NaN</td>\n",
       "    </tr>\n",
       "    <tr>\n",
       "      <th>2</th>\n",
       "      <td>545166827350134784</td>\n",
       "      <td>299148448</td>\n",
       "      <td>Maria Luis</td>\n",
       "      <td>marialuis91</td>\n",
       "      <td>Nantes, France</td>\n",
       "      <td>journaliste indépendante/un vrai journaliste e...</td>\n",
       "      <td>NaN</td>\n",
       "      <td>8012</td>\n",
       "      <td>1450</td>\n",
       "      <td>2011-05-15</td>\n",
       "      <td>...</td>\n",
       "      <td>NaN</td>\n",
       "      <td>NaN</td>\n",
       "      <td>0.0</td>\n",
       "      <td>0.0</td>\n",
       "      <td>0.0</td>\n",
       "      <td>0.0</td>\n",
       "      <td>NaN</td>\n",
       "      <td>[http://www.awdnews.com/political/10404-cia-pr...</td>\n",
       "      <td>[823905, 256625456]</td>\n",
       "      <td>NaN</td>\n",
       "    </tr>\n",
       "    <tr>\n",
       "      <th>3</th>\n",
       "      <td>538045437316321280</td>\n",
       "      <td>299148448</td>\n",
       "      <td>Maria Luis</td>\n",
       "      <td>marialuis91</td>\n",
       "      <td>Nantes, France</td>\n",
       "      <td>journaliste indépendante/un vrai journaliste e...</td>\n",
       "      <td>NaN</td>\n",
       "      <td>8012</td>\n",
       "      <td>1450</td>\n",
       "      <td>2011-05-15</td>\n",
       "      <td>...</td>\n",
       "      <td>NaN</td>\n",
       "      <td>NaN</td>\n",
       "      <td>0.0</td>\n",
       "      <td>0.0</td>\n",
       "      <td>0.0</td>\n",
       "      <td>0.0</td>\n",
       "      <td>NaN</td>\n",
       "      <td>[http://fr.awdnews.com/divertissements/5796-to...</td>\n",
       "      <td>[919513172]</td>\n",
       "      <td>NaN</td>\n",
       "    </tr>\n",
       "    <tr>\n",
       "      <th>4</th>\n",
       "      <td>530053681668841472</td>\n",
       "      <td>299148448</td>\n",
       "      <td>Maria Luis</td>\n",
       "      <td>marialuis91</td>\n",
       "      <td>Nantes, France</td>\n",
       "      <td>journaliste indépendante/un vrai journaliste e...</td>\n",
       "      <td>NaN</td>\n",
       "      <td>8012</td>\n",
       "      <td>1450</td>\n",
       "      <td>2011-05-15</td>\n",
       "      <td>...</td>\n",
       "      <td>NaN</td>\n",
       "      <td>NaN</td>\n",
       "      <td>0.0</td>\n",
       "      <td>0.0</td>\n",
       "      <td>1.0</td>\n",
       "      <td>2.0</td>\n",
       "      <td>NaN</td>\n",
       "      <td>[http://fr.awdnews.com/soci%C3%A9t%C3%A9/5723-...</td>\n",
       "      <td>[83864876]</td>\n",
       "      <td>NaN</td>\n",
       "    </tr>\n",
       "  </tbody>\n",
       "</table>\n",
       "<p>5 rows × 31 columns</p>\n",
       "</div>"
      ],
      "text/plain": [
       "              tweetid     userid user_display_name user_screen_name  \\\n",
       "0  533622371429543936  299148448        Maria Luis      marialuis91   \n",
       "1  527205814906654721  299148448        Maria Luis      marialuis91   \n",
       "2  545166827350134784  299148448        Maria Luis      marialuis91   \n",
       "3  538045437316321280  299148448        Maria Luis      marialuis91   \n",
       "4  530053681668841472  299148448        Maria Luis      marialuis91   \n",
       "\n",
       "  user_reported_location                           user_profile_description  \\\n",
       "0         Nantes, France  journaliste indépendante/un vrai journaliste e...   \n",
       "1         Nantes, France  journaliste indépendante/un vrai journaliste e...   \n",
       "2         Nantes, France  journaliste indépendante/un vrai journaliste e...   \n",
       "3         Nantes, France  journaliste indépendante/un vrai journaliste e...   \n",
       "4         Nantes, France  journaliste indépendante/un vrai journaliste e...   \n",
       "\n",
       "  user_profile_url  follower_count  following_count account_creation_date  \\\n",
       "0              NaN            8012             1450            2011-05-15   \n",
       "1              NaN            8012             1450            2011-05-15   \n",
       "2              NaN            8012             1450            2011-05-15   \n",
       "3              NaN            8012             1450            2011-05-15   \n",
       "4              NaN            8012             1450            2011-05-15   \n",
       "\n",
       "      ...      latitude longitude quote_count reply_count like_count  \\\n",
       "0     ...           NaN       NaN         0.0         0.0        0.0   \n",
       "1     ...           NaN       NaN         0.0         0.0        0.0   \n",
       "2     ...           NaN       NaN         0.0         0.0        0.0   \n",
       "3     ...           NaN       NaN         0.0         0.0        0.0   \n",
       "4     ...           NaN       NaN         0.0         0.0        1.0   \n",
       "\n",
       "   retweet_count hashtags                                               urls  \\\n",
       "0            0.0      NaN  [http://fr.awdnews.com/divertissements/5757-ce...   \n",
       "1            0.0      NaN  [http://www.awdnews.com/top-news/10080-an-inqu...   \n",
       "2            0.0      NaN  [http://www.awdnews.com/political/10404-cia-pr...   \n",
       "3            0.0      NaN  [http://fr.awdnews.com/divertissements/5796-to...   \n",
       "4            2.0      NaN  [http://fr.awdnews.com/soci%C3%A9t%C3%A9/5723-...   \n",
       "\n",
       "         user_mentions poll_choices  \n",
       "0          [574356455]          NaN  \n",
       "1          [438542436]          NaN  \n",
       "2  [823905, 256625456]          NaN  \n",
       "3          [919513172]          NaN  \n",
       "4           [83864876]          NaN  \n",
       "\n",
       "[5 rows x 31 columns]"
      ]
     },
     "execution_count": 51,
     "metadata": {},
     "output_type": "execute_result"
    }
   ],
   "source": [
    "data.head()"
   ]
  },
  {
   "cell_type": "code",
   "execution_count": 52,
   "metadata": {},
   "outputs": [],
   "source": [
    "data = pd.merge(data,grouped_df[['userid','topic']],on='userid',how='left')"
   ]
  },
  {
   "cell_type": "code",
   "execution_count": null,
   "metadata": {},
   "outputs": [],
   "source": []
  },
  {
   "cell_type": "code",
   "execution_count": null,
   "metadata": {},
   "outputs": [],
   "source": []
  }
 ],
 "metadata": {
  "kernelspec": {
   "display_name": "Python 3",
   "language": "python",
   "name": "python3"
  },
  "language_info": {
   "codemirror_mode": {
    "name": "ipython",
    "version": 3
   },
   "file_extension": ".py",
   "mimetype": "text/x-python",
   "name": "python",
   "nbconvert_exporter": "python",
   "pygments_lexer": "ipython3",
   "version": "3.6.4"
  }
 },
 "nbformat": 4,
 "nbformat_minor": 2
}
