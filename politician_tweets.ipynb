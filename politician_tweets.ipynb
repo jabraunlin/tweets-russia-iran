{
 "cells": [
  {
   "cell_type": "code",
   "execution_count": 1,
   "metadata": {},
   "outputs": [],
   "source": [
    "import pandas as pd\n",
    "import numpy as np\n",
    "from nltk.tokenize import TweetTokenizer\n",
    "import matplotlib.pyplot as plt\n",
    "import warnings\n",
    "warnings.filterwarnings('ignore')\n",
    "import string"
   ]
  },
  {
   "cell_type": "code",
   "execution_count": 2,
   "metadata": {},
   "outputs": [],
   "source": [
    "data = pd.read_csv('political_social_media.csv',encoding='iso8859_2')"
   ]
  },
  {
   "cell_type": "code",
   "execution_count": 3,
   "metadata": {},
   "outputs": [],
   "source": [
    "data = data[data.source=='twitter']"
   ]
  },
  {
   "cell_type": "code",
   "execution_count": 4,
   "metadata": {},
   "outputs": [
    {
     "data": {
      "text/plain": [
       "Index(['_unit_id', '_golden', '_unit_state', '_trusted_judgments',\n",
       "       '_last_judgment_at', 'audience', 'audience:confidence', 'bias',\n",
       "       'bias:confidence', 'message', 'message:confidence', 'orig__golden',\n",
       "       'audience_gold', 'bias_gold', 'bioid', 'embed', 'id', 'label',\n",
       "       'message_gold', 'source', 'text'],\n",
       "      dtype='object')"
      ]
     },
     "execution_count": 4,
     "metadata": {},
     "output_type": "execute_result"
    }
   ],
   "source": [
    "data.columns"
   ]
  },
  {
   "cell_type": "code",
   "execution_count": 5,
   "metadata": {},
   "outputs": [
    {
     "data": {
      "text/plain": [
       "'VIDEO - #Obamacare:  Full of Higher Costs and Broken Promises: http://t.co/dn3vzqIrWF'"
      ]
     },
     "execution_count": 5,
     "metadata": {},
     "output_type": "execute_result"
    }
   ],
   "source": [
    "data.text.values[1]"
   ]
  },
  {
   "cell_type": "code",
   "execution_count": 6,
   "metadata": {},
   "outputs": [],
   "source": [
    "def text_cleanup(tweet):\n",
    "    tweet = tweet.replace('\\x89ŰŞ',\"'\")\n",
    "    tweet = tweet.replace('&amp;','&')\n",
    "    tweet = tweet.replace('\\x89Ű_','')\n",
    "    tweet = tweet.replace('\\x89Ű\\x9d','')\n",
    "    tweet = tweet.replace('\\x89ŰĎ','')\n",
    "    tweet = tweet.replace('\\x89äĘ','')\n",
    "    tweet = tweet.replace('\\x89Ű\\x8f','')\n",
    "    tweet = tweet.replace('\\x89ŰŇ','')\n",
    "    tweet = tweet.replace('\\x89ŰÓ&gt;','')\n",
    "    tweet = tweet.replace('\\x89Ű÷','')\n",
    "    tweet = tweet.replace(\"\\'\",\"'\")\n",
    "    tweet = tweet.replace(\"\\x89\\xa0Ő\",\"\")\n",
    "    tweet = tweet.replace(\"\\x89ŰÓ\",\" \")\n",
    "    tweet = tweet.replace(\"\\x89Ű˘\\t\",\"\")\n",
    "    tweet = tweet.replace(\"\\x89Ű˘\",\"\")    \n",
    "    return tweet\n",
    "    "
   ]
  },
  {
   "cell_type": "code",
   "execution_count": 7,
   "metadata": {},
   "outputs": [],
   "source": [
    "data['text'] = data.text.apply(text_cleanup)"
   ]
  },
  {
   "cell_type": "code",
   "execution_count": 8,
   "metadata": {},
   "outputs": [],
   "source": [
    "data['is_retweet'] = data.text.apply(lambda x: 1 if x[0:2]=='RT' else 0)\n",
    "data['is_quote_tweet'] = data.text.apply(lambda x: 1 if ' RT ' in x else 0)"
   ]
  },
  {
   "cell_type": "code",
   "execution_count": 9,
   "metadata": {},
   "outputs": [
    {
     "data": {
      "text/plain": [
       "206"
      ]
     },
     "execution_count": 9,
     "metadata": {},
     "output_type": "execute_result"
    }
   ],
   "source": [
    "np.sum(data.is_retweet.values) + np.sum(data.is_quote_tweet.values)"
   ]
  },
  {
   "cell_type": "code",
   "execution_count": 10,
   "metadata": {},
   "outputs": [],
   "source": [
    "def tokenize(text):\n",
    "    twt = TweetTokenizer()\n",
    "    return twt.tokenize(text)"
   ]
  },
  {
   "cell_type": "code",
   "execution_count": 11,
   "metadata": {},
   "outputs": [],
   "source": [
    "data['tokens'] = data.text.apply(tokenize)"
   ]
  },
  {
   "cell_type": "code",
   "execution_count": 12,
   "metadata": {},
   "outputs": [
    {
     "data": {
      "text/plain": [
       "array([list(['RT', '@nowthisnews', ':', 'Rep', '.', 'Trey', 'Radel', '(', 'R', '-', '#FL', ')', 'slams', '#Obamacare', '.', '#politics', 'https://t.co/zvywMG8yIH']),\n",
       "       list(['VIDEO', '-', '#Obamacare', ':', 'Full', 'of', 'Higher', 'Costs', 'and', 'Broken', 'Promises', ':', 'http://t.co/dn3vzqIrWF']),\n",
       "       list(['Please', 'join', 'me', 'today', 'in', 'remembering', 'our', 'fallen', 'heroes', 'and', 'honoring', 'the', 'men', 'and', 'women', 'currently', 'in', 'military', 'service', 'for', 'their', 'sacrifices', '.']),\n",
       "       list(['RT', '@SenatorLeahy', ':', '1st', 'step', 'toward', 'Senate', 'debate', 'on', 'Leahy-Crapo', '#VAWA', 'bill', 'is', 'the', \"Senate's\", 'procedural', 'vote', 'today', 'at', '5:30', 'pm']),\n",
       "       list(['.', '@amazon', 'delivery', '#drones', 'show', 'need', 'to', 'update', 'law', 'to', 'promote', '#innovation', '&', 'protect', '#privacy', '.', 'My', '#UAS', 'bill', 'does', 'that', ':', 'http://t.co/l9ta5SKq6u']),\n",
       "       list(['Called', 'on', 'the', '@USDOTFRA', 'to', 'release', 'info', 'about', 'inspections', 'before', 'the', '#CasseltonDerailment', 'to', 'review', 'quality', 'of', 'rails', '.', '(', '1/2', ')']),\n",
       "       list(['@BBCWorld', ',', 'help', 'us', 'keep', 'the', 'kidnapped', 'Nigerian', 'school', 'girls', \"'\", 'story', 'out', 'front', '.', '#BringBackOurGirls', '#JoinRepWilson', 'http://t.co/ZqZVT80mga']),\n",
       "       list(['Show', 'your', 'Arizona', 'pride-choose', 'your', 'favorite', 'S', '.', 'AZ', 'picture', 'for', 'my', 'Facebook', 'cover', 'photo', '!', 'Retweet', 'to', 'spread', 'the', 'word', '!', 'https://t.co/7PHHigA8nd']),\n",
       "       list(['What', 'a', 'wonderful', 'night', 'at', 'State', 'Senator', 'Ken', \"Yager's\", 'Chili', 'Supper', 'benefitting', 'the', 'Boys', '&', 'Girls', 'Clubs', 'of', 'Roane', 'County', '.', 'http://t.co/DsyoAFZvkR']),\n",
       "       list(['Great', 'op-ed', 'by', 'Pres', '.', 'Clinton', 'about', 'signing', '#FMLA', '20', 'yrs', 'ago', 'today', ',', 'an', 'important', 'law', 'protecting', 'workers', 'http://t.co/csYEv7O4', '#HoyerHeadlines']),\n",
       "       list(['As', 'POTUS', 'golfs', ',', 'pushes', 'amnesty', '&', 'ignores', 'Keystone', ',', 'American', 'people', 'are', 'concerned', 'about', 'jobs', ',', 'econ', '&', 'health', 'care', 'costs', 'http://t.co/p9sPDYOAca']),\n",
       "       list(['The', 'President', \"doesn't\", 'get', 'to', 'just', 'decide', 'he', \"doesn't\", 'like', 'Congress', 'and', 'do', 'his', 'own', 'thing', ':', 'http://t.co/jmclKjUzSG']),\n",
       "       list(['FACT', ':', 'The', 'Recovery', 'Act', 'cut', 'taxes', 'for', 'middle-class', 'families', ',', 'kept', 'teachers', 'in', 'the', 'classroom', ',', '&', 'police', '&', 'firefighters', 'on', 'the', 'streets', '.']),\n",
       "       list(['RT', '@MHA', ':', 'Telemedicine', 'consults', 'at', 'rural', 'ERs', 'helps', 'prevent', 'prescription', 'errors', '(', 'via', '@genevrapittman', 'for', '@medcitynews', ')', 'http://t.co/VEyo4ScM3g']),\n",
       "       list(['@SkitchP', \"Wouldn't\", 'wish', 'that', 'on', 'anyone', '.', 'Even', 'you', ',', 'Skitch', '.']),\n",
       "       list(['At', '5:45', 'pm', ',', 'Sen', '.', '@CoryBooker', 'will', 'give', 'his', 'maiden', 'Senate', 'speech', 'on', 'need', 'to', '#RenewUI--such', 'an', 'impt', 'issue', '!', 'Follow', '@SenBookerofc', 'for', 'livetweets', '.']),\n",
       "       list(['\"', '...', 'if', 'you', 'have', 'come', 'because', 'your', 'liberation', 'is', 'bound', 'up', 'with', 'mine', ',', 'then', 'let', 'us', 'work', 'together', '.', '\"', 'Lilla', 'Watson', 'http://t.co/6WPXW9QUM0']),\n",
       "       list(['For', 'health', 'coverage', 'starting', 'Jan', '.', '1st', ',', 'you', 'must', 'sign', 'up', 'for', '@AccessHealthCT', 'by', 'end', 'of', 'today', ':', 'http://t.co/fS7mNrPpmB', '#GetEnrolled']),\n",
       "       list(['The', 'House', 'will', 'vote', 'this', 'week', 'to', '#DefundObamacare', 'and', 'keep', 'the', 'government', 'open', '.']),\n",
       "       list(['Tks', 'to', 'Margaret', '4', 'joining', 'me', 'in', 'DC', 'to', 'share', 'successes', 'Niskayuna', 'NCAP', 'saw', 'in', 'education', '&', 'prevention', 'of', 'substance', 'abuse', 'http://t.co/kvS6kAkJyT']),\n",
       "       list(['A', 'great', 'look', 'back', 'at', 'at', 'Idaho', 'Native', 'American', 'tribes', 'in', '1863', '.', '#idpol', '#idaho150', 'Via', '@KTVB', 'http://t.co/JsxSWVpDPv']),\n",
       "       list(['#OTD', 'in', '1969', ',', 'American', 'astronaut', 'Neil', 'Armstrong', 'stepped', 'off', 'the', 'lunar', 'landing', 'module', 'Eagle', 'and', 'walked', 'on', 'the', 'surface', 'of', 'the', 'moon']),\n",
       "       list(['RT', 'if', 'you', 'agree', ':', \"It's\", 'time', 'to', '#ActOnClimate', 'change', 'more', 'info', 'on', 'the', '#NCA2014', 'released', 'today', 'at', 'http://t.co/SdCnKyUDVJ']),\n",
       "       list(['We', 'will', 'vote', 'on', 'the', 'Working', 'Families', 'Flexibility', 'Act', '.', 'Would', 'you', 'like', 'the', 'flexibility', 'to', 'choose', 'how', \"you're\", \"comp'd\", 'for', 'overtime', '?', '#YourTime']),\n",
       "       list(['Reminder', ':', 'Next', 'week', ',', 'my', 'office', 'will', 'be', 'holding', 'mobile', 'office', 'hours', 'in', 'Sachse', 'and', 'Wylie', '.', 'Learn', 'more', ':', 'http://t.co/38p28m2O0I', '#TX32']),\n",
       "       list(['This', \"wk's\", '1', 'min', 'video', 'is', 'on', 'how', 'expanding', 'Medicaid', 'in', '#WV', 'will', 'help', 'so', 'many', 'families', 'get', 'affordable', 'health', 'care', '.', 'http://t.co/VDUMX9R4x5']),\n",
       "       list(['Thinking', 'of', 'all', 'those', 'affected', 'by', 'the', 'severe', 'weather', 'today', '-', 'especially', 'in', 'Oklahoma', '.', 'Stay', 'safe', '.']),\n",
       "       list(['Remember', 'Bill', '?', 'He', 'and', 'his', 'friends', 'are', 'stuck', 'on', '@SenatorReid', \"'\", 's', 'desk', '.', '#4jobs', 'http://t.co/0DCNU1R3G7']),\n",
       "       list(['Slashing', \"Amtrak's\", 'funding', 'by', '1/3', 'at', 'a', 'time', 'of', 'increasing', 'ridership', 'will', 'hurt', \"PA's\", 'economy', '.', 'http://t.co/dqtBbksslg', 'https://t.co/4y6igwxWnr']),\n",
       "       list(['American', '#energy', 'production', 'is', 'creating', '#jobs', ',', 'holding', 'prices', 'down', ',', 'and', 'promoting', 'energy', 'independence', ':', 'http://t.co/Pw6cdXrHiR']),\n",
       "       list(['#Obamacare', 'spawning', 'a', 'new', 'concept', ':', '\"', 'medical', 'homelessness', '.', '\"', 'http://t.co/mmupzZKMqJ']),\n",
       "       list(['MUST', 'READ', 'from', '@marcthiessen', '-', '-', '\"', 'Kidnapped', 'Libyan', 'prime', 'minister', 'pays', 'the', 'price', 'for', 'an', 'Obama', 'leak', '\"', 'http://t.co/MHHab1V0XD']),\n",
       "       list(['Delaying', 'or', 'refusing', 'to', 'vote', 'to', '#RenewUI', 'has', 'real', 'life', 'consequences', 'for', '2.8', 'million', 'Americans', '-', 'http://t.co/srPRCzH2Dg', 'http://t.co/FYzWGvwKXz']),\n",
       "       list(['In', 'his', 'office', 'in', 'the', '@uscapitol', ',', 'Senator', 'McConnell', 'congratulated', '&', 'welcomed', 'Senator-elect', 'Bill', 'Cassidy', 'to', 'the', 'Senate', 'http://t.co/fyZY42ddZP']),\n",
       "       list(['.', '@HouseofCards', ',', 'if', 'you', \"don't\", 'like', 'Long', 'Island', 'wine', ',', 'I', 'suggest', 'giving', '@FLXWineCountry', 'or', '@Niagwinetrail', 'wines', 'a', 'try', '.']),\n",
       "       list(['\"', 'Six', 'enrolled', 'on', 'health', 'site', 'on', 'Day', '1', '\"', 'via', '@politico', '.', '#trainwreck', 'http://t.co/ng4OzR3pab']),\n",
       "       list(['$', '10M', 'in', 'federal', 'funds', 'will', 'help', 'relieve', 'congestion', 'around', '@FtMeadeMD', '!', 'More', ':', 'http://t.co/biOp5x3HYX']),\n",
       "       list(['Job', 'well', 'done', 'by', 'the', 'members', 'of', 'the', 'SC', 'House', 'of', 'Representatives', 'who', 'voted', 'down', 'Medicaid', 'expansion', 'yesterday', '.', '#scnews']),\n",
       "       list(['Gearing', 'up', 'for', 'coffee', 'w', '/', 'constituents', 'this', 'morning', 'at', 'D', '&', \"K's\", 'Gretna', 'Cafe', 'at', '8:', '30', '.', 'Be', 'sure', 'to', 'stop', 'by', '..', 'looking', 'forward', 'to', 'speaking', 'w', '/', 'folks', '!']),\n",
       "       list(['.', '@askgeorge', 'has', 'been', 'a', 'dedicated', 'public', 'servant', '&', 'his', 'leadership', 'on', '@edworkforcedems', 'will', 'be', 'missed', '.', 'I', 'wish', 'him', 'the', 'best', 'in', 'retirement', '.']),\n",
       "       list(['#Florida', 'is', '\"', 'tale', 'of', 'what', 'went', 'right', 'with', 'President', 'Barack', \"Obama's\", 'health', 'care', 'overhaul', 'despite', 'GOP', 'opposition', ':', 'http://t.co/bhsAcU3Wje']),\n",
       "       list(['If', 'you', 'are', 'in', 'DC', 'tomorrow', '&', 'want', 'to', '#MakeGovernmentWork', ',', 'join', 'us', '#ProblemSolvers', 'in', 'showing', 'America', 'that', 'some', 'of', 'us', 'are', 'here', 'to', '#FixNotFight']),\n",
       "       list(['FL', 'delegation', 'shining', 'spotlight', 'on', 'VA', 'health', 'care', 'in', 'sunshine', 'state', 'http://t.co/CdeEXuC1C5']),\n",
       "       list(['Meeting', 'the', 'press', 'in', '#Jerusalem', 'with', '@GrahamBlog', '#Israel', 'http://t.co/FIbhbOpSwh']),\n",
       "       list(['Video', 'of', 'my', 'speech', 'on', 'house', 'floor', ',', 'rejecting', '#GOPBudget', 'that', 'cuts', 'jobs', 'in', '#WI', 'and', 'turns', '#Medicare', 'into', 'a', 'voucher', 'http://t.co/tItIxBrF4C']),\n",
       "       list(['What', 'other', 'options', 'are', 'there', 'for', 'raising', '$', '350', 'billion', 'with', 'such', 'a', 'negligible', 'impact', 'on', 'middle-class', 'Americans', 'and', 'Main', 'Street', 'businesses', '?']),\n",
       "       list(['Thanks', 'to', 'LI', 'Farm', 'Bureau', 'for', 'hosting', 'me', 'to', 'speak', 'directly', 'with', 'farmers', 'about', 'issues', 'most', 'important', 'to', 'them', 'http://t.co/ttbdLjiMjd']),\n",
       "       list(['For', '23', 'years', ',', 'the', 'Americans', 'with', 'Disabilities', 'Act', 'has', 'been', 'opening', 'doors', 'for', 'tens', 'of', 'millions', 'of', 'Americans', '.', 'http://t.co/tezFwZ1iS1']),\n",
       "       list(['Is', 'that', 'delight', 'or', 'terror', 'MT', '@LyndaWoolard', 'Can', 'u', 'see', 'my', 'delight', 'when', 'Cory', 'taught', 'me', 'how', '2', 'take', 'a', 'selfie', 'in', 'yesterday', '?', 'http://t.co/GJd2pmcMOY']),\n",
       "       list(['RT', '@AAAS_News', ':', '\"', 'Basic', 'science', 'is', 'a', 'riskier', 'investment', 'compared', 'with', 'applied', 'research', ',', 'but', 'one', 'with', 'larger', 'potential', 'payoffs', ',', '\"', '#OpEd', 'http', ':/', '/']),\n",
       "       list(['Promising', '@FannieMae', 'is', 'paying', 'back', 'more', '$', 'to', 'US', 'taxpayers', '.', 'Reinforces', '5', 'yrs', 'after', 'crash', 'we', 'need', '#GSEreform', 'to', 'help', 'prevent', 'another', 'bailout']),\n",
       "       list(['#KXL', 'oil', 'export', 'strategy', 'makes', 'US', 'a', 'middle', 'man', '&', 'worsens', '#climatechange', '.', 'Senate', 'shld', 'reject', 'it', 'http://t.co/Z8fiHvgckO', 'http://t.co/p4pk9gfw4r']),\n",
       "       list(['WTVW-TV', 'report', ':', 'McConnell', 'sponsors', 'Sunscreen', 'Innovation', 'Act', '(', '+', 'playlist', '):', 'http://t.co/J0yooWhFTR', '#Kentucky']),\n",
       "       list(['We', 'need', 'to', 'work', 'together', 'to', 'find', 'real', 'solutions', 'to', '@FixtheDebt', 'before', '@TheCanKicksBack', 'http://t.co/5HXcsgTn79']),\n",
       "       list(['Congrats', 'to', 'the', '#coleg', '-', 'last', 'day', 'of', 'session', '.']),\n",
       "       list(['DemandarĚÁ', 'Obama', 'un', 'recuento', 'en', '#Venezuela', '?', 'Creo', 'q', 'deberĚ_a', '.', 'Lee', 'mi', 'carta', 'y', 'tweet', '@whitehouse', 'para', 'decirle', 'lo', 'q', 'piensas', 'http://t.co/wrhmJLBKzh']),\n",
       "       list(['As', '@RepJoeGarcia', 'says', 'this', \"isn't\", 'everything', 'each', 'side', 'wants', 'but', 'is', 'a', 'point', 'for', 'reasonable', 'bipartisan', 'support', 'to', 'fix', 'the', 'broken', 'system', '.']),\n",
       "       list(['ICYMI', ':', 'I', 'spoke', 'with', '@WolfBlitzer', 'tonight', 'about', 'the', '#SonyHack', '&', 'North', 'Korea', '.', 'http://t.co/PRvJK3Nb3C']),\n",
       "       list(['Hosting', 'the', '#Colorado30', 'Group', 'today', 'on', 'the', 'Hill', '.', 'Strengthening', 'connections', 'with', 'CO', 'leaders', 'on', 'national', 'defense', '.', 'http://t.co/wJP0yUN2AF']),\n",
       "       list(['Looking', 'fwd', 'to', '#ThirteenSoldiers', 'book', 'signing', 'tomorrow', '@ChangingHands', 'Bookstore', 'in', '#Tempe', '-', 'more', 'info', ':', 'http://t.co/tvuwI3Xbuz', '#Arizona']),\n",
       "       list(['Today', 'marks', 'the', '4th', 'time', 'in', '5', 'years', 'that', 'Pres', '.', 'Obama', 'missed', 'the', 'legal', 'deadline', 'to', 'submit', 'his', 'budget', 'plan', ':', 'http://t.co/RivWKVg1', '#RequireAPlan']),\n",
       "       list(['Come', 'get', 'help', 'w', '/', 'fed', 'agencies', 'at', 'Mobile', 'Office', 'Hrs', ':', 'Th', ',', '11am', '-12:30', 'pm', ',', 'Acacia', 'Library', '(', '750', 'E', '.', 'Townley', 'Ave', ',', 'Phx', ')', '.', 'http://t.co/83jgOjKirc']),\n",
       "       list(['The', 'Obama', 'economy', 'just', \"isn't\", 'cutting', 'it', 'for', 'hardworking', 'Americans', 'http://t.co/yagUZrvj6i']),\n",
       "       list(['Great', 'to', 'see', 'Ft', 'Monroe', 'Authority', 'Ex', '.', 'Dir', '.', 'Oder', ',', 'Dr', '.', 'Wagner', '&', 'Dr', '.', 'Koch', 'at', 'the', 'State', 'of', 'the', 'Region', 'presentation', 'in', 'Hpt', 'http://t.co/DtPxkJWBsi']),\n",
       "       list(['Joining', 'the', '@FoxMorningNews', 'in', 'Roanoke', 'just', 'after', '8AM', '.', 'Hope', \"you'll\", 'tune', 'in', '!', '#VA06', '#rke']),\n",
       "       list(['RT', '@jaketapper', ':', 'Pentagon', ':', 'Sgt', '.', 'Stephen', 'New', ',', '29', ',', 'of', 'Bartlett', ',', 'TN', ',', 'died', 'July', '28', 'in', 'Bagram', 'after', 'unit', 'was', 'attacked', 'by', 'small', 'arms', 'fire', 'http', ':/', '/']),\n",
       "       list(['DoD', 'Secy', 'Chuck', 'Hagel', ',', 'reportedly', 'in', 'charge', 'of', '#Bergdahl', 'exchange', ',', 'claimed', 'he', '\"', \"doesn't\", 'know', '...', '\"', 'today', 'via', '@FreeBeacon', 'https://t.co/tLImg8ASlt']),\n",
       "       list(['Can', 'it', 'be', 'any', 'clearer', '?', 'Lerner', 'and', '#IRS', 'were', 'covering', 'their', 'tracks', '!', 'http://t.co/C2P3NsOkP9']),\n",
       "       list(['Hear', 'my', 'recent', 'discussion', 'on', '#Syria', 'with', \"Ireland's\", '@rtenews', '(', 'begins', 'at', '5:45', '):', 'http://t.co/vKeyErEUj4']),\n",
       "       list(['RT', 'to', 'tell', 'President', 'Obama', 'the', 'buck', 'stops', 'with', 'him', '.', 'http://t.co/n8t627WxCn', '#IRS', '#IRSscandal', '#Benghazi']),\n",
       "       list(['Must', 'Read', ':', 'How', 'to', 'get', 'a', 'raise', 'at', \"McDonald's\", '-', '@HaroldMeyerson', ',', '@WashingtonPost', ':', 'http://t.co/zh4cva5Txz', '#StrikeFastFood']),\n",
       "       list(['The', 'number', 'of', 'people', 'signing', 'up', 'for', 'health', 'insurance', 'continues', 'to', 'increase', '.']),\n",
       "       list(['RT', '@HouseHomeland', ':', 'ICYMI', ':', 'Chairman', '@McCaulPressShop', 'on', '@CBSThisMorning', 'on', 'the', '#Boston', 'bombing', 'investigation', 'and', \"yesterday's\", 'hearing', ':', 'http', ':/']),\n",
       "       list(['Thanks', 'to', '@MayorNoak', 'and', '#WillCounty', 'Larry', 'Walsh', 'for', 'joining', 'me', '@LewisUniversity', 'Airport', 'for', \"today's\", 'good', 'news', '.', 'http://t.co/txSt4JgJEl']),\n",
       "       list(['Thoughts', '&', 'prayers', 'are', 'w', '/', 'the', 'families', 'of', 'the', '3', 'innocent', 'Israeli', 'teens', '.', 'Abbas', 'must', 'denounce', 'terrorism', '&', 'bring', 'those', 'responsible', 'to', 'justice']),\n",
       "       list(['President', 'Obama', 'wanted', '3', 'things', 'on', 'gun', 'control', '-', '-', 'ban', 'assault', 'weapons', ',', 'limit', 'magazine', 'sizes', ',', 'and', 'expand', 'background', 'checks', '.', \"He'll\", 'lose', 'all', '3', '.']),\n",
       "       list(['Happening', 'now', ':', 'Ways', '&', 'Means', 'hearing', 'w', '/', 'IRS', 'Commissioner', 'Koskinen', '.', 'Tune', 'in', 'to', 'http://t.co/u9cJET2oml', 'to', 'hear', 'my', 'question', 're', ':', 'ACA', 'tax', 'concerns']),\n",
       "       list([\"Don't\", 'forget', 'to', 'cast', 'your', 'vote', '#FL17', 'Congressional', 'Art', 'Competition', '.', 'Winner', 'will', 'hang', 'in', 'US', 'Capitol', 'https://t.co/hRHzBBGi8W', '#sayfie']),\n",
       "       list(['Just', 'about', 'to', 'join', '@seanhannity', \"'\", 's', 'radio', 'show', 'at', 'about', '4:05', 'pm', 'ET', ',', 'listen', 'live', 'http://t.co/BwXaP3KjKV']),\n",
       "       list(['Senate', 'passes', '#VAWA', 'reauthorization', 'in', 'vote', 'of', '78-22']),\n",
       "       list(['Attending', 'the', 'State', 'of', 'the', 'Union', '.', 'http://t.co/nKfjFwzz']),\n",
       "       list([\"I'm\", 'on', 'the', 'House', 'floor', 'to', 'manage', 'the', 'rule', 'for', 'the', 'House', 'GOP', 'plan', 'to', 'keep', 'govt', 'open', ',', 'stop', '#ObamaCare', '&', 'protect', 'troops', ':', 'http://t.co/7PlgqhX4g4']),\n",
       "       list(['Was', 'an', 'honor', '&', 'a', 'privilege', 'to', 'visit', '&', 'thank', '@WYOguard', 'troops', 'stationed', 'in', '#Bahrain', 'this', '4th', 'of', 'July', 'weekend', '.', 'http://t.co/rX1RdulMYx']),\n",
       "       list(['Senate', 'will', 'be', 'done', 'but', 'mess', 'inHouse', ':', 'Republican', 'hardliners', 'block', 'strategy', 'to', 'avoid', 'shutdown', '@washingtonpost', 'http://t.co/ARxkbe8bbk']),\n",
       "       list(['ICYMI', ':', 'I', 'talked', 'to', '@MyDesert', 'about', 'how', 'Congress', 'will', 'have', 'to', 'work', 'together', 'to', 'pass', 'a', 'strong', '#CIR', 'bill', 'in', 'the', 'House', 'http://t.co/1syj2GeV4c']),\n",
       "       list(['Parents', 'want', 'to', 'know', 'their', 'kids', 'are', 'in', 'a', 'safe', 'place', 'w', '/', 'qualified', 'providers', '.', 'CCDBG', 'is', 'essential', '4', '#ChildCareProtection', 'http://t.co/WXfvAgfe2L']),\n",
       "       list(['Should', 'Utah', 'be', 'forced', 'by', 'the', 'EPA', 'to', 'lower', 'ozone', 'levels', 'below', 'the', 'naturally', 'occurring', 'level', '?', 'http://t.co/ONGfKQxOKK', '@UtahPoliticoHub', '#utpol']),\n",
       "       list(['\"', 'Landrieu', 'still', 'has', 'only', 'about', 'a', '1', '-', 'in', '-', '3', 'chance', 'of', 'winning', 'even', 'when', 'her', 'incumbent', 'status', 'is', 'included', '\"', 'http://t.co/dTCGtHynv8', '#LASEN']),\n",
       "       list(['@MatthewWYMT', '&', '@MichelleWYMT', 'stopped', 'by', 'my', 'office', 'earlier', 'to', 'talk', 'about', '#RxDrugAbuse', '.', 'Watch', '@WYMT', 'at', '6PM', '.', 'http://t.co/28tCNbGFCA']),\n",
       "       list(['So', 'very', 'sad', 'to', 'hear', 'about', 'the', 'passing', 'of', 'Jim', 'Ragsdale', '.', 'He', 'was', 'a', 'true', 'professional', '&', 'a', 'kind', 'soul', '.', 'Jim', ',', 'you', 'will', 'be', 'missed', 'greatly', '.']),\n",
       "       list(['\"', 'Balboa', 'Park', 'is', 'the', 'only', 'place', 'in', 'USA', 'with', '28', 'major', 'cultural', 'institutions', 'w', '/', 'in', '1', 'sq', 'mile', '.', '\"', '#arts', 'cc', ':', '.', '@RepSusanDavis', 'http://t.co/XGGrkDI9Iv']),\n",
       "       list(['PHOTO', ':', 'Joined', '\"', \"World's\", 'Most', 'Interesting', 'Man', '\"', '(', 'from', \"America's\", 'Most', 'Interesting', 'State', ')', '@', '#landmines', 'event', 'on', 'Cap', '.', 'Hill', 'http://t.co/6cVbofvNLu']),\n",
       "       list(['W', '/', 'RI', 'Cong', 'delegation', ',', 'Mayors', ',', 'police', ',', '@tenygross', '&', 'families', 'affected', 'by', 'guns', 'to', 'present', 'unified', 'voice', 'on', 'gun', 'safety', 'http://t.co/9e78ICsvOq']),\n",
       "       list(['Congrats', '@Hanscom_AFB', 'C-IED', 'Team', '!', 'Their', 'work', 'on', 'detecting', '&', 'destroying', 'IEDs', 'earned', 'the', 'Theodore', 'von', 'Karman', 'Award', 'http://t.co/2wOiL3arPt']),\n",
       "       list(['Since', '1970', 'our', 'spending', 'has', 'grown', '288', '%', 'while', 'the', 'median', 'income', 'has', 'grown', 'only', '24', '%', '-', '-', 'a', 'difference', 'of', '264', '%', '.', 'http://t.co/G5q55bWI', '#tcot']),\n",
       "       list(['Mandela', '.', 'Chg', '.', 'South', 'Africa', 'chg', 'the', 'world', '.', 'Inspired', 'hearts', 'n', 'minds', 'of', 'millions', 'of', 'us', '.', 'Condolences', 'to', 'his', 'family', 'n', 'south', 'african', 'people']),\n",
       "       list(['Got', 'a', 'mess', 'of', 'oysters', 'and', 'clams', 'out', 'on', 'Sound', 'this', 'morning', '.', 'These', 'guys', 'have', 'a', 'rendezvous', 'with', 'white', 'wine', ',', 'fresh', 'garlic', ',', 'shallots', 'and', 'pepper', '.']),\n",
       "       list(['RT', 'if', 'you', 'think', 'America', 'succeeds', 'when', '#WomenSucceed', 'http://t.co/uBQRhIKuvg']),\n",
       "       list(['Tips', 'for', 'staying', 'warm', 'should', 'you', 'be', 'outside', 'this', 'week', 'helping', 'clean', 'after', 'recent', 'storms', 'via', 'the', 'Coal', 'City', 'Courant', ':', 'http://t.co/j5hwgEkIdP']),\n",
       "       list(['RT', '@kevinscholla', ':', 'My', 'interview', 'w', '/', '@RepDavid', 'Schweikert', 'on', '@SarahNETRadio', '!', 'Huge', 'meeting', 'coming', 'up', 'w', '/', 'constituents', '!', 'http://t.co/Pf2edk5kxG'])],\n",
       "      dtype=object)"
      ]
     },
     "execution_count": 12,
     "metadata": {},
     "output_type": "execute_result"
    }
   ],
   "source": [
    "data.tokens.values[0:100]"
   ]
  },
  {
   "cell_type": "code",
   "execution_count": 13,
   "metadata": {},
   "outputs": [],
   "source": [
    "grouped_data = data.groupby(by='bioid').agg(' '.join).reset_index()"
   ]
  },
  {
   "cell_type": "code",
   "execution_count": 14,
   "metadata": {},
   "outputs": [],
   "source": [
    "data['tweet_length'] = data.text.apply(lambda x: len(x))"
   ]
  },
  {
   "cell_type": "code",
   "execution_count": 15,
   "metadata": {},
   "outputs": [],
   "source": [
    "data['word_count'] = data.tokens.apply(lambda x: len(x))"
   ]
  },
  {
   "cell_type": "code",
   "execution_count": 16,
   "metadata": {},
   "outputs": [
    {
     "data": {
      "text/plain": [
       "Text(0,0.5,'Number of Characters')"
      ]
     },
     "execution_count": 16,
     "metadata": {},
     "output_type": "execute_result"
    },
    {
     "data": {
      "image/png": "[encoded data removed]",
      "text/plain": [
       "<matplotlib.figure.Figure at 0x1a0bb53c18>"
      ]
     },
     "metadata": {},
     "output_type": "display_data"
    }
   ],
   "source": [
    "plt.figure(figsize=(10,10))\n",
    "plt.scatter(data.word_count,data.tweet_length,alpha=0.4)\n",
    "plt.xlabel('Word Count')\n",
    "plt.ylabel('Number of Characters')"
   ]
  },
  {
   "cell_type": "code",
   "execution_count": 17,
   "metadata": {},
   "outputs": [
    {
     "data": {
      "text/plain": [
       "count    2500.000000\n",
       "mean      117.991200\n",
       "std        25.899101\n",
       "min        12.000000\n",
       "25%       106.000000\n",
       "50%       129.000000\n",
       "75%       138.000000\n",
       "max       143.000000\n",
       "Name: tweet_length, dtype: float64"
      ]
     },
     "execution_count": 17,
     "metadata": {},
     "output_type": "execute_result"
    }
   ],
   "source": [
    "data.tweet_length.describe()"
   ]
  },
  {
   "cell_type": "code",
   "execution_count": 18,
   "metadata": {},
   "outputs": [
    {
     "data": {
      "text/plain": [
       "array([], dtype=object)"
      ]
     },
     "execution_count": 18,
     "metadata": {},
     "output_type": "execute_result"
    }
   ],
   "source": [
    "data[data.tweet_length>280]['text'].values[0:50]"
   ]
  },
  {
   "cell_type": "code",
   "execution_count": null,
   "metadata": {},
   "outputs": [],
   "source": []
  },
  {
   "cell_type": "code",
   "execution_count": 19,
   "metadata": {},
   "outputs": [
    {
     "data": {
      "text/plain": [
       "array([list(['RT', '@nowthisnews', ':', 'Rep', '.', 'Trey', 'Radel', '(', 'R', '-', '#FL', ')', 'slams', '#Obamacare', '.', '#politics', 'https://t.co/zvywMG8yIH']),\n",
       "       list(['VIDEO', '-', '#Obamacare', ':', 'Full', 'of', 'Higher', 'Costs', 'and', 'Broken', 'Promises', ':', 'http://t.co/dn3vzqIrWF']),\n",
       "       list(['Please', 'join', 'me', 'today', 'in', 'remembering', 'our', 'fallen', 'heroes', 'and', 'honoring', 'the', 'men', 'and', 'women', 'currently', 'in', 'military', 'service', 'for', 'their', 'sacrifices', '.']),\n",
       "       list(['RT', '@SenatorLeahy', ':', '1st', 'step', 'toward', 'Senate', 'debate', 'on', 'Leahy-Crapo', '#VAWA', 'bill', 'is', 'the', \"Senate's\", 'procedural', 'vote', 'today', 'at', '5:30', 'pm']),\n",
       "       list(['.', '@amazon', 'delivery', '#drones', 'show', 'need', 'to', 'update', 'law', 'to', 'promote', '#innovation', '&', 'protect', '#privacy', '.', 'My', '#UAS', 'bill', 'does', 'that', ':', 'http://t.co/l9ta5SKq6u']),\n",
       "       list(['Called', 'on', 'the', '@USDOTFRA', 'to', 'release', 'info', 'about', 'inspections', 'before', 'the', '#CasseltonDerailment', 'to', 'review', 'quality', 'of', 'rails', '.', '(', '1/2', ')']),\n",
       "       list(['@BBCWorld', ',', 'help', 'us', 'keep', 'the', 'kidnapped', 'Nigerian', 'school', 'girls', \"'\", 'story', 'out', 'front', '.', '#BringBackOurGirls', '#JoinRepWilson', 'http://t.co/ZqZVT80mga']),\n",
       "       list(['Show', 'your', 'Arizona', 'pride-choose', 'your', 'favorite', 'S', '.', 'AZ', 'picture', 'for', 'my', 'Facebook', 'cover', 'photo', '!', 'Retweet', 'to', 'spread', 'the', 'word', '!', 'https://t.co/7PHHigA8nd']),\n",
       "       list(['What', 'a', 'wonderful', 'night', 'at', 'State', 'Senator', 'Ken', \"Yager's\", 'Chili', 'Supper', 'benefitting', 'the', 'Boys', '&', 'Girls', 'Clubs', 'of', 'Roane', 'County', '.', 'http://t.co/DsyoAFZvkR']),\n",
       "       list(['Great', 'op-ed', 'by', 'Pres', '.', 'Clinton', 'about', 'signing', '#FMLA', '20', 'yrs', 'ago', 'today', ',', 'an', 'important', 'law', 'protecting', 'workers', 'http://t.co/csYEv7O4', '#HoyerHeadlines'])],\n",
       "      dtype=object)"
      ]
     },
     "execution_count": 19,
     "metadata": {},
     "output_type": "execute_result"
    }
   ],
   "source": [
    "data.tokens.values[0:10]"
   ]
  },
  {
   "cell_type": "code",
   "execution_count": 20,
   "metadata": {},
   "outputs": [
    {
     "data": {
      "text/plain": [
       "(array([ 18.,  52., 108., 284., 335., 575., 739., 265., 103.,  21.]),\n",
       " array([ 1. ,  4.3,  7.6, 10.9, 14.2, 17.5, 20.8, 24.1, 27.4, 30.7, 34. ]),\n",
       " <a list of 10 Patch objects>)"
      ]
     },
     "execution_count": 20,
     "metadata": {},
     "output_type": "execute_result"
    },
    {
     "data": {
      "image/png": "[encoded data removed]",
      "text/plain": [
       "<matplotlib.figure.Figure at 0x1a0bb29898>"
      ]
     },
     "metadata": {},
     "output_type": "display_data"
    }
   ],
   "source": [
    "plt.hist(data.word_count)"
   ]
  },
  {
   "cell_type": "code",
   "execution_count": 21,
   "metadata": {},
   "outputs": [
    {
     "data": {
      "text/plain": [
       "array(['We are running late. Heading there now. The mayor VS me. RT @TheClimateHawk we showed up at the showdown.  Watch out for hole 6!',\n",
       "       \"Yes I will! RT @VictoriaFinkle: Crapo also said he'll keep fighting for structural change to CFPB.\",\n",
       "       'Ridiculous RT @PeenyMcNeeny: @RepJeffDuncan Only traitors complain about taxes. #PJNET',\n",
       "       'Thanks for sharing, have a great #IndependenceDay! RT @adamslane17: @RepSteveStivers watching #musical 1776',\n",
       "       'Share if you think Texas should #ExpandMedicaidNow  RT http://t.co/OXl7kXcCx4',\n",
       "       'Partner with me. RT @trademeansjobs: .@RepBoustany on #TPA4USjobs \"It is my top priority in the US Congress.\" .@USChamber .@ChamberGlobal',\n",
       "       'Yes. RT @themainepain UI vote this week?',\n",
       "       \"Our message to the American people is this: let's get Washington out of the way of how you use #yourtime. Watch & RT http://t.co/VdDIlvIiFz\",\n",
       "       'This is long-overdue, but welcome news. RT @washingtonpost: Panetta removes military ban on women serving in combat http://t.co/jmgjiU6g',\n",
       "       'MT \"@SenRandPaul Follow my friend and ally @RepThomasMassie  a true voice in fight for liberty & Const. gvt. RT if you agree. #TCOT\" thx!',\n",
       "       'Veterans have a new online resource to connect with employers #jobs #opportunity  RT to share https://t.co/Ix7d3afcnf',\n",
       "       'I might consider making a beer run for PBO if he asked me RT @RussellStinger: Do u ever think that you will make a run for president?',\n",
       "       '#DontDoubleMyRate RT @aldotcom: Martha Roby to Senate: Rise above the politics and address student loan rates. http://t.co/cfESE3RMy8',\n",
       "       'RT @HouseDemocrats How would #immigration reform affect you? Watch: http://t.co/CiNfTBI81q  (VIDEO) & RT if you support #CIR.',\n",
       "       '#IRS bothers him RT @gretawire: Bill the cat...nothing bothers him http://t.co/fpq6ObQ33c',\n",
       "       \"In CT, women earn 78 cents for every dollar paid to men. That's not fair. RT if you support #EqualPay for equal work.\",\n",
       "       'Please Direct Message me your number now RT @itds desperately need ur help.  my mom is in intensive care in Newton & needs 2 be transported',\n",
       "       'Today the House is voting on creating jobs by building the #KeystonePipeline RT if you think its #timetobuild http://t.co/XxfC8ZsyNX',\n",
       "       \"Please DM me your number. I'd like to help. RT @CrankyNurseNJ: Animal control said they can't do anything either! WHO CAN HELP THIS POOR DOG\",\n",
       "       'And still violates #4thAmendment. RT @Gorman_Siobhan: House Intel Cmte restructuring of #NSA phone prgm sets up clash w/ Judiciary Cmte.',\n",
       "       \"Thanks, I'm proud of Srtanford. Congrats though to all the Michigan St. fans RT @MichaelPacholek Tough loss but good season for Stanford.\",\n",
       "       'It was a honor to be there, thanks for having me RT @copeland_ted: @DesJarlaisTN04 thanks for coming to NGAT',\n",
       "       \"#TBT RT @TheDemocrats: What can you do for your country? Rise to the challenge to celebrate JFK's birthday today. http://t.co/rljhD6QSuh\",\n",
       "       'Thank you! RT @RepGwenMoore: Happy birthday to my friend and our @FSCDems ranking member @MaxineWaters!!!',\n",
       "       \"A labor leader calls the Obama Admin's failures on #KeystoneXL gutless & politics at its worst. RT if you agree. http://t.co/7rW9wlqRe8\",\n",
       "       \"Hope you'll read & RT latest op-ed in @usatoday! Ten critical priorities for the 2015 Congress: http://t.co/xDSDguSHBV\",\n",
       "       'GOP is ZERO for 38 on attempts to repeal #Obamacare. RT if you want Congress to stop wasting time & focus on jobs. http://t.co/6lsV5vsbLX',\n",
       "       'Thanks for having me! RT @PeruHighSchool: @RepWalorski did a fantastic job & is welcome back anytime. http://t.co/4WBdIoQf8o',\n",
       "       \"RT @JackieTortora: RT @keithellison: It's time to #Standup2Shutdown & put furloughed workers back to work! Join tomorrow, outside the US Ca\",\n",
       "       \"@HouseNewDems are fighting to spur economic growth. I'm proud to be a member. RT if you stand with us.\",\n",
       "       'Out of this world! RT @elizabethamber We have plenty of Star Trek and Dr. Who stuff at @ComicFusion =) Plus ya know... COMICS.',\n",
       "       \"RT @RepDianeBlack: POTUS's record and rhetoric on trusting the federal gov't do NOT line up. RT & SHARE this graphic: http://t.co/8fHINZfAEp\",\n",
       "       'Thank you! RT @SarahPalinUSA: We have your backs @SenTedCruz @SenMikeLee http://t.co/sxKCGB8QVf Please RT to #DefundObamacare',\n",
       "       \"Awesome #ar2 RT @washingtonpost: A powerful photo of Frederick Douglass's great-great-great-great-grandson http://t.co/iaZv2OpXz3\",\n",
       "       '13k plans at risk RT @ReutersUS: Aetna exits Obamacare exchange in Maryland over price http://t.co/qPXmuQvyHd',\n",
       "       'We are often told that our budget is a moral document.  But it is immoral to abandon hungry children. RT to oppose $20 billion in SNAP cuts!',\n",
       "       'I hope so. #LetYourVoiceBeHeard RT @elaina32: I hope you & all other Senate members understand that on Monday u will b bombarded by #RenewUI',\n",
       "       'In law school I learned basics from a Buddhist instructor RT @swayneharris Do you practice any style of yoga as well? #meditation',\n",
       "       'RT @SenatorBaldwin: Proud to work alongside these women -TB RT @PattyMurray: Our first #Instagram photo! My how things have changed. #TBT h',\n",
       "       'Thanks for invite.  Very excited for @startitupde RT @coINLoftDE: @TechForumDE :: thanks for your support and a fantastic event last night!',\n",
       "       'Very smooth! RT @washdems: Chair @jaxonravens #mailedit! Make sure to mail your ballot by November 4th! #waelex https://t.co/G4WPOhuoEP',\n",
       "       '2nd that RT @CompleteZen: @simoneahall you go girl!!',\n",
       "       'thx 4 all u do! RT @StraffordCAP Thanks for the warm welcome from @RepAnnieKuster staff. #CommunityAction looks forward to working with you',\n",
       "       \"Today's announcement that Pres Obama will be shutting down his jobs council is unacceptable. Please RT if you agree. http://t.co/k9t1wrgG\",\n",
       "       'Instead of protecting Americans, the #NSA endangered Americans. RT @BloombergNews: The NSA knew for at least two years about Heartbleed.',\n",
       "       'Good being with you RT @bruceanddan: Pleased to be joined now by @RepHultgren to discuss the vote on the Keystone XL pipeline. @wlsam890',\n",
       "       'It defunds #Obamacare RT @whasnews: Sen. McConnell Urges Passage of House Continuing Resolution http://t.co/yLUCNqnZKe via @whasnews',\n",
       "       'I stand with Hobby Lobby and the right of religious freedom. RT if you agree. http://t.co/4xAC7cdtTi',\n",
       "       \"Get 2 sleep. Go 2 school. Every day greatly lived is a building block 4 a greater tomorrow RT @LoveLml I don't want to go to school tomorrow\",\n",
       "       \"Amen, prisons have so many there because they didn't get proper mental health treatment RT @SinaiSecurities: therapy, not incarceration\",\n",
       "       \"Video highlights of the work I've done and the places I've been over the last few months. RT to share! http://t.co/hqvqCKwLLp\",\n",
       "       'wha? RT @BethMcEldowney: Your sequester not his MT @RepDavid my plane pulled up to the wrong gate. Another casualty of #ObamaSequester'],\n",
       "      dtype=object)"
      ]
     },
     "execution_count": 21,
     "metadata": {},
     "output_type": "execute_result"
    }
   ],
   "source": [
    "data[data.is_quote_tweet==1].text.values"
   ]
  },
  {
   "cell_type": "code",
   "execution_count": 22,
   "metadata": {},
   "outputs": [],
   "source": [
    "punc = set(string.punctuation+'‘’…°–—“”')\n",
    "twt = TweetTokenizer()\n",
    "def tweet_tokenize(tweet):\n",
    "    tokens = twt.tokenize(tweet)\n",
    "    no_punc = [token for token in tokens if (token[0] not in punc)]\n",
    "    no_links = [token for token in no_punc if token[0:4]!='http']\n",
    "    return no_links"
   ]
  },
  {
   "cell_type": "code",
   "execution_count": 23,
   "metadata": {},
   "outputs": [],
   "source": [
    "data['clean_tokens'] = data.text.apply(tweet_tokenize)"
   ]
  },
  {
   "cell_type": "code",
   "execution_count": 41,
   "metadata": {},
   "outputs": [
    {
     "data": {
      "text/plain": [
       "array([list(['RT', 'Rep', 'Trey', 'Radel', 'R', 'slams']),\n",
       "       list(['VIDEO', 'Full', 'of', 'Higher', 'Costs', 'and', 'Broken', 'Promises']),\n",
       "       list(['Please', 'join', 'me', 'today', 'in', 'remembering', 'our', 'fallen', 'heroes', 'and', 'honoring', 'the', 'men', 'and', 'women', 'currently', 'in', 'military', 'service', 'for', 'their', 'sacrifices']),\n",
       "       list(['RT', '1st', 'step', 'toward', 'Senate', 'debate', 'on', 'Leahy-Crapo', 'bill', 'is', 'the', \"Senate's\", 'procedural', 'vote', 'today', 'at', '5:30', 'pm']),\n",
       "       list(['delivery', 'show', 'need', 'to', 'update', 'law', 'to', 'promote', 'protect', 'My', 'bill', 'does', 'that']),\n",
       "       list(['Called', 'on', 'the', 'to', 'release', 'info', 'about', 'inspections', 'before', 'the', 'to', 'review', 'quality', 'of', 'rails', '1/2']),\n",
       "       list(['help', 'us', 'keep', 'the', 'kidnapped', 'Nigerian', 'school', 'girls', 'story', 'out', 'front']),\n",
       "       list(['Show', 'your', 'Arizona', 'pride-choose', 'your', 'favorite', 'S', 'AZ', 'picture', 'for', 'my', 'Facebook', 'cover', 'photo', 'Retweet', 'to', 'spread', 'the', 'word']),\n",
       "       list(['What', 'a', 'wonderful', 'night', 'at', 'State', 'Senator', 'Ken', \"Yager's\", 'Chili', 'Supper', 'benefitting', 'the', 'Boys', 'Girls', 'Clubs', 'of', 'Roane', 'County']),\n",
       "       list(['Great', 'op-ed', 'by', 'Pres', 'Clinton', 'about', 'signing', '20', 'yrs', 'ago', 'today', 'an', 'important', 'law', 'protecting', 'workers']),\n",
       "       list(['As', 'POTUS', 'golfs', 'pushes', 'amnesty', 'ignores', 'Keystone', 'American', 'people', 'are', 'concerned', 'about', 'jobs', 'econ', 'health', 'care', 'costs']),\n",
       "       list(['The', 'President', \"doesn't\", 'get', 'to', 'just', 'decide', 'he', \"doesn't\", 'like', 'Congress', 'and', 'do', 'his', 'own', 'thing']),\n",
       "       list(['FACT', 'The', 'Recovery', 'Act', 'cut', 'taxes', 'for', 'middle-class', 'families', 'kept', 'teachers', 'in', 'the', 'classroom', 'police', 'firefighters', 'on', 'the', 'streets']),\n",
       "       list(['RT', 'Telemedicine', 'consults', 'at', 'rural', 'ERs', 'helps', 'prevent', 'prescription', 'errors', 'via', 'for']),\n",
       "       list([\"Wouldn't\", 'wish', 'that', 'on', 'anyone', 'Even', 'you', 'Skitch'])],\n",
       "      dtype=object)"
      ]
     },
     "execution_count": 41,
     "metadata": {},
     "output_type": "execute_result"
    }
   ],
   "source": [
    "data.clean_tokens.values[0:15]"
   ]
  },
  {
   "cell_type": "code",
   "execution_count": 25,
   "metadata": {},
   "outputs": [],
   "source": [
    "import gensim"
   ]
  },
  {
   "cell_type": "code",
   "execution_count": 26,
   "metadata": {},
   "outputs": [],
   "source": [
    "model = gensim.models.KeyedVectors.load_word2vec_format('data/GoogleNews-vectors-negative300.bin.gz', binary=True)"
   ]
  },
  {
   "cell_type": "code",
   "execution_count": 27,
   "metadata": {},
   "outputs": [
    {
     "data": {
      "text/plain": [
       "2.9337599839190465"
      ]
     },
     "execution_count": 27,
     "metadata": {},
     "output_type": "execute_result"
    }
   ],
   "source": [
    "model.wmdistance(data.clean_tokens.values[2], data.clean_tokens.values[3])"
   ]
  },
  {
   "cell_type": "code",
   "execution_count": 28,
   "metadata": {},
   "outputs": [],
   "source": [
    "model.init_sims(replace=True)  # Normalizes the vectors in the word2vec class."
   ]
  },
  {
   "cell_type": "code",
   "execution_count": 31,
   "metadata": {},
   "outputs": [],
   "source": [
    "data.clean_sentences = data.clean_tokens.apply(lambda x: ' '.join(x))\n",
    "sim_model = gensim.similarities.WmdSimilarity(data.clean_sentences, model, num_best=5 )"
   ]
  },
  {
   "cell_type": "code",
   "execution_count": 32,
   "metadata": {},
   "outputs": [
    {
     "name": "stdout",
     "output_type": "stream",
     "text": [
      "Please join me today in remembering our fallen heroes and honoring the men and women currently in military service for their sacrifices\n"
     ]
    }
   ],
   "source": [
    "example_sentence = data.clean_sentences[2]\n",
    "print (example_sentence)\n",
    "sims = sim_model[example_sentence]"
   ]
  },
  {
   "cell_type": "code",
   "execution_count": 40,
   "metadata": {},
   "outputs": [
    {
     "name": "stdout",
     "output_type": "stream",
     "text": [
      "similarity=1.0\n",
      "Please join me today in remembering our fallen heroes and honoring the men and women currently in military service for their sacrifices\n",
      " \n",
      "similarity=0.8589593429895833\n",
      "Ending this evening w prayers for the family of Police Chief Pimentel for the entire community of Elmendorf Their loss is our loss\n",
      " \n",
      "similarity=0.8515244817916235\n",
      "There are a lot of areas where the government can with little pain inflicted on hardworking Americans\n",
      " \n",
      "similarity=0.8482633518716841\n",
      "In 2/3 of families with children a woman is either the primary or co-breadwinner so her earnings are vital to their families\n",
      " \n",
      "similarity=0.8460228016581833\n",
      "Wishing Ginny Hildebrand from the best in retirement and grateful for her 28 years of service\n",
      " \n"
     ]
    }
   ],
   "source": [
    "for i in range(5):\n",
    "    print ('similarity={}'.format(sims[i][1]))\n",
    "    print (data.clean_sentences[sims[i][0]])\n",
    "    print (' ')"
   ]
  },
  {
   "cell_type": "code",
   "execution_count": 42,
   "metadata": {},
   "outputs": [
    {
     "name": "stdout",
     "output_type": "stream",
     "text": [
      "As POTUS golfs pushes amnesty ignores Keystone American people are concerned about jobs econ health care costs\n"
     ]
    }
   ],
   "source": [
    "example_sentence = data.clean_sentences[10]\n",
    "print (example_sentence)\n",
    "sims = sim_model[example_sentence]"
   ]
  },
  {
   "cell_type": "code",
   "execution_count": 43,
   "metadata": {},
   "outputs": [
    {
     "name": "stdout",
     "output_type": "stream",
     "text": [
      "similarity=1.0\n",
      "As POTUS golfs pushes amnesty ignores Keystone American people are concerned about jobs econ health care costs\n",
      " \n",
      "similarity=0.8399817869472328\n",
      "POTUS holds end of year presser today We'd ask if ur concerned about jobs 4 middle class why not open Atlantic coast 4 energy\n",
      " \n",
      "similarity=0.8387490565054223\n",
      "Omw to leadership press conf on actions Congress can take to make sure everyone has a watch here\n",
      " \n",
      "similarity=0.8271471792705777\n",
      "showcase features industry leaders Happy to welcome Springdale's BioBased Technologies\n",
      " \n",
      "similarity=0.8253559204665686\n",
      "Thoughts prayers are w the families of the 3 innocent Israeli teens Abbas must denounce terrorism bring those responsible to justice\n",
      " \n"
     ]
    }
   ],
   "source": [
    "for i in range(5):\n",
    "    print ('similarity={}'.format(sims[i][1]))\n",
    "    print (data.clean_sentences[sims[i][0]])\n",
    "    print (' ')"
   ]
  },
  {
   "cell_type": "code",
   "execution_count": null,
   "metadata": {},
   "outputs": [],
   "source": []
  }
 ],
 "metadata": {
  "kernelspec": {
   "display_name": "Python 3",
   "language": "python",
   "name": "python3"
  },
  "language_info": {
   "codemirror_mode": {
    "name": "ipython",
    "version": 3
   },
   "file_extension": ".py",
   "mimetype": "text/x-python",
   "name": "python",
   "nbconvert_exporter": "python",
   "pygments_lexer": "ipython3",
   "version": "3.6.4"
  }
 },
 "nbformat": 4,
 "nbformat_minor": 2
}
